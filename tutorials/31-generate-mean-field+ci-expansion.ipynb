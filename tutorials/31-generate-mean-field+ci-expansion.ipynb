{
 "cells": [
  {
   "cell_type": "markdown",
   "metadata": {},
   "source": [
    "# Generate a mean-field (orbital) and CI representation for the oxygen ground configuration"
   ]
  },
  {
   "cell_type": "code",
   "execution_count": 16,
   "metadata": {},
   "outputs": [],
   "source": [
    "using JAC"
   ]
  },
  {
   "cell_type": "markdown",
   "metadata": {},
   "source": [
    "Various *ab-initio* many-electron methods have been developed over the years to describe the level structure and properties of atoms and ions with -- more or less -- simple shell structures. These methods include configurations interaction (CI), many-body perturbation theory (MBPT), coupled-cluster (CC) theory, correlation potential (CP), the multiconfigurational Dirac-Hartree Fock (MCDF) representations and are all typically based on some *self-consistent-field* (SCF).  In JAC, we distinguish between different representations of atomic wave (and Green) functions to facilitate the access to the different methods. For the sake of convinience, we here include also the concept of a self-consistent orbital set as perhaps the most basic *representation* of atomic levels and multiplets.\n",
    "\n",
    "In this tutorial, we shall show how one can easily generate a mean-field (orbital) representation as well as a CI representation, making use of these orbitals. We shall consider the levels of the $1s^2 2s^2 2p^4$ ground configuration of oxygen as a simple but typical example and shall later extent this concept to perform a CI expansion with (virtual) excitations into the $n=3$ shells.\n",
    "\n",
    "The computations of all *atomic representations* are controlled by the `struct AtomicState.Representation` which is based on a name, nuclear model, (radial) grid as well as set of *reference configurations*. Let us first consider how such a representation is defined inernally:"
   ]
  },
  {
   "cell_type": "code",
   "execution_count": 2,
   "metadata": {},
   "outputs": [
    {
     "data": {
      "text/latex": [
       "\\texttt{struct  AtomicState.Representation}       ... a struct for defining an atomic state representation. Such representations often refer to approximate wave function approximations of         one or several levels but may concern also a mean-field basis (for some multiplet of some given configurations) or Green functions,         etc.\n",
       "\n",
       "\\begin{verbatim}\n",
       "+ name             ::String                      ... to assign a name to the given model.\n",
       "+ nuclearModel     ::Nuclear.Model               ... Model, charge and parameters of the nucleus.\n",
       "+ grid             ::Radial.Grid                 ... The radial grid to be used for the computation.\n",
       "+ refConfigs       ::Array{Configuration,1}      ... List of references configurations, at least 1.\n",
       "+ repType          ::AbstractRepresentationType  ... Specifies the particular representation.\n",
       "\\end{verbatim}\n",
       "\\rule{\\textwidth}{1pt}\n",
       "\\texttt{AtomicState.Representation()}  ... constructor for an 'empty' instance of the a variable::AtomicState.Representation\n",
       "\n",
       "\\rule{\\textwidth}{1pt}\n",
       "\\texttt{AtomicState.Representation( ... example for the generation of a mean-field basis)}  \n",
       "\n",
       "\\begin{verbatim}\n",
       "    name        = \"Oxygen 1s^2 2s^2 2p^4 ground configuration\"\n",
       "    grid        = Radial.Grid(true)\n",
       "    nuclearM    = Nuclear.Model(8.)\n",
       "    refConfigs  = [Configuration(\"[He] 2s^2 2p^4\")]\n",
       "    mfSettings  = MeanFieldSettings()\n",
       "    Representation(name, nuclearM, grid, refConfigs, MeanFieldBasis(mfSettings) )\n",
       "\\end{verbatim}\n",
       "\\texttt{AtomicState.Representation( ... example for the computation of a configuration-interaction (CI) expansion)}  \n",
       "\n",
       "\\begin{verbatim}\n",
       "    name        = \"Oxygen 1s^2 2s^2 2p^4 ground configuration\"\n",
       "    grid        = Radial.Grid(true)\n",
       "    nuclearM    = Nuclear.Model(8.)\n",
       "    refConfigs  = [Configuration(\"[He] 2s^2 2p^4\")]\n",
       "    orbitals    = wb[\"mean-field basis\"].orbitals #   get a proper set of orbitals\n",
       "    ciSettings  = CiSettings(true, false, Int64[], false, LevelSymmetry[] )\n",
       "    from        = [Shell(\"2s\")]\n",
       "    to          = [Shell(\"2s\"), Shell(\"2p\")]\n",
       "    excitations = RasStep(RasStep(), seFrom=from, seTo=to, deFrom=from, deTo=to, frozen=[Shell(\"1s\")])\n",
       "    Representation(name, nuclearM, grid, refConfigs, CiExpansion(orbitals, excitations, ciSettings) )\n",
       "\\end{verbatim}\n",
       "\\texttt{AtomicState.Representation( ... example for the computation of a restricted-active-space (RAS) expansion)}  \n",
       "\n",
       "\\begin{verbatim}\n",
       "    name        = \"Beryllium 1s^2 2s^2 ^1S_0 ground state\"\n",
       "    refConfigs  = [Configuration(\"[He] 2s^2\")]\n",
       "    rasSettings = RasSettings([1], 24, 1.0e-6, CoulombInteraction(), true, [1,2,3] )\n",
       "    from        = [Shell(\"2s\")]\n",
       "    \n",
       "    frozen      = [Shell(\"1s\")]\n",
       "    to          = [Shell(\"2s\"), Shell(\"2p\")]\n",
       "    step1       = RasStep(RasStep(), seFrom=from, seTo=deepcopy(to), deFrom=from, deTo=deepcopy(to), \n",
       "                          frozen=deepcopy(frozen))\n",
       "\n",
       "    append!(frozen, [Shell(\"2s\"), Shell(\"2p\")])\n",
       "    append!(to,     [Shell(\"3s\"), Shell(\"3p\"), Shell(\"3d\")])\n",
       "    step2       = RasStep(step1; seTo=deepcopy(to), deTo=deepcopy(to), frozen=deepcopy(frozen))\n",
       "\n",
       "    append!(frozen, [Shell(\"3s\"), Shell(\"3p\"), Shell(\"3d\")])\n",
       "    append!(to,     [Shell(\"4s\"), Shell(\"4p\"), Shell(\"4d\"), Shell(\"4f\")])\n",
       "    step3       = RasStep(step2, seTo=deepcopy(to), deTo=deepcopy(to), frozen=deepcopy(frozen))\n",
       "\n",
       "    Representation(name, Nuclear.Model(4.), Radial.Grid(true), refConfigs, \n",
       "                   RasExpansion(LevelSymmetry(0, Basics.plus), 4, [step1, step2, step3], rasSettings) )\n",
       "\\end{verbatim}\n",
       "\\texttt{AtomicState.Representation( ... example for the computation of Green(function) expansion)}  \n",
       "\n",
       "\\begin{verbatim}\n",
       "    name            = \"Lithium 1s^2 2s ground configuration\"\n",
       "    refConfigs      = [Configuration(\"[He] 2s\")]\n",
       "    levelSymmetries = [LevelSymmetry(1//2, Basics.plus), LevelSymmetry(3//2, Basics.plus)]\n",
       "    greenSettings   = GreenSettings(5, [0, 1, 2], 0.01, true, false, Int64[])\n",
       "    Representation(name, Nuclear.Model(8.), Radial.Grid(true), refConfigs, \n",
       "                   GreenExpansion( AtomicState.DampedSpaceCI(), Basics.DeExciteSingleElectron(), \n",
       "                   levelSymmetries, 3, greenSettings) ) \n",
       "                   \n",
       "... These simple examples can be further improved by overwriting the corresponding parameters.\n",
       "\\end{verbatim}\n"
      ],
      "text/markdown": [
       "`struct  AtomicState.Representation`       ... a struct for defining an atomic state representation. Such representations often refer to approximate wave function approximations of         one or several levels but may concern also a mean-field basis (for some multiplet of some given configurations) or Green functions,         etc.\n",
       "\n",
       "```\n",
       "+ name             ::String                      ... to assign a name to the given model.\n",
       "+ nuclearModel     ::Nuclear.Model               ... Model, charge and parameters of the nucleus.\n",
       "+ grid             ::Radial.Grid                 ... The radial grid to be used for the computation.\n",
       "+ refConfigs       ::Array{Configuration,1}      ... List of references configurations, at least 1.\n",
       "+ repType          ::AbstractRepresentationType  ... Specifies the particular representation.\n",
       "```\n",
       "\n",
       "---\n",
       "\n",
       "`AtomicState.Representation()`  ... constructor for an 'empty' instance of the a variable::AtomicState.Representation\n",
       "\n",
       "---\n",
       "\n",
       "`AtomicState.Representation( ... example for the generation of a mean-field basis)`  \n",
       "\n",
       "```\n",
       "    name        = \"Oxygen 1s^2 2s^2 2p^4 ground configuration\"\n",
       "    grid        = Radial.Grid(true)\n",
       "    nuclearM    = Nuclear.Model(8.)\n",
       "    refConfigs  = [Configuration(\"[He] 2s^2 2p^4\")]\n",
       "    mfSettings  = MeanFieldSettings()\n",
       "    Representation(name, nuclearM, grid, refConfigs, MeanFieldBasis(mfSettings) )\n",
       "```\n",
       "\n",
       "`AtomicState.Representation( ... example for the computation of a configuration-interaction (CI) expansion)`  \n",
       "\n",
       "```\n",
       "    name        = \"Oxygen 1s^2 2s^2 2p^4 ground configuration\"\n",
       "    grid        = Radial.Grid(true)\n",
       "    nuclearM    = Nuclear.Model(8.)\n",
       "    refConfigs  = [Configuration(\"[He] 2s^2 2p^4\")]\n",
       "    orbitals    = wb[\"mean-field basis\"].orbitals #   get a proper set of orbitals\n",
       "    ciSettings  = CiSettings(true, false, Int64[], false, LevelSymmetry[] )\n",
       "    from        = [Shell(\"2s\")]\n",
       "    to          = [Shell(\"2s\"), Shell(\"2p\")]\n",
       "    excitations = RasStep(RasStep(), seFrom=from, seTo=to, deFrom=from, deTo=to, frozen=[Shell(\"1s\")])\n",
       "    Representation(name, nuclearM, grid, refConfigs, CiExpansion(orbitals, excitations, ciSettings) )\n",
       "```\n",
       "\n",
       "`AtomicState.Representation( ... example for the computation of a restricted-active-space (RAS) expansion)`  \n",
       "\n",
       "```\n",
       "    name        = \"Beryllium 1s^2 2s^2 ^1S_0 ground state\"\n",
       "    refConfigs  = [Configuration(\"[He] 2s^2\")]\n",
       "    rasSettings = RasSettings([1], 24, 1.0e-6, CoulombInteraction(), true, [1,2,3] )\n",
       "    from        = [Shell(\"2s\")]\n",
       "    \n",
       "    frozen      = [Shell(\"1s\")]\n",
       "    to          = [Shell(\"2s\"), Shell(\"2p\")]\n",
       "    step1       = RasStep(RasStep(), seFrom=from, seTo=deepcopy(to), deFrom=from, deTo=deepcopy(to), \n",
       "                          frozen=deepcopy(frozen))\n",
       "\n",
       "    append!(frozen, [Shell(\"2s\"), Shell(\"2p\")])\n",
       "    append!(to,     [Shell(\"3s\"), Shell(\"3p\"), Shell(\"3d\")])\n",
       "    step2       = RasStep(step1; seTo=deepcopy(to), deTo=deepcopy(to), frozen=deepcopy(frozen))\n",
       "\n",
       "    append!(frozen, [Shell(\"3s\"), Shell(\"3p\"), Shell(\"3d\")])\n",
       "    append!(to,     [Shell(\"4s\"), Shell(\"4p\"), Shell(\"4d\"), Shell(\"4f\")])\n",
       "    step3       = RasStep(step2, seTo=deepcopy(to), deTo=deepcopy(to), frozen=deepcopy(frozen))\n",
       "\n",
       "    Representation(name, Nuclear.Model(4.), Radial.Grid(true), refConfigs, \n",
       "                   RasExpansion(LevelSymmetry(0, Basics.plus), 4, [step1, step2, step3], rasSettings) )\n",
       "```\n",
       "\n",
       "`AtomicState.Representation( ... example for the computation of Green(function) expansion)`  \n",
       "\n",
       "```\n",
       "    name            = \"Lithium 1s^2 2s ground configuration\"\n",
       "    refConfigs      = [Configuration(\"[He] 2s\")]\n",
       "    levelSymmetries = [LevelSymmetry(1//2, Basics.plus), LevelSymmetry(3//2, Basics.plus)]\n",
       "    greenSettings   = GreenSettings(5, [0, 1, 2], 0.01, true, false, Int64[])\n",
       "    Representation(name, Nuclear.Model(8.), Radial.Grid(true), refConfigs, \n",
       "                   GreenExpansion( AtomicState.DampedSpaceCI(), Basics.DeExciteSingleElectron(), \n",
       "                   levelSymmetries, 3, greenSettings) ) \n",
       "                   \n",
       "... These simple examples can be further improved by overwriting the corresponding parameters.\n",
       "```\n"
      ],
      "text/plain": [
       "  \u001b[36mstruct AtomicState.Representation\u001b[39m ... a struct for defining an atomic state\n",
       "  representation. Such representations often refer to approximate wave\n",
       "  function approximations of one or several levels but may concern also a\n",
       "  mean-field basis (for some multiplet of some given configurations) or Green\n",
       "  functions, etc.\n",
       "\n",
       "\u001b[36m  + name             ::String                      ... to assign a name to the given model.\u001b[39m\n",
       "\u001b[36m  + nuclearModel     ::Nuclear.Model               ... Model, charge and parameters of the nucleus.\u001b[39m\n",
       "\u001b[36m  + grid             ::Radial.Grid                 ... The radial grid to be used for the computation.\u001b[39m\n",
       "\u001b[36m  + refConfigs       ::Array{Configuration,1}      ... List of references configurations, at least 1.\u001b[39m\n",
       "\u001b[36m  + repType          ::AbstractRepresentationType  ... Specifies the particular representation.\u001b[39m\n",
       "\n",
       "  ────────────────────────────────────────────────────────────────────────────\n",
       "\n",
       "  \u001b[36mAtomicState.Representation()\u001b[39m ... constructor for an 'empty' instance of the\n",
       "  a variable::AtomicState.Representation\n",
       "\n",
       "  ────────────────────────────────────────────────────────────────────────────\n",
       "\n",
       "  \u001b[36mAtomicState.Representation( ... example for the generation of a mean-field\n",
       "  basis)\u001b[39m\n",
       "\n",
       "\u001b[36m      name        = \"Oxygen 1s^2 2s^2 2p^4 ground configuration\"\u001b[39m\n",
       "\u001b[36m      grid        = Radial.Grid(true)\u001b[39m\n",
       "\u001b[36m      nuclearM    = Nuclear.Model(8.)\u001b[39m\n",
       "\u001b[36m      refConfigs  = [Configuration(\"[He] 2s^2 2p^4\")]\u001b[39m\n",
       "\u001b[36m      mfSettings  = MeanFieldSettings()\u001b[39m\n",
       "\u001b[36m      Representation(name, nuclearM, grid, refConfigs, MeanFieldBasis(mfSettings) )\u001b[39m\n",
       "\n",
       "  \u001b[36mAtomicState.Representation( ... example for the computation of a\n",
       "  configuration-interaction (CI) expansion)\u001b[39m\n",
       "\n",
       "\u001b[36m      name        = \"Oxygen 1s^2 2s^2 2p^4 ground configuration\"\u001b[39m\n",
       "\u001b[36m      grid        = Radial.Grid(true)\u001b[39m\n",
       "\u001b[36m      nuclearM    = Nuclear.Model(8.)\u001b[39m\n",
       "\u001b[36m      refConfigs  = [Configuration(\"[He] 2s^2 2p^4\")]\u001b[39m\n",
       "\u001b[36m      orbitals    = wb[\"mean-field basis\"].orbitals #   get a proper set of orbitals\u001b[39m\n",
       "\u001b[36m      ciSettings  = CiSettings(true, false, Int64[], false, LevelSymmetry[] )\u001b[39m\n",
       "\u001b[36m      from        = [Shell(\"2s\")]\u001b[39m\n",
       "\u001b[36m      to          = [Shell(\"2s\"), Shell(\"2p\")]\u001b[39m\n",
       "\u001b[36m      excitations = RasStep(RasStep(), seFrom=from, seTo=to, deFrom=from, deTo=to, frozen=[Shell(\"1s\")])\u001b[39m\n",
       "\u001b[36m      Representation(name, nuclearM, grid, refConfigs, CiExpansion(orbitals, excitations, ciSettings) )\u001b[39m\n",
       "\n",
       "  \u001b[36mAtomicState.Representation( ... example for the computation of a\n",
       "  restricted-active-space (RAS) expansion)\u001b[39m\n",
       "\n",
       "\u001b[36m      name        = \"Beryllium 1s^2 2s^2 ^1S_0 ground state\"\u001b[39m\n",
       "\u001b[36m      refConfigs  = [Configuration(\"[He] 2s^2\")]\u001b[39m\n",
       "\u001b[36m      rasSettings = RasSettings([1], 24, 1.0e-6, CoulombInteraction(), true, [1,2,3] )\u001b[39m\n",
       "\u001b[36m      from        = [Shell(\"2s\")]\u001b[39m\n",
       "\u001b[36m      \u001b[39m\n",
       "\u001b[36m      frozen      = [Shell(\"1s\")]\u001b[39m\n",
       "\u001b[36m      to          = [Shell(\"2s\"), Shell(\"2p\")]\u001b[39m\n",
       "\u001b[36m      step1       = RasStep(RasStep(), seFrom=from, seTo=deepcopy(to), deFrom=from, deTo=deepcopy(to), \u001b[39m\n",
       "\u001b[36m                            frozen=deepcopy(frozen))\u001b[39m\n",
       "\u001b[36m  \u001b[39m\n",
       "\u001b[36m      append!(frozen, [Shell(\"2s\"), Shell(\"2p\")])\u001b[39m\n",
       "\u001b[36m      append!(to,     [Shell(\"3s\"), Shell(\"3p\"), Shell(\"3d\")])\u001b[39m\n",
       "\u001b[36m      step2       = RasStep(step1; seTo=deepcopy(to), deTo=deepcopy(to), frozen=deepcopy(frozen))\u001b[39m\n",
       "\u001b[36m  \u001b[39m\n",
       "\u001b[36m      append!(frozen, [Shell(\"3s\"), Shell(\"3p\"), Shell(\"3d\")])\u001b[39m\n",
       "\u001b[36m      append!(to,     [Shell(\"4s\"), Shell(\"4p\"), Shell(\"4d\"), Shell(\"4f\")])\u001b[39m\n",
       "\u001b[36m      step3       = RasStep(step2, seTo=deepcopy(to), deTo=deepcopy(to), frozen=deepcopy(frozen))\u001b[39m\n",
       "\u001b[36m  \u001b[39m\n",
       "\u001b[36m      Representation(name, Nuclear.Model(4.), Radial.Grid(true), refConfigs, \u001b[39m\n",
       "\u001b[36m                     RasExpansion(LevelSymmetry(0, Basics.plus), 4, [step1, step2, step3], rasSettings) )\u001b[39m\n",
       "\n",
       "  \u001b[36mAtomicState.Representation( ... example for the computation of\n",
       "  Green(function) expansion)\u001b[39m\n",
       "\n",
       "\u001b[36m      name            = \"Lithium 1s^2 2s ground configuration\"\u001b[39m\n",
       "\u001b[36m      refConfigs      = [Configuration(\"[He] 2s\")]\u001b[39m\n",
       "\u001b[36m      levelSymmetries = [LevelSymmetry(1//2, Basics.plus), LevelSymmetry(3//2, Basics.plus)]\u001b[39m\n",
       "\u001b[36m      greenSettings   = GreenSettings(5, [0, 1, 2], 0.01, true, false, Int64[])\u001b[39m\n",
       "\u001b[36m      Representation(name, Nuclear.Model(8.), Radial.Grid(true), refConfigs, \u001b[39m\n",
       "\u001b[36m                     GreenExpansion( AtomicState.DampedSpaceCI(), Basics.DeExciteSingleElectron(), \u001b[39m\n",
       "\u001b[36m                     levelSymmetries, 3, greenSettings) ) \u001b[39m\n",
       "\u001b[36m                     \u001b[39m\n",
       "\u001b[36m  ... These simple examples can be further improved by overwriting the corresponding parameters.\u001b[39m"
      ]
     },
     "execution_count": 2,
     "metadata": {},
     "output_type": "execute_result"
    }
   ],
   "source": [
    "? AtomicState.Representation"
   ]
  },
  {
   "cell_type": "markdown",
   "metadata": {},
   "source": [
    "The particular choice of an atomic representation is made by the `repType::AbstractRepresentationType` which presently may take the following parameters:"
   ]
  },
  {
   "cell_type": "code",
   "execution_count": 3,
   "metadata": {},
   "outputs": [
    {
     "data": {
      "text/latex": [
       "\\texttt{abstract type AtomicState.AbstractRepresentationType}      ... defines an abstract type and a number of data types to work with and distinguish different atomic representations; see also:\n",
       "\n",
       "\\begin{verbatim}\n",
       "+ struct MeanFieldBasis       ... to represent (and generate) a mean-field basis and, especially, a set of \n",
       "                                  (mean-field) orbitals.\n",
       "+ struct OneElectronSpectrum  ... to represent (and generate) a one-electron spectrum for the mean-field \n",
       "                                  potential of refConfigs.\n",
       "+ struct CiExpansion          ... to represent (and generate) a configuration-interaction representation.\n",
       "+ struct RasExpansion         ... to represent (and generate) a restricted active-space representation.\n",
       "+ struct GreenExpansion       ... to represent (and generate) an approximate (many-electron) Green functions.\n",
       "\\end{verbatim}\n"
      ],
      "text/markdown": [
       "`abstract type AtomicState.AbstractRepresentationType`      ... defines an abstract type and a number of data types to work with and distinguish different atomic representations; see also:\n",
       "\n",
       "```\n",
       "+ struct MeanFieldBasis       ... to represent (and generate) a mean-field basis and, especially, a set of \n",
       "                                  (mean-field) orbitals.\n",
       "+ struct OneElectronSpectrum  ... to represent (and generate) a one-electron spectrum for the mean-field \n",
       "                                  potential of refConfigs.\n",
       "+ struct CiExpansion          ... to represent (and generate) a configuration-interaction representation.\n",
       "+ struct RasExpansion         ... to represent (and generate) a restricted active-space representation.\n",
       "+ struct GreenExpansion       ... to represent (and generate) an approximate (many-electron) Green functions.\n",
       "```\n"
      ],
      "text/plain": [
       "  \u001b[36mabstract type AtomicState.AbstractRepresentationType\u001b[39m ... defines an abstract\n",
       "  type and a number of data types to work with and distinguish different\n",
       "  atomic representations; see also:\n",
       "\n",
       "\u001b[36m  + struct MeanFieldBasis       ... to represent (and generate) a mean-field basis and, especially, a set of \u001b[39m\n",
       "\u001b[36m                                    (mean-field) orbitals.\u001b[39m\n",
       "\u001b[36m  + struct OneElectronSpectrum  ... to represent (and generate) a one-electron spectrum for the mean-field \u001b[39m\n",
       "\u001b[36m                                    potential of refConfigs.\u001b[39m\n",
       "\u001b[36m  + struct CiExpansion          ... to represent (and generate) a configuration-interaction representation.\u001b[39m\n",
       "\u001b[36m  + struct RasExpansion         ... to represent (and generate) a restricted active-space representation.\u001b[39m\n",
       "\u001b[36m  + struct GreenExpansion       ... to represent (and generate) an approximate (many-electron) Green functions.\u001b[39m"
      ]
     },
     "execution_count": 3,
     "metadata": {},
     "output_type": "execute_result"
    }
   ],
   "source": [
    "? AtomicState.AbstractRepresentationType"
   ]
  },
  {
   "cell_type": "markdown",
   "metadata": {},
   "source": [
    "Since this is an *abstract type*, we must always specify on of the explicit types together with its parameters as, for instance, a `MeanFieldBasis`, and which is purely determined by its settings:"
   ]
  },
  {
   "cell_type": "code",
   "execution_count": 4,
   "metadata": {},
   "outputs": [
    {
     "name": "stdout",
     "output_type": "stream",
     "text": [
      "search: \u001b[0m\u001b[1mM\u001b[22m\u001b[0m\u001b[1me\u001b[22m\u001b[0m\u001b[1ma\u001b[22m\u001b[0m\u001b[1mn\u001b[22m\u001b[0m\u001b[1mF\u001b[22m\u001b[0m\u001b[1mi\u001b[22m\u001b[0m\u001b[1me\u001b[22m\u001b[0m\u001b[1ml\u001b[22m\u001b[0m\u001b[1md\u001b[22m\u001b[0m\u001b[1mB\u001b[22m\u001b[0m\u001b[1ma\u001b[22m\u001b[0m\u001b[1ms\u001b[22m\u001b[0m\u001b[1mi\u001b[22m\u001b[0m\u001b[1ms\u001b[22m\n",
      "\n"
     ]
    },
    {
     "data": {
      "text/latex": [
       "\\texttt{struct  AtomicState.MeanFieldBasis  <:  AbstractRepresentationType}       ... a struct to represent (and generate) a mean-field orbital basis.\n",
       "\n",
       "\\begin{verbatim}\n",
       "+ settings         ::AtomicState.MeanFieldSettings      ... Settings for the given mean-field orbital basis\n",
       "\\end{verbatim}\n"
      ],
      "text/markdown": [
       "`struct  AtomicState.MeanFieldBasis  <:  AbstractRepresentationType`       ... a struct to represent (and generate) a mean-field orbital basis.\n",
       "\n",
       "```\n",
       "+ settings         ::AtomicState.MeanFieldSettings      ... Settings for the given mean-field orbital basis\n",
       "```\n"
      ],
      "text/plain": [
       "  \u001b[36mstruct AtomicState.MeanFieldBasis <: AbstractRepresentationType\u001b[39m ... a struct\n",
       "  to represent (and generate) a mean-field orbital basis.\n",
       "\n",
       "\u001b[36m  + settings         ::AtomicState.MeanFieldSettings      ... Settings for the given mean-field orbital basis\u001b[39m"
      ]
     },
     "execution_count": 4,
     "metadata": {},
     "output_type": "execute_result"
    }
   ],
   "source": [
    "? MeanFieldBasis"
   ]
  },
  {
   "cell_type": "code",
   "execution_count": 5,
   "metadata": {},
   "outputs": [
    {
     "data": {
      "text/latex": [
       "\\texttt{struct  AtomicState.MeanFieldSettings}       ... a struct for defining the settings for a mean-field basis (orbital) representation.\n",
       "\n",
       "\\begin{verbatim}\n",
       "+ scField           ::AbstractScField   \n",
       "    ... Specify the (mean) self-consistent field as DFSField() or HSField(); note that not all AbstractScField's \n",
       "        allowed here.\n",
       "\\end{verbatim}\n",
       "\\rule{\\textwidth}{1pt}\n",
       "\\texttt{AtomicState.MeanFieldSettings()}  ... constructor for setting the default values.\n",
       "\n"
      ],
      "text/markdown": [
       "`struct  AtomicState.MeanFieldSettings`       ... a struct for defining the settings for a mean-field basis (orbital) representation.\n",
       "\n",
       "```\n",
       "+ scField           ::AbstractScField   \n",
       "    ... Specify the (mean) self-consistent field as DFSField() or HSField(); note that not all AbstractScField's \n",
       "        allowed here.\n",
       "```\n",
       "\n",
       "---\n",
       "\n",
       "`AtomicState.MeanFieldSettings()`  ... constructor for setting the default values.\n"
      ],
      "text/plain": [
       "  \u001b[36mstruct AtomicState.MeanFieldSettings\u001b[39m ... a struct for defining the settings\n",
       "  for a mean-field basis (orbital) representation.\n",
       "\n",
       "\u001b[36m  + scField           ::AbstractScField   \u001b[39m\n",
       "\u001b[36m      ... Specify the (mean) self-consistent field as DFSField() or HSField(); note that not all AbstractScField's \u001b[39m\n",
       "\u001b[36m          allowed here.\u001b[39m\n",
       "\n",
       "  ────────────────────────────────────────────────────────────────────────────\n",
       "\n",
       "  \u001b[36mAtomicState.MeanFieldSettings()\u001b[39m ... constructor for setting the default\n",
       "  values."
      ]
     },
     "execution_count": 5,
     "metadata": {},
     "output_type": "execute_result"
    }
   ],
   "source": [
    "? AtomicState.MeanFieldSettings"
   ]
  },
  {
   "cell_type": "markdown",
   "metadata": {},
   "source": [
    "With this background, we can now readily compute a mean-field (orbital) basis for the oxygen ground configuration by:"
   ]
  },
  {
   "cell_type": "code",
   "execution_count": 6,
   "metadata": {},
   "outputs": [
    {
     "data": {
      "text/plain": [
       "scField:                  JAC.Basics.DFSField()  \n"
      ]
     },
     "execution_count": 6,
     "metadata": {},
     "output_type": "execute_result"
    }
   ],
   "source": [
    "name        = \"Oxygen 1s^2 2s^2 2p^4 ground configuration\"\n",
    "refConfigs  = [Configuration(\"[He] 2s^2 2p^4\")]\n",
    "mfSettings  = MeanFieldSettings()"
   ]
  },
  {
   "cell_type": "code",
   "execution_count": 7,
   "metadata": {
    "scrolled": true
   },
   "outputs": [
    {
     "data": {
      "text/plain": [
       "Atomic representation:   Oxygen 1s^2 2s^2 2p^4 ground configuration for Z = 8.0 and with reference configurations: \n",
       "   1s^2 2s^2 2p^4 ,  \n",
       "representation type:   Mean-field orbital basis for a JAC.Basics.DFSField() SCF field:\n",
       "  \n",
       "nuclearModel:          Fermi nuclear model for Z = 8.0 with mass = 16.32, radius R = 2.6905393158807427 fm and nuclear spin I = 0, dipole moment mu = 0.0 and quadrupole moment Q = 0.0.  \n",
       "grid:                  Radial grid:  rnt = 2.0e-6,  h = 0.05,  hp = 0.0,  NoPoints = 392,  ntL = 69,  ntS = 71, orderL = 7,  orderS = 8,  nsL = 62,  nsS = 63,  mesh = JAC.Radial.MeshGL(), ...  \n",
       "r:    [1.780504510281598e-8, 9.042759120177923e-8, 2.0787030685460475e-7]  ...  [564.4302351890452, 595.097239730825, 614.0606632064549]\n",
       "wr:   [4.530145586285996e-8, 9.785739473901763e-8, 1.3358660616640612e-7]  ...  [34.882547080539766, 25.552825070730517, 11.829256033233948]\n",
       "tS:   [0.0, 0.0, 0.0]  ...  [618.7099715607404, 618.7099715607404, 618.7099715607404]  \n"
      ]
     },
     "execution_count": 7,
     "metadata": {},
     "output_type": "execute_result"
    }
   ],
   "source": [
    "wa          = Representation(name, Nuclear.Model(8.), Radial.Grid(true), refConfigs, MeanFieldBasis(mfSettings) )"
   ]
  },
  {
   "cell_type": "markdown",
   "metadata": {},
   "source": [
    "In JAC, an atomic representation is always *generate*'d:"
   ]
  },
  {
   "cell_type": "code",
   "execution_count": 8,
   "metadata": {
    "scrolled": true
   },
   "outputs": [
    {
     "name": "stdout",
     "output_type": "stream",
     "text": [
      "\n",
      "... in performSCF ...\n",
      ">> include Configuration: 1s_1/2^2 2s_1/2^2 2p_1/2^0 2p_3/2^4 \n",
      ">> include Configuration: 1s_1/2^2 2s_1/2^2 2p_1/2^1 2p_3/2^3 \n",
      ">> include Configuration: 1s_1/2^2 2s_1/2^2 2p_1/2^2 2p_3/2^2 \n",
      "(Re-) Define a new standard subshell list.\n",
      "Start SCF process with hydrogenic orbitals.\n",
      ">> (Re-) Define a storage array for various B-spline matrices:\n",
      "Nuclear model = Fermi nuclear model for Z = 8.0 with mass = 16.32, radius R = 2.6905393158807427 fm and nuclear spin I = 0, dipole moment mu = 0.0 and quadrupole moment Q = 0.0. \n",
      "Generate hydrogenic orbital for subshell 1s_1/2 \n",
      "  -----------------------------------------------------------------------------\n",
      "   Index    Subshell     Energies [a.u.]    Dirac-E  [a.u.]     Delta-E / |E|    \n",
      "  -----------------------------------------------------------------------------\n",
      "      1      1s_1/2      -3.20273042e+01    -3.20273113e+01    +2.19887367e-07    \n",
      "      2      2s_1/2      -8.00853628e+00    -8.00853549e+00    -9.77892436e-08    \n",
      "      3      3s_1/2      -3.55862915e+00    -3.55858988e+00    -1.10341288e-05    \n",
      "      4      4s_1/2      -2.00152544e+00    -2.00138659e+00    -6.93725619e-05    \n",
      "      5      5s_1/2      -1.28111925e+00    -1.28074263e+00    -2.93980966e-04    \n",
      "      6      6s_1/2      -9.07096927e-01    -8.89331258e-01    -1.95851940e-02    \n",
      "      7      7s_1/2      -8.85308260e-01    -6.53345470e-01    -2.62013584e-01    \n",
      "      8      8s_1/2      -6.53722394e-01    -5.00193270e-01    -2.34853702e-01    \n",
      "      9      9s_1/2      -4.89445832e-01    -3.95199023e-01    -1.92558200e-01    \n",
      "     10     10s_1/2      -3.61155375e-01    -3.20100995e-01    -1.13675118e-01    \n",
      "     11     11s_1/2      -2.61916715e-01    -2.64539246e-01    +1.00128447e-02    \n",
      "     12     12s_1/2      -1.87997827e-01    -2.22281456e-01    +1.82361833e-01    \n",
      "     13     13s_1/2      -1.34221028e-01    -1.89395939e-01    +4.11075017e-01    \n",
      "     14     14s_1/2      -9.56608462e-02    -1.63302962e-01    +7.07103461e-01    \n",
      "     15     15s_1/2      -6.83384652e-02    -1.42252953e-01    +1.08159420e+00    \n",
      "     16     16s_1/2      -4.92390930e-02    -1.25025404e-01    +1.53914921e+00    \n",
      "     17     17s_1/2      -3.61108273e-02    -1.10747884e-01    +2.06688859e+00    \n",
      "     18     18s_1/2      -2.72444909e-02    -9.87833713e-02    +2.62581087e+00    \n",
      "     19     19s_1/2      -2.13394113e-02    -8.86579472e-02    +3.15465759e+00    \n",
      "     20     20s_1/2      -1.74408915e-02    -8.00131343e-02    +3.58767458e+00    \n",
      "     21     21s_1/2      -1.48710569e-02    -7.25737252e-02    +3.88019955e+00    \n",
      "     22     22s_1/2      -1.33193592e-02    -6.61256053e-02    +3.96462361e+00    \n",
      "     23     23s_1/2      +1.20322506e+00    -6.05001731e-02    +1.05028168e+00    \n",
      "     24     24s_1/2      +8.49010369e+00    -5.55632056e-02    +1.00654447e+00    \n",
      "     25     25s_1/2      +2.80175342e+01    -5.12067770e-02    +1.00182767e+00    \n",
      "     26     26s_1/2      +7.42024207e+01    -4.73433100e-02    +1.00063803e+00    \n",
      "     27     27s_1/2      +1.76239562e+02    -4.39011397e-02    +1.00024910e+00    \n",
      "     28     28s_1/2      +3.92482776e+02    -4.08211662e-02    +1.00010401e+00    \n",
      "     29     29s_1/2      +8.36949523e+02    -3.80543007e-02    +1.00004547e+00    \n",
      "     30     30s_1/2      +1.72324286e+03    -3.55594976e-02    +1.00002064e+00    \n",
      "     31     31s_1/2      +3.42481998e+03    -3.33022229e-02    +1.00000972e+00    \n",
      "     32     32s_1/2      +6.53142135e+03    -3.12532533e-02    +1.00000479e+00    \n",
      "     33     33s_1/2      +1.18693424e+04    -2.93877252e-02    +1.00000248e+00    \n",
      "     34     34s_1/2      +2.04966005e+04    -2.76843770e-02    +1.00000135e+00    \n",
      "     35     35s_1/2      +3.37559866e+04    -2.61249405e-02    +1.00000077e+00    \n",
      "     36     36s_1/2      +5.34429196e+04    -2.46936490e-02    +1.00000046e+00    \n",
      "     37     37s_1/2      +8.20774208e+04    -2.33768375e-02    +1.00000028e+00    \n",
      "     38     38s_1/2      +1.23256060e+05    -2.21626149e-02    +1.00000018e+00    \n",
      "      :       :    \n",
      "     55     55s_1/2      +6.32274791e+07    -1.05791595e-02    +1.00000000e+00    \n",
      "     56     56s_1/2      +9.50141339e+07    -1.02046949e-02    +1.00000000e+00    \n",
      "     57     57s_1/2      +1.47965844e+08    -9.84976604e-03    +1.00000000e+00    \n",
      "     58     58s_1/2      +2.43078335e+08    -9.51303737e-03    +1.00000000e+00    \n",
      "     59     59s_1/2      +4.54471103e+08    -9.19328544e-03    +1.00000000e+00    \n",
      "     60     60s_1/2      +1.07331280e+09    -8.88938793e-03    +1.00000000e+00    \n",
      "  -----------------------------------------------------------------------------\n",
      ">> Use hydrogenic orbital from this symmetry block also for 1s_1/2.\n",
      ">> Use hydrogenic orbital from this symmetry block also for 2s_1/2.\n",
      "Generate hydrogenic orbital for subshell 2p_1/2 \n",
      "  -----------------------------------------------------------------------------\n",
      "   Index    Subshell     Energies [a.u.]    Dirac-E  [a.u.]     Delta-E / |E|    \n",
      "  -----------------------------------------------------------------------------\n",
      "      1      2p_1/2      -8.00853588e+00    -8.00853549e+00    -4.75773596e-08    \n",
      "      2      3p_1/2      -3.55860352e+00    -3.55858988e+00    -3.83150632e-06    \n",
      "      3      4p_1/2      -2.00142216e+00    -2.00138659e+00    -1.77698015e-05    \n",
      "      4      5p_1/2      -1.28084291e+00    -1.28074263e+00    -7.82921969e-05    \n",
      "      5      6p_1/2      -8.89800464e-01    -8.89331258e-01    -5.27316809e-04    \n",
      "      6      7p_1/2      -6.52075575e-01    -6.53345470e-01    +1.94746649e-03    \n",
      "      7      8p_1/2      -6.26527148e-01    -5.00193270e-01    -2.01641506e-01    \n",
      "      8      9p_1/2      -4.86458579e-01    -3.95199023e-01    -1.87599849e-01    \n",
      "      9     10p_1/2      -3.58801571e-01    -3.20100995e-01    -1.07860666e-01    \n",
      "     10     11p_1/2      -2.60523843e-01    -2.64539246e-01    +1.54128067e-02    \n",
      "     11     12p_1/2      -1.87251919e-01    -2.22281456e-01    +1.87071710e-01    \n",
      "     12     13p_1/2      -1.33836575e-01    -1.89395939e-01    +4.15128403e-01    \n",
      "     13     14p_1/2      -9.54659966e-02    -1.63302962e-01    +7.10587722e-01    \n",
      "     14     15p_1/2      -6.82402558e-02    -1.42252953e-01    +1.08458997e+00    \n",
      "     15     16p_1/2      -4.91892721e-02    -1.25025404e-01    +1.54172097e+00    \n",
      "     16     17p_1/2      -3.60849946e-02    -1.10747884e-01    +2.06908412e+00    \n",
      "     17     18p_1/2      -2.72305978e-02    -9.87833713e-02    +2.62766077e+00    \n",
      "     18     19p_1/2      -2.13315904e-02    -8.86579472e-02    +3.15618083e+00    \n",
      "     19     20p_1/2      -1.74362584e-02    -8.00131343e-02    +3.58889359e+00    \n",
      "     20     21p_1/2      -1.48681008e-02    -7.25737252e-02    +3.88116985e+00    \n",
      "     21     22p_1/2      -1.33178729e-02    -6.61256053e-02    +3.96517770e+00    \n",
      "     22     23p_1/2      +1.25105027e+00    -6.05001731e-02    +1.04835951e+00    \n",
      "     23     24p_1/2      +7.49901267e+00    -5.55632056e-02    +1.00740940e+00    \n",
      "     24     25p_1/2      +2.31550213e+01    -5.12067770e-02    +1.00221148e+00    \n",
      "     25     26p_1/2      +5.86093386e+01    -4.73433100e-02    +1.00080778e+00    \n",
      "     26     27p_1/2      +1.35110153e+02    -4.39011397e-02    +1.00032493e+00    \n",
      "     27     28p_1/2      +2.95429556e+02    -4.08211662e-02    +1.00013818e+00    \n",
      "     28     29p_1/2      +6.23876708e+02    -3.80543007e-02    +1.00006100e+00    \n",
      "     29     30p_1/2      +1.28127483e+03    -3.55594976e-02    +1.00002775e+00    \n",
      "     30     31p_1/2      +2.55810402e+03    -3.33022229e-02    +1.00001302e+00    \n",
      "     31     32p_1/2      +4.93595423e+03    -3.12532533e-02    +1.00000633e+00    \n",
      "     32     33p_1/2      +9.12724104e+03    -2.93877252e-02    +1.00000322e+00    \n",
      "     33     34p_1/2      +1.60758661e+04    -2.76843770e-02    +1.00000172e+00    \n",
      "     34     35p_1/2      +2.69716859e+04    -2.61249405e-02    +1.00000097e+00    \n",
      "     35     36p_1/2      +4.33613074e+04    -2.46936490e-02    +1.00000057e+00    \n",
      "     36     37p_1/2      +6.73705683e+04    -2.33768375e-02    +1.00000035e+00    \n",
      "     37     38p_1/2      +1.02013878e+05    -2.21626149e-02    +1.00000022e+00    \n",
      "     38     39p_1/2      +1.51599140e+05    -2.10405951e-02    +1.00000014e+00    \n",
      "      :       :    \n",
      "     55     56p_1/2      +7.44108644e+07    -1.02046949e-02    +1.00000000e+00    \n",
      "     56     57p_1/2      +1.11955805e+08    -9.84976604e-03    +1.00000000e+00    \n",
      "     57     58p_1/2      +1.74291617e+08    -9.51303737e-03    +1.00000000e+00    \n",
      "     58     59p_1/2      +2.87633180e+08    -9.19328544e-03    +1.00000000e+00    \n",
      "     59     60p_1/2      +5.37582761e+08    -8.88938793e-03    +1.00000000e+00    \n",
      "     60     61p_1/2      +1.26787284e+09    -8.60031375e-03    +1.00000000e+00    \n",
      "  -----------------------------------------------------------------------------\n",
      ">> Use hydrogenic orbital from this symmetry block also for 2p_1/2.\n",
      "Generate hydrogenic orbital for subshell 2p_3/2 \n",
      "  -----------------------------------------------------------------------------\n",
      "   Index    Subshell     Energies [a.u.]    Dirac-E  [a.u.]     Delta-E / |E|    \n",
      "  -----------------------------------------------------------------------------\n",
      "      1      2p_3/2      -8.00170546e+00    -8.00170477e+00    -8.60863502e-08    \n",
      "      2      3p_3/2      -3.55659002e+00    -3.55656582e+00    -6.80472274e-06    \n",
      "      3      4p_3/2      -2.00069479e+00    -2.00053275e+00    -8.09900291e-05    \n",
      "      4      5p_3/2      -1.28079607e+00    -1.28030549e+00    -3.83020322e-04    \n",
      "      5      6p_3/2      -1.04187231e+00    -8.89078304e-01    -1.46653294e-01    \n",
      "      6      7p_3/2      -8.89909013e-01    -6.53186184e-01    -2.66007901e-01    \n",
      "      7      8p_3/2      -6.52561355e-01    -5.00086566e-01    -2.33655867e-01    \n",
      "      8      9p_3/2      -4.87397823e-01    -3.95124084e-01    -1.89319144e-01    \n",
      "      9     10p_3/2      -3.59578014e-01    -3.20046366e-01    -1.09939002e-01    \n",
      "     10     11p_3/2      -2.61006299e-01    -2.64498204e-01    +1.33786220e-02    \n",
      "     11     12p_3/2      -1.87516176e-01    -2.22249843e-01    +1.85230242e-01    \n",
      "     12     13p_3/2      -1.33972737e-01    -1.89371076e-01    +4.13504570e-01    \n",
      "     13     14p_3/2      -9.55334669e-02    -1.63283055e-01    +7.09171248e-01    \n",
      "     14     15p_3/2      -6.82725870e-02    -1.42236768e-01    +1.08336573e+00    \n",
      "     15     16p_3/2      -4.92042570e-02    -1.25012068e-01    +1.54067587e+00    \n",
      "     16     17p_3/2      -3.60916253e-02    -1.10736766e-01    +2.06821224e+00    \n",
      "     17     18p_3/2      -2.72331894e-02    -9.87740055e-02    +2.62697163e+00    \n",
      "     18     19p_3/2      -2.13321503e-02    -8.86499838e-02    +3.15569845e+00    \n",
      "     19     20p_3/2      -1.74357411e-02    -8.00063068e-02    +3.58863814e+00    \n",
      "     20     21p_3/2      -1.48670436e-02    -7.25678273e-02    +3.88112022e+00    \n"
     ]
    },
    {
     "name": "stdout",
     "output_type": "stream",
     "text": [
      "     21     22p_3/2      -1.33156548e-02    -6.61204757e-02    +3.96561953e+00    \n",
      "     22     23p_3/2      +6.82327248e-01    -6.04956840e-02    +1.08866081e+00    \n",
      "     23     24p_3/2      +6.21303041e+00    -5.55592546e-02    +1.00894238e+00    \n",
      "     24     25p_3/2      +2.04566662e+01    -5.12032814e-02    +1.00250301e+00    \n",
      "     25     26p_3/2      +5.30705164e+01    -4.73402024e-02    +1.00089202e+00    \n",
      "     26     27p_3/2      +1.23880923e+02    -4.38983648e-02    +1.00035436e+00    \n",
      "     27     28p_3/2      +2.72919476e+02    -4.08186781e-02    +1.00014956e+00    \n",
      "     28     29p_3/2      +5.79395193e+02    -3.80520613e-02    +1.00006568e+00    \n",
      "     29     30p_3/2      +1.19525809e+03    -3.55574747e-02    +1.00002975e+00    \n",
      "     30     31p_3/2      +2.39733320e+03    -3.33003895e-02    +1.00001389e+00    \n",
      "     31     32p_3/2      +4.65018356e+03    -3.12515865e-02    +1.00000672e+00    \n",
      "     32     33p_3/2      +8.65086368e+03    -2.93862054e-02    +1.00000340e+00    \n",
      "     33     34p_3/2      +1.53335319e+04    -2.76829874e-02    +1.00000181e+00    \n",
      "     34     35p_3/2      +2.58800011e+04    -2.61236666e-02    +1.00000101e+00    \n",
      "     35     36p_3/2      +4.18228245e+04    -2.46924784e-02    +1.00000059e+00    \n",
      "     36     37p_3/2      +6.52646300e+04    -2.33757592e-02    +1.00000036e+00    \n",
      "     37     38p_3/2      +9.91884381e+04    -2.21616196e-02    +1.00000022e+00    \n",
      "     38     39p_3/2      +1.47863758e+05    -2.10396744e-02    +1.00000014e+00    \n",
      "      :       :    \n",
      "     55     56p_3/2      +7.64164153e+07    -1.02043839e-02    +1.00000000e+00    \n",
      "     56     57p_3/2      +1.16526739e+08    -9.84947113e-03    +1.00000000e+00    \n",
      "     57     58p_3/2      +1.85340827e+08    -9.51275745e-03    +1.00000000e+00    \n",
      "     58     59p_3/2      +3.19148552e+08    -9.19301952e-03    +1.00000000e+00    \n",
      "     59     60p_3/2      +6.47484481e+08    -8.88913509e-03    +1.00000000e+00    \n",
      "     60     61p_3/2      +2.01323430e+09    -8.60007314e-03    +1.00000000e+00    \n",
      "  -----------------------------------------------------------------------------\n",
      ">> Use hydrogenic orbital from this symmetry block also for 2p_3/2.\n",
      "(Re-) Define the standard grid with 392 grid points.\n",
      ">>  for various B-spline matrices:\n",
      "\n",
      "Iteration 1 for symmetries ... \n",
      "  1s_1/2::  en [a.u.] = -1.4209735e+01;   self-cons'cy = 3.8535e-01  [1.0000e+02 for sym-block kappa = -1]\n",
      "  2s_1/2::  en [a.u.] = -4.1911257e-03;   self-cons'cy = 9.9895e-01  [1.0000e+02 for sym-block kappa = -1]\n",
      "  2p_1/2::  en [a.u.] = -3.8058865e-01;   self-cons'cy = 9.0927e-01  [1.0000e+02 for sym-block kappa = 1]\n",
      "  2p_3/2::  en [a.u.] = -7.8258550e-01;   self-cons'cy = 8.2182e-01  [1.0000e+02 for sym-block kappa = -2]\n",
      "\n",
      "Iteration 2 for symmetries ... \n",
      "  1s_1/2::  en [a.u.] = -2.0724765e+01;   self-cons'cy = 1.8649e-01  [1.1509e+00 for sym-block kappa = -1]\n",
      "  2s_1/2::  en [a.u.] = -1.9263606e+00;   self-cons'cy = 9.9566e-01  [1.1509e+00 for sym-block kappa = -1]\n",
      "  2p_1/2::  en [a.u.] = -2.8303681e-01;   self-cons'cy = 1.4700e-01  [1.0246e+00 for sym-block kappa = 1]\n",
      "  2p_3/2::  en [a.u.] = -1.5120572e-01;   self-cons'cy = 6.7615e-01  [2.2483e+00 for sym-block kappa = -2]\n",
      "\n",
      "Iteration 3 for symmetries ... \n",
      "  1s_1/2::  en [a.u.] = -1.8681227e+01;   self-cons'cy = 5.1859e-02  [1.2857e+00 for sym-block kappa = -1]\n",
      "  2s_1/2::  en [a.u.] = -8.5475973e-01;   self-cons'cy = 3.8531e-01  [1.2857e+00 for sym-block kappa = -1]\n",
      "  2p_1/2::  en [a.u.] = -4.2635860e-01;   self-cons'cy = 2.0203e-01  [2.0203e-01 for sym-block kappa = 1]\n",
      "  2p_3/2::  en [a.u.] = -3.7834683e-01;   self-cons'cy = 4.2893e-01  [4.2893e-01 for sym-block kappa = -2]\n",
      "\n",
      "Iteration 4 for symmetries ... \n",
      "  1s_1/2::  en [a.u.] = -1.8477814e+01;   self-cons'cy = 5.4741e-03  [1.0050e+00 for sym-block kappa = -1]\n",
      "  2s_1/2::  en [a.u.] = -7.2652169e-01;   self-cons'cy = 8.1098e-02  [1.0050e+00 for sym-block kappa = -1]\n",
      "  2p_1/2::  en [a.u.] = -2.1956417e-01;   self-cons'cy = 3.2015e-01  [3.2015e-01 for sym-block kappa = 1]\n",
      "  2p_3/2::  en [a.u.] = -2.8692376e-01;   self-cons'cy = 1.3742e-01  [1.3742e-01 for sym-block kappa = -2]\n",
      "\n",
      "Iteration 5 for symmetries ... \n",
      "  1s_1/2::  en [a.u.] = -1.8833743e+01;   self-cons'cy = 9.5394e-03  [1.0237e+00 for sym-block kappa = -1]\n",
      "  2s_1/2::  en [a.u.] = -8.7408303e-01;   self-cons'cy = 9.2191e-02  [1.0237e+00 for sym-block kappa = -1]\n",
      "  2p_1/2::  en [a.u.] = -3.1025810e-01;   self-cons'cy = 1.7118e-01  [1.7118e-01 for sym-block kappa = 1]\n",
      "  2p_3/2::  en [a.u.] = -2.7227532e-01;   self-cons'cy = 2.6195e-02  [2.6195e-02 for sym-block kappa = -2]\n",
      "\n",
      "Iteration 6 for symmetries ... \n",
      "  1s_1/2::  en [a.u.] = -1.8688307e+01;   self-cons'cy = 3.8760e-03  [7.2303e-01 for sym-block kappa = -1]\n",
      "  2s_1/2::  en [a.u.] = -8.1675974e-01;   self-cons'cy = 3.3902e-02  [7.2303e-01 for sym-block kappa = -1]\n",
      "  2p_1/2::  en [a.u.] = -2.9606167e-01;   self-cons'cy = 2.3414e-02  [2.3414e-02 for sym-block kappa = 1]\n",
      "  2p_3/2::  en [a.u.] = -2.9927160e-01;   self-cons'cy = 4.7234e-02  [4.7234e-02 for sym-block kappa = -2]\n",
      "\n",
      "Iteration 7 for symmetries ... \n",
      "  1s_1/2::  en [a.u.] = -1.8684741e+01;   self-cons'cy = 9.5419e-05  [5.8922e-01 for sym-block kappa = -1]\n",
      "  2s_1/2::  en [a.u.] = -8.1261999e-01;   self-cons'cy = 2.5407e-03  [5.8922e-01 for sym-block kappa = -1]\n",
      "  2p_1/2::  en [a.u.] = -2.8142951e-01;   self-cons'cy = 2.5337e-02  [2.5337e-02 for sym-block kappa = 1]\n",
      "  2p_3/2::  en [a.u.] = -2.8557017e-01;   self-cons'cy = 2.3428e-02  [2.3428e-02 for sym-block kappa = -2]\n",
      "\n",
      "Iteration 8 for symmetries ... \n",
      "  1s_1/2::  en [a.u.] = -1.8722081e+01;   self-cons'cy = 9.9823e-04  [6.5068e-01 for sym-block kappa = -1]\n",
      "  2s_1/2::  en [a.u.] = -8.2855751e-01;   self-cons'cy = 9.7110e-03  [6.5068e-01 for sym-block kappa = -1]\n",
      "  2p_1/2::  en [a.u.] = -2.9319561e-01;   self-cons'cy = 2.0476e-02  [2.0476e-02 for sym-block kappa = 1]\n",
      "  2p_3/2::  en [a.u.] = -2.8750841e-01;   self-cons'cy = 3.3822e-03  [3.3822e-03 for sym-block kappa = -2]\n",
      "\n",
      "Iteration 9 for symmetries ... \n",
      "  1s_1/2::  en [a.u.] = -1.8699832e+01;   self-cons'cy = 5.9455e-04  [2.6218e-01 for sym-block kappa = -1]\n",
      "  2s_1/2::  en [a.u.] = -8.1964550e-01;   self-cons'cy = 5.4071e-03  [2.6218e-01 for sym-block kappa = -1]\n",
      "  2p_1/2::  en [a.u.] = -2.8943405e-01;   self-cons'cy = 6.4562e-03  [6.4562e-03 for sym-block kappa = 1]\n",
      "  2p_3/2::  en [a.u.] = -2.8943571e-01;   self-cons'cy = 3.3405e-03  [3.3405e-03 for sym-block kappa = -2]\n",
      "\n",
      "Iteration 10 for symmetries ... \n",
      "  1s_1/2::  en [a.u.] = -1.8704710e+01;   self-cons'cy = 1.3040e-04  [2.1610e-02 for sym-block kappa = -1]\n",
      "  2s_1/2::  en [a.u.] = -8.2135021e-01;   self-cons'cy = 1.0388e-03  [2.1610e-02 for sym-block kappa = -1]\n",
      "  2p_1/2::  en [a.u.] = -2.8894639e-01;   self-cons'cy = 8.4314e-04  [8.4314e-04 for sym-block kappa = 1]\n",
      "  2p_3/2::  en [a.u.] = -2.8781173e-01;   self-cons'cy = 2.8133e-03  [2.8133e-03 for sym-block kappa = -2]\n",
      "\n",
      "Iteration 11 for symmetries ... \n",
      "  1s_1/2::  en [a.u.] = -1.8706896e+01;   self-cons'cy = 5.8445e-05  [5.4745e-02 for sym-block kappa = -1]\n",
      "  2s_1/2::  en [a.u.] = -8.2237311e-01;   self-cons'cy = 6.2231e-04  [5.4745e-02 for sym-block kappa = -1]\n",
      "  2p_1/2::  en [a.u.] = -2.9011171e-01;   self-cons'cy = 2.0124e-03  [2.0124e-03 for sym-block kappa = 1]\n",
      "  2p_3/2::  en [a.u.] = -2.8834523e-01;   self-cons'cy = 9.2595e-04  [9.2595e-04 for sym-block kappa = -2]\n",
      "\n",
      "Iteration 12 for symmetries ... \n",
      "  1s_1/2::  en [a.u.] = -1.8704442e+01;   self-cons'cy = 6.5598e-05  [3.7871e-02 for sym-block kappa = -1]\n",
      "  2s_1/2::  en [a.u.] = -8.2135765e-01;   self-cons'cy = 6.1778e-04  [3.7871e-02 for sym-block kappa = -1]\n",
      "  2p_1/2::  en [a.u.] = -2.8951805e-01;   self-cons'cy = 1.0242e-03  [1.0242e-03 for sym-block kappa = 1]\n",
      "  2p_3/2::  en [a.u.] = -2.8839930e-01;   self-cons'cy = 9.3764e-05  [9.3764e-05 for sym-block kappa = -2]\n",
      "\n",
      "Iteration 13 for symmetries ... \n",
      "  1s_1/2::  en [a.u.] = -1.8705419e+01;   self-cons'cy = 2.6116e-05  [1.0434e-02 for sym-block kappa = -1]\n",
      "  2s_1/2::  en [a.u.] = -8.2173436e-01;   self-cons'cy = 2.2927e-04  [1.0434e-02 for sym-block kappa = -1]\n",
      "  2p_1/2::  en [a.u.] = -2.8960659e-01;   self-cons'cy = 1.5290e-04  [1.5290e-04 for sym-block kappa = 1]\n",
      "  2p_3/2::  en [a.u.] = -2.8824216e-01;   self-cons'cy = 2.7251e-04  [2.7251e-04 for sym-block kappa = -2]\n",
      "\n",
      "Iteration 14 for symmetries ... \n"
     ]
    },
    {
     "name": "stdout",
     "output_type": "stream",
     "text": [
      "  1s_1/2::  en [a.u.] = -1.8705398e+01;   self-cons'cy = 5.5904e-07  [2.5939e-03 for sym-block kappa = -1]\n",
      "  2s_1/2::  en [a.u.] = -8.2174233e-01;   self-cons'cy = 4.8480e-06  [2.5939e-03 for sym-block kappa = -1]\n",
      "  2p_1/2::  en [a.u.] = -2.8969094e-01;   self-cons'cy = 1.4559e-04  [1.4559e-04 for sym-block kappa = 1]\n",
      "  2p_3/2::  en [a.u.] = -2.8832483e-01;   self-cons'cy = 1.4338e-04  [1.4338e-04 for sym-block kappa = -2]\n",
      "\n",
      "Iteration 15 for symmetries ... \n",
      "  1s_1/2::  en [a.u.] = -1.8705183e+01;   self-cons'cy = 5.7401e-06  [3.9900e-03 for sym-block kappa = -1]\n",
      "  2s_1/2::  en [a.u.] = -8.2164980e-01;   self-cons'cy = 5.6301e-05  [3.9900e-03 for sym-block kappa = -1]\n",
      "  2p_1/2::  en [a.u.] = -2.8961921e-01;   self-cons'cy = 1.2382e-04  [1.2382e-04 for sym-block kappa = 1]\n",
      "  2p_3/2::  en [a.u.] = -2.8831127e-01;   self-cons'cy = 2.3509e-05  [2.3509e-05 for sym-block kappa = -2]\n",
      "\n",
      "Iteration 16 for symmetries ... \n",
      "  1s_1/2::  en [a.u.] = -1.8705318e+01;   self-cons'cy = 3.6099e-06  [1.8162e-03 for sym-block kappa = -1]\n",
      "  2s_1/2::  en [a.u.] = -8.2170403e-01;   self-cons'cy = 3.3002e-05  [1.8162e-03 for sym-block kappa = -1]\n",
      "  2p_1/2::  en [a.u.] = -2.8964306e-01;   self-cons'cy = 4.1177e-05  [4.1177e-05 for sym-block kappa = 1]\n",
      "  2p_3/2::  en [a.u.] = -2.8830025e-01;   self-cons'cy = 1.9106e-05  [1.9106e-05 for sym-block kappa = -2]\n",
      "\n",
      "Iteration 17 for symmetries ... \n",
      "  1s_1/2::  en [a.u.] = -1.8705287e+01;   self-cons'cy = 8.5276e-07  [1.7156e-04 for sym-block kappa = -1]\n",
      "  2s_1/2::  en [a.u.] = -8.2169269e-01;   self-cons'cy = 6.9059e-06  [1.7156e-04 for sym-block kappa = -1]\n",
      "  2p_1/2::  en [a.u.] = -2.8964529e-01;   self-cons'cy = 3.8495e-06  [3.8495e-06 for sym-block kappa = 1]\n",
      "  2p_3/2::  en [a.u.] = -2.8831009e-01;   self-cons'cy = 1.7049e-05  [1.7049e-05 for sym-block kappa = -2]\n",
      "\n",
      "Iteration 18 for symmetries ... \n",
      "  1s_1/2::  en [a.u.] = -1.8705275e+01;   self-cons'cy = 3.2292e-07  [3.1829e-04 for sym-block kappa = -1]\n",
      "  2s_1/2::  en [a.u.] = -8.2168695e-01;   self-cons'cy = 3.4918e-06  [3.1829e-04 for sym-block kappa = -1]\n",
      "  2p_1/2::  en [a.u.] = -2.8963839e-01;   self-cons'cy = 1.1913e-05  [1.1913e-05 for sym-block kappa = 1]\n",
      "  2p_3/2::  en [a.u.] = -2.8830669e-01;   self-cons'cy = 5.8885e-06  [5.8885e-06 for sym-block kappa = -2]\n",
      "\n",
      "Iteration 19 for symmetries ... \n",
      "  1s_1/2::  en [a.u.] = -1.8705289e+01;   self-cons'cy = 3.9411e-07  [2.3286e-04 for sym-block kappa = -1]\n",
      "  2s_1/2::  en [a.u.] = -8.2169307e-01;   self-cons'cy = 3.7230e-06  [2.3286e-04 for sym-block kappa = -1]\n",
      "  2p_1/2::  en [a.u.] = -2.8964205e-01;   self-cons'cy = 6.3253e-06  [6.3253e-06 for sym-block kappa = 1]\n",
      "  2p_3/2::  en [a.u.] = -2.8830646e-01;   self-cons'cy = 3.9732e-07  [4.9373e-07 for sym-block kappa = -2]\n",
      "\n",
      "Iteration 20 for symmetries ... \n",
      "  1s_1/2::  en [a.u.] = -1.8705283e+01;   self-cons'cy = 1.6375e-07  [6.7040e-05 for sym-block kappa = -1]\n",
      "  2s_1/2::  en [a.u.] = -8.2169069e-01;   self-cons'cy = 1.4442e-06  [6.7040e-05 for sym-block kappa = -1]\n",
      "  2p_1/2::  en [a.u.] = -2.8964144e-01;   self-cons'cy = 1.0622e-06  [1.0622e-06 for sym-block kappa = 1]\n",
      "  2p_3/2::  en [a.u.] = -2.8830739e-01;   self-cons'cy = 1.6108e-06  [1.6108e-06 for sym-block kappa = -2]\n",
      "\n",
      "Iteration 21 for symmetries ... \n",
      "  1s_1/2::  en [a.u.] = -1.8705283e+01;   self-cons'cy = 7.5598e-09  [1.3514e-05 for sym-block kappa = -1]\n",
      "  2s_1/2::  en [a.u.] = -8.2169071e-01;   self-cons'cy = 9.1934e-09  [1.3514e-05 for sym-block kappa = -1]\n",
      "  2p_1/2::  en [a.u.] = -2.8964096e-01;   self-cons'cy = 8.2768e-07  [8.2768e-07 for sym-block kappa = 1]\n",
      "  2p_3/2::  en [a.u.] = -2.8830688e-01;   self-cons'cy = 8.8389e-07  [8.8389e-07 for sym-block kappa = -2]\n",
      "\n",
      "Iteration 22 for symmetries ... \n",
      "  1s_1/2::  en [a.u.] = -1.8705285e+01;   self-cons'cy = 3.3514e-08  [2.3758e-05 for sym-block kappa = -1]\n",
      "  2s_1/2::  en [a.u.] = -8.2169125e-01;   self-cons'cy = 3.3042e-07  [2.3758e-05 for sym-block kappa = -1]\n",
      "  2p_1/2::  en [a.u.] = -2.8964139e-01;   self-cons'cy = 7.4881e-07  [7.4881e-07 for sym-block kappa = 1]\n",
      "  2p_3/2::  en [a.u.] = -2.8830697e-01;   self-cons'cy = 1.6101e-07  [4.9705e-07 for sym-block kappa = -2]\n",
      "\n",
      "Iteration 23 for symmetries ... \n",
      "  1s_1/2::  en [a.u.] = -1.8705284e+01;   self-cons'cy = 2.2073e-08  [1.1293e-05 for sym-block kappa = -1]\n",
      "  2s_1/2::  en [a.u.] = -8.2169092e-01;   self-cons'cy = 2.0243e-07  [1.1293e-05 for sym-block kappa = -1]\n",
      "  2p_1/2::  en [a.u.] = -2.8964124e-01;   self-cons'cy = 2.6136e-07  [2.6136e-07 for sym-block kappa = 1]\n",
      "  2p_3/2::  en [a.u.] = -2.8830704e-01;   self-cons'cy = 1.0808e-07  [3.5617e-07 for sym-block kappa = -2]\n",
      "\n",
      "Iteration 24 for symmetries ... \n",
      "  1s_1/2::  en [a.u.] = -1.8705284e+01;   self-cons'cy = 5.5821e-09  [1.3339e-06 for sym-block kappa = -1]\n",
      "  2s_1/2::  en [a.u.] = -8.2169099e-01;   self-cons'cy = 4.5814e-08  [1.3339e-06 for sym-block kappa = -1]\n",
      "  2p_1/2::  en [a.u.] = -2.8964123e-01;   self-cons'cy = 1.5820e-08  [3.7814e-07 for sym-block kappa = 1]\n",
      "  2p_3/2::  en [a.u.] = -2.8830698e-01;   self-cons'cy = 1.0301e-07  [1.0301e-07 for sym-block kappa = -2]\n",
      ">> Maximum number of SCF iterations = 24 is reached at accuracy 1.6108e-06 ... computations proceed.\n",
      "\u001b[95mConstants.warn():  Reset global array GBL_WARNINGS.\u001b[39m \n"
     ]
    },
    {
     "data": {
      "text/plain": [
       "Dict{String, Any} with 1 entry:\n",
       "  \"mean-field basis\" => Atomic basis:  5 CSF defined for 8 elecrons.…"
      ]
     },
     "execution_count": 8,
     "metadata": {},
     "output_type": "execute_result"
    }
   ],
   "source": [
    "wb = generate(wa, output=true)"
   ]
  },
  {
   "cell_type": "markdown",
   "metadata": {},
   "source": [
    "As seen from the last line of this printout, the outcome::Dict{String,Any} just contains the requested basis and, hence, set of orbital:"
   ]
  },
  {
   "cell_type": "code",
   "execution_count": 9,
   "metadata": {},
   "outputs": [
    {
     "data": {
      "text/plain": [
       "Dict{Subshell, Orbital} with 4 entries:\n",
       "  2s_1/2 => \n",
       "  2p_1/2 => \n",
       "  2p_3/2 => \n",
       "  1s_1/2 => "
      ]
     },
     "execution_count": 9,
     "metadata": {},
     "output_type": "execute_result"
    }
   ],
   "source": [
    "orbitals    = wb[\"mean-field basis\"].orbitals"
   ]
  },
  {
   "cell_type": "markdown",
   "metadata": {},
   "source": [
    "We can apply this *mean-field basis* in order to generate a CI representations for all levels of the $1s^2 2s^2 2p^4$ ground configuration of oxygen; to this end, we first define the corresponding *settings* and (no further) *excitations*,"
   ]
  },
  {
   "cell_type": "code",
   "execution_count": 10,
   "metadata": {},
   "outputs": [
    {
     "name": "stdout",
     "output_type": "stream",
     "text": [
      "search: \u001b[0m\u001b[1mC\u001b[22m\u001b[0m\u001b[1mi\u001b[22m\u001b[0m\u001b[1mS\u001b[22m\u001b[0m\u001b[1me\u001b[22m\u001b[0m\u001b[1mt\u001b[22m\u001b[0m\u001b[1mt\u001b[22m\u001b[0m\u001b[1mi\u001b[22m\u001b[0m\u001b[1mn\u001b[22m\u001b[0m\u001b[1mg\u001b[22m\u001b[0m\u001b[1ms\u001b[22m\n",
      "\n"
     ]
    },
    {
     "data": {
      "text/latex": [
       "\\texttt{struct  AtomicState.CiSettings}       ... a struct for defining the settings for a configuration-interaction (CI) expansion.\n",
       "\n",
       "\\begin{verbatim}\n",
       "+ eeInteractionCI      ::AbstractEeInteraction   ... Specifies the treatment of the e-e interaction.\n",
       "+ levelSelectionCI     ::LevelSelection          ... Specifies the selected levels, if any.\n",
       "\\end{verbatim}\n",
       "\\rule{\\textwidth}{1pt}\n",
       "\\texttt{AtomicState.CiSettings()}  ... constructor for setting the default values.\n",
       "\n",
       "\\rule{\\textwidth}{1pt}\n",
       "\\texttt{AtomicState.CiSettings(settings::AtomicState.CiSettings;}\n",
       "\n",
       "\\begin{verbatim}\n",
       "    eeInteractionCI::Union{Nothing,AbstractEeInteraction}=nothing,    levelSelectionCI::Union{Nothing,LevelSelection}=nothing)\n",
       "                \n",
       "... constructor for modifying the given CiSettings by 'overwriting' the explicitly selected parameters.\n",
       "\\end{verbatim}\n"
      ],
      "text/markdown": [
       "`struct  AtomicState.CiSettings`       ... a struct for defining the settings for a configuration-interaction (CI) expansion.\n",
       "\n",
       "```\n",
       "+ eeInteractionCI      ::AbstractEeInteraction   ... Specifies the treatment of the e-e interaction.\n",
       "+ levelSelectionCI     ::LevelSelection          ... Specifies the selected levels, if any.\n",
       "```\n",
       "\n",
       "---\n",
       "\n",
       "`AtomicState.CiSettings()`  ... constructor for setting the default values.\n",
       "\n",
       "---\n",
       "\n",
       "`AtomicState.CiSettings(settings::AtomicState.CiSettings;`\n",
       "\n",
       "```\n",
       "    eeInteractionCI::Union{Nothing,AbstractEeInteraction}=nothing,    levelSelectionCI::Union{Nothing,LevelSelection}=nothing)\n",
       "                \n",
       "... constructor for modifying the given CiSettings by 'overwriting' the explicitly selected parameters.\n",
       "```\n"
      ],
      "text/plain": [
       "  \u001b[36mstruct AtomicState.CiSettings\u001b[39m ... a struct for defining the settings for a\n",
       "  configuration-interaction (CI) expansion.\n",
       "\n",
       "\u001b[36m  + eeInteractionCI      ::AbstractEeInteraction   ... Specifies the treatment of the e-e interaction.\u001b[39m\n",
       "\u001b[36m  + levelSelectionCI     ::LevelSelection          ... Specifies the selected levels, if any.\u001b[39m\n",
       "\n",
       "  ────────────────────────────────────────────────────────────────────────────\n",
       "\n",
       "  \u001b[36mAtomicState.CiSettings()\u001b[39m ... constructor for setting the default values.\n",
       "\n",
       "  ────────────────────────────────────────────────────────────────────────────\n",
       "\n",
       "  \u001b[36mAtomicState.CiSettings(settings::AtomicState.CiSettings;\u001b[39m\n",
       "\n",
       "\u001b[36m      eeInteractionCI::Union{Nothing,AbstractEeInteraction}=nothing,    levelSelectionCI::Union{Nothing,LevelSelection}=nothing)\u001b[39m\n",
       "\u001b[36m                  \u001b[39m\n",
       "\u001b[36m  ... constructor for modifying the given CiSettings by 'overwriting' the explicitly selected parameters.\u001b[39m"
      ]
     },
     "execution_count": 10,
     "metadata": {},
     "output_type": "execute_result"
    }
   ],
   "source": [
    "?CiSettings"
   ]
  },
  {
   "cell_type": "code",
   "execution_count": 11,
   "metadata": {},
   "outputs": [
    {
     "data": {
      "text/plain": [
       "eeInteractionCI:          CoulombInteraction()  \n",
       "levelSelectionCI:         LevelSelection:  indices = [1, 2];    symmetries = LevelSymmetry[].  \n"
      ]
     },
     "execution_count": 11,
     "metadata": {},
     "output_type": "execute_result"
    }
   ],
   "source": [
    "ciSettings  = CiSettings(CoulombInteraction(), LevelSelection(true, indices=[1,2]) )"
   ]
  },
  {
   "cell_type": "code",
   "execution_count": 12,
   "metadata": {},
   "outputs": [
    {
     "data": {
      "text/plain": [
       "\n",
       "CI or RAS step with 0 (explicitly) frozen shell(s): Shell[]  ... and virtual excitations\n"
      ]
     },
     "execution_count": 12,
     "metadata": {},
     "output_type": "execute_result"
    }
   ],
   "source": [
    "excitations = RasStep()"
   ]
  },
  {
   "cell_type": "markdown",
   "metadata": {},
   "source": [
    "and before we follow very similar lines as above:"
   ]
  },
  {
   "cell_type": "code",
   "execution_count": 13,
   "metadata": {
    "scrolled": true
   },
   "outputs": [
    {
     "data": {
      "text/plain": [
       "Atomic representation:   Oxygen 1s^2 2s^2 2p^4 ground configuration for Z = 8.0 and with reference configurations: \n",
       "   1s^2 2s^2 2p^4 ,  \n",
       "representation type:   CI expansion with (additional) excitations:\n",
       "\n",
       "CI or RAS step with 0 (explicitly) frozen shell(s): Shell[]  ... and virtual excitations\n",
       "  \n",
       "... and the current settings:\n",
       "eeInteractionCI:          CoulombInteraction()  \n",
       "levelSelectionCI:         LevelSelection:  indices = [1, 2];    symmetries = LevelSymmetry[].  \n",
       "  \n",
       "  \n",
       "nuclearModel:          Fermi nuclear model for Z = 8.0 with mass = 16.32, radius R = 2.6905393158807427 fm and nuclear spin I = 0, dipole moment mu = 0.0 and quadrupole moment Q = 0.0.  \n",
       "grid:                  Radial grid:  rnt = 2.0e-6,  h = 0.05,  hp = 0.0,  NoPoints = 392,  ntL = 69,  ntS = 71, orderL = 7,  orderS = 8,  nsL = 62,  nsS = 63,  mesh = JAC.Radial.MeshGL(), ...  \n",
       "r:    [1.780504510281598e-8, 9.042759120177923e-8, 2.0787030685460475e-7]  ...  [564.4302351890452, 595.097239730825, 614.0606632064549]\n",
       "wr:   [4.530145586285996e-8, 9.785739473901763e-8, 1.3358660616640612e-7]  ...  [34.882547080539766, 25.552825070730517, 11.829256033233948]\n",
       "tS:   [0.0, 0.0, 0.0]  ...  [618.7099715607404, 618.7099715607404, 618.7099715607404]  \n"
      ]
     },
     "execution_count": 13,
     "metadata": {},
     "output_type": "execute_result"
    }
   ],
   "source": [
    "wc          = Representation(name, Nuclear.Model(8.), Radial.Grid(true), refConfigs, \n",
    "                             CiExpansion(orbitals, excitations, ciSettings) )"
   ]
  },
  {
   "cell_type": "code",
   "execution_count": 14,
   "metadata": {
    "scrolled": true
   },
   "outputs": [
    {
     "name": "stdout",
     "output_type": "stream",
     "text": [
      "*** Level symmetries = LevelSymmetry[0 +, 1 +, 2 +] \n",
      ">> include Configuration: 1s^2 2s^2 2p^4 \n",
      "(Re-) Define a new standard subshell list.\n",
      "Construct a basis with 5 CSF for J^P = LevelSymmetry[0 +, 1 +, 2 +] with 4 subshells: 1s_1/2  2s_1/2 ...  2p_1/2  2p_3/2\n",
      "Compute CI matrix of dimension 2 x 2 for the symmetry 0^+ ...   ... done.\n",
      "Compute CI matrix of dimension 1 x 1 for the symmetry 1^+ ...   ... done.\n",
      "Compute CI matrix of dimension 2 x 2 for the symmetry 2^+ ...   ... done.\n",
      "\n",
      "  Eigenenergies:\n",
      "\n",
      "  Level  J Parity          Hartrees                    eV                   [eV]\n",
      "\n",
      "     1    2 +     -7.484772845491783e+01    -2.036710431706907e+03    -2.036710431706907e+03 \n",
      "     2    1 +     -7.484696581599319e+01    -2.036689679244735e+03    -2.036689679244735e+03 \n",
      "\n",
      "  Energy of each level relative to immediately lower level:\n",
      "\n",
      "  Level  J Parity          Hartrees                    eV                   [eV]\n",
      "\n",
      "     2    1 +     7.626389246411236e-04    2.075246217228730e-02    2.075246217228730e-02 \n",
      "\n",
      "  Energy of each level relative to lowest level:\n",
      "\n",
      "  Level  J Parity          Hartrees                    eV                   [eV]\n",
      "\n",
      "     2    1 +     7.626389246411236e-04    2.075246217228730e-02    2.075246217228730e-02 \n",
      "\u001b[95mConstants.warn():  Reset global array GBL_WARNINGS.\u001b[39m \n"
     ]
    },
    {
     "data": {
      "text/plain": [
       "Dict{String, Any} with 1 entry:\n",
       "  \"CI multiplet\" => name:        CI multiplet:  …"
      ]
     },
     "execution_count": 14,
     "metadata": {},
     "output_type": "execute_result"
    }
   ],
   "source": [
    "wd = generate(wc, output=true)"
   ]
  },
  {
   "cell_type": "markdown",
   "metadata": {},
   "source": [
    "In this case, the outcome::Dict{String,Any} describes the requested (ground configuration) multiplet with the levels:"
   ]
  },
  {
   "cell_type": "code",
   "execution_count": 15,
   "metadata": {
    "scrolled": true
   },
   "outputs": [
    {
     "data": {
      "text/plain": [
       "5-element Vector{Level}:\n",
       " Level: J = 2, M = 2, parity = plus, index = 1 \n",
       "energy:         -74.84772845491783  \n",
       "relativeOcc:    0.0  \n",
       "hasStateRep:    true  \n",
       "basis:           (level.basis)  \n",
       "mc:             [0.0, 0.0, 0.5715606204119051, 0.0, 0.8205598437617807]  \n",
       "\n",
       " Level: J = 1, M = 1, parity = plus, index = 2 \n",
       "energy:         -74.84696581599319  \n",
       "relativeOcc:    0.0  \n",
       "hasStateRep:    true  \n",
       "basis:           (level.basis)  \n",
       "mc:             [0.0, 1.0, 0.0, 0.0, 0.0]  \n",
       "\n",
       " Level: J = 0, M = 0, parity = plus, index = 3 \n",
       "energy:         -74.84659206331618  \n",
       "relativeOcc:    0.0  \n",
       "hasStateRep:    true  \n",
       "basis:           (level.basis)  \n",
       "mc:             [-0.8130771970235597, 0.0, 0.0, 0.5821558826296538, 0.0]  \n",
       "\n",
       " Level: J = 2, M = 2, parity = plus, index = 4 \n",
       "energy:         -74.77019425480822  \n",
       "relativeOcc:    0.0  \n",
       "hasStateRep:    true  \n",
       "basis:           (level.basis)  \n",
       "mc:             [0.0, 0.0, -0.8205598437617807, 0.0, 0.5715606204119051]  \n",
       "\n",
       " Level: J = 0, M = 0, parity = plus, index = 5 \n",
       "energy:         -74.65447028912307  \n",
       "relativeOcc:    0.0  \n",
       "hasStateRep:    true  \n",
       "basis:           (level.basis)  \n",
       "mc:             [-0.5821558826296538, 0.0, 0.0, -0.8130771970235597, 0.0]  \n"
      ]
     },
     "execution_count": 15,
     "metadata": {},
     "output_type": "execute_result"
    }
   ],
   "source": [
    "levels     = wd[\"CI multiplet\"].levels"
   ]
  },
  {
   "cell_type": "code",
   "execution_count": null,
   "metadata": {},
   "outputs": [],
   "source": []
  },
  {
   "cell_type": "markdown",
   "metadata": {},
   "source": [
    "# **This nootebook is still under construction !!!**"
   ]
  },
  {
   "cell_type": "code",
   "execution_count": null,
   "metadata": {},
   "outputs": [],
   "source": []
  }
 ],
 "metadata": {
  "@webio": {
   "lastCommId": null,
   "lastKernelId": null
  },
  "kernelspec": {
   "display_name": "Julia 1.6.2",
   "language": "julia",
   "name": "julia-1.6"
  },
  "language_info": {
   "file_extension": ".jl",
   "mimetype": "application/julia",
   "name": "julia",
   "version": "1.6.2"
  }
 },
 "nbformat": 4,
 "nbformat_minor": 4
}
