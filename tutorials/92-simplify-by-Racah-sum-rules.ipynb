{
 "cells": [
  {
   "cell_type": "markdown",
   "metadata": {},
   "source": [
    "# Simplify Racah expressions by means of sum rules"
   ]
  },
  {
   "cell_type": "code",
   "execution_count": 13,
   "metadata": {},
   "outputs": [],
   "source": [
    "using JAC, SymEngine"
   ]
  },
  {
   "cell_type": "markdown",
   "metadata": {},
   "source": [
    "**Note**: The Julia package `SymEngine` is needed to perform symbolic simplifications of Racah algebra expressions in JAC but, by default, is not automatically loaded."
   ]
  },
  {
   "cell_type": "markdown",
   "metadata": {},
   "source": [
    "As mentioned before, the (data) type `RacahExpression` is very central to applying the techniques from Racah's algebra. This data type enables one to *comprise* -- less or more -- sophisticated expressions into a single Julia variable and to attempt its simplification by a set of internal (sum) rules:"
   ]
  },
  {
   "cell_type": "code",
   "execution_count": 2,
   "metadata": {},
   "outputs": [
    {
     "name": "stdout",
     "output_type": "stream",
     "text": [
      "search: \u001b[0m\u001b[1mR\u001b[22m\u001b[0m\u001b[1ma\u001b[22m\u001b[0m\u001b[1mc\u001b[22m\u001b[0m\u001b[1ma\u001b[22m\u001b[0m\u001b[1mh\u001b[22m\u001b[0m\u001b[1mE\u001b[22m\u001b[0m\u001b[1mx\u001b[22m\u001b[0m\u001b[1mp\u001b[22m\u001b[0m\u001b[1mr\u001b[22m\u001b[0m\u001b[1me\u001b[22m\u001b[0m\u001b[1ms\u001b[22m\u001b[0m\u001b[1ms\u001b[22m\u001b[0m\u001b[1mi\u001b[22m\u001b[0m\u001b[1mo\u001b[22m\u001b[0m\u001b[1mn\u001b[22m\n",
      "\n"
     ]
    },
    {
     "data": {
      "text/latex": [
       "\\texttt{struct  RacahAlgebra.RacahExpression}  ... defines a type for a RacahExpression with symbolic arguments.\n",
       "\n",
       "\\begin{verbatim}\n",
       "+ summations    ::Array{Basic,1}      ... Summation indices.\n",
       "+ integrals     ::Array{Integral,1}   ... Integrals.\n",
       "+ phase         ::Basic               ... Phase of the Racah expression.\n",
       "+ weight        ::Basic               ... Weight of the Racah expression.\n",
       "+ deltas        ::Array{Kronecker,1}  ... List of Kronecker deltas.\n",
       "+ triangles     ::Array{Triangle,1}   ... List of Triangle deltas.\n",
       "+ w3js          ::Array{W3j,1}        ... List of Wigner 3-j symbols\n",
       "+ w6js          ::Array{W6j,1}        ... List of Wigner 6-j symbols\n",
       "+ w9js          ::Array{W9j,1}        ... List of Wigner 9-j symbols\n",
       "+ ylms          ::Array{Ylm,1}        ... List of spherical harmonics\n",
       "+ djpqs         ::Array{Djpq,1}       ... List of (small) Wigner rotation matrices\n",
       "\\end{verbatim}\n",
       "\\rule{\\textwidth}{1pt}\n",
       "\\texttt{RacahAlgebra.RacahExpression()}       ... constructor for defining an empty RacahExpression.\n",
       "\n",
       "\\rule{\\textwidth}{1pt}\n",
       "\\texttt{RacahAlgebra.RacahExpression(rex::RacahAlgebra.RacahExpression;}\n",
       "\n",
       "\\begin{verbatim}\n",
       "    summations=..,      integrals=..,   phase=..,       weight=..,      deltas=..,     triangles=..,       \n",
       "    w3js=..,            w6js=..,        w9js=..,        ylms=..,       djpqs=..) \n",
       "                \n",
       "... constructor for modifying a given rex::RacahExpression by 'overwriting' the explicitly selected parts of the \n",
       "    expression.\n",
       "\\end{verbatim}\n"
      ],
      "text/markdown": [
       "`struct  RacahAlgebra.RacahExpression`  ... defines a type for a RacahExpression with symbolic arguments.\n",
       "\n",
       "```\n",
       "+ summations    ::Array{Basic,1}      ... Summation indices.\n",
       "+ integrals     ::Array{Integral,1}   ... Integrals.\n",
       "+ phase         ::Basic               ... Phase of the Racah expression.\n",
       "+ weight        ::Basic               ... Weight of the Racah expression.\n",
       "+ deltas        ::Array{Kronecker,1}  ... List of Kronecker deltas.\n",
       "+ triangles     ::Array{Triangle,1}   ... List of Triangle deltas.\n",
       "+ w3js          ::Array{W3j,1}        ... List of Wigner 3-j symbols\n",
       "+ w6js          ::Array{W6j,1}        ... List of Wigner 6-j symbols\n",
       "+ w9js          ::Array{W9j,1}        ... List of Wigner 9-j symbols\n",
       "+ ylms          ::Array{Ylm,1}        ... List of spherical harmonics\n",
       "+ djpqs         ::Array{Djpq,1}       ... List of (small) Wigner rotation matrices\n",
       "```\n",
       "\n",
       "---\n",
       "\n",
       "`RacahAlgebra.RacahExpression()`       ... constructor for defining an empty RacahExpression.\n",
       "\n",
       "---\n",
       "\n",
       "`RacahAlgebra.RacahExpression(rex::RacahAlgebra.RacahExpression;`\n",
       "\n",
       "```\n",
       "    summations=..,      integrals=..,   phase=..,       weight=..,      deltas=..,     triangles=..,       \n",
       "    w3js=..,            w6js=..,        w9js=..,        ylms=..,       djpqs=..) \n",
       "                \n",
       "... constructor for modifying a given rex::RacahExpression by 'overwriting' the explicitly selected parts of the \n",
       "    expression.\n",
       "```\n"
      ],
      "text/plain": [
       "  \u001b[36mstruct RacahAlgebra.RacahExpression\u001b[39m ... defines a type for a RacahExpression\n",
       "  with symbolic arguments.\n",
       "\n",
       "\u001b[36m  + summations    ::Array{Basic,1}      ... Summation indices.\u001b[39m\n",
       "\u001b[36m  + integrals     ::Array{Integral,1}   ... Integrals.\u001b[39m\n",
       "\u001b[36m  + phase         ::Basic               ... Phase of the Racah expression.\u001b[39m\n",
       "\u001b[36m  + weight        ::Basic               ... Weight of the Racah expression.\u001b[39m\n",
       "\u001b[36m  + deltas        ::Array{Kronecker,1}  ... List of Kronecker deltas.\u001b[39m\n",
       "\u001b[36m  + triangles     ::Array{Triangle,1}   ... List of Triangle deltas.\u001b[39m\n",
       "\u001b[36m  + w3js          ::Array{W3j,1}        ... List of Wigner 3-j symbols\u001b[39m\n",
       "\u001b[36m  + w6js          ::Array{W6j,1}        ... List of Wigner 6-j symbols\u001b[39m\n",
       "\u001b[36m  + w9js          ::Array{W9j,1}        ... List of Wigner 9-j symbols\u001b[39m\n",
       "\u001b[36m  + ylms          ::Array{Ylm,1}        ... List of spherical harmonics\u001b[39m\n",
       "\u001b[36m  + djpqs         ::Array{Djpq,1}       ... List of (small) Wigner rotation matrices\u001b[39m\n",
       "\n",
       "  ────────────────────────────────────────────────────────────────────────────\n",
       "\n",
       "  \u001b[36mRacahAlgebra.RacahExpression()\u001b[39m ... constructor for defining an empty\n",
       "  RacahExpression.\n",
       "\n",
       "  ────────────────────────────────────────────────────────────────────────────\n",
       "\n",
       "  \u001b[36mRacahAlgebra.RacahExpression(rex::RacahAlgebra.RacahExpression;\u001b[39m\n",
       "\n",
       "\u001b[36m      summations=..,      integrals=..,   phase=..,       weight=..,      deltas=..,     triangles=..,       \u001b[39m\n",
       "\u001b[36m      w3js=..,            w6js=..,        w9js=..,        ylms=..,       djpqs=..) \u001b[39m\n",
       "\u001b[36m                  \u001b[39m\n",
       "\u001b[36m  ... constructor for modifying a given rex::RacahExpression by 'overwriting' the explicitly selected parts of the \u001b[39m\n",
       "\u001b[36m      expression.\u001b[39m"
      ]
     },
     "execution_count": 2,
     "metadata": {},
     "output_type": "execute_result"
    }
   ],
   "source": [
    "? RacahExpression"
   ]
  },
  {
   "cell_type": "markdown",
   "metadata": {},
   "source": [
    "As seen from the definition of this (data) struct, the different 'delta' and Wigner *symbols* of such an expression are kept and maintained separately, so that the known *sum rules* can be applied more readily. Moreover, the last constructor of a `RacahExpression` shows that it quite simple to overwrite or extent an already *existing* `RacahExpression`, starting from a simple $\\mathbb{1}$:"
   ]
  },
  {
   "cell_type": "code",
   "execution_count": 3,
   "metadata": {},
   "outputs": [
    {
     "data": {
      "text/plain": [
       "1"
      ]
     },
     "execution_count": 3,
     "metadata": {},
     "output_type": "execute_result"
    }
   ],
   "source": [
    "RacahExpression()"
   ]
  },
  {
   "cell_type": "markdown",
   "metadata": {},
   "source": [
    "Perhaps, the *simplest* sum rules refer to the orthogonality of the Wigner 3j and 6j symbols; for example, the Wigner 6j symbols fullfill the following **orthogonality relations** which can be displayed (just for illustration here) by:"
   ]
  },
  {
   "cell_type": "code",
   "execution_count": 4,
   "metadata": {},
   "outputs": [
    {
     "data": {
      "text/latex": [
       "\\texttt{RacahAlgebra.sumRulesForTwoW6j(rex::RacahAlgebra.RacahExpression)}       ... attempts to find a simplification of the given Racah expression by using sum rules for one Wigner 6-j symbol.          Once a simplification is found, no attempt is made to find another simplifcation for this set of rules.         A (istrue, rex)::Tuple\\{Bool, RacahExpression\\} is returned but where rex has no meaning for !istrue.\n",
       "\n",
       "\\begin{verbatim}\n",
       "                                             2\n",
       "                                  ( X  Y  Z )\n",
       "            Sum(X,Y,Z)  [X,Y,Z]  {(         )}    =    [a,b,c]\n",
       "                                  ( a  b  c )\n",
       "             \n",
       "             \n",
       "                         ( a  b  X )   ( c  d  X )        1\n",
       "            Sum(X) [X]  {(         )} {(         )}  =   ---  d(p,q) d(a,d,p) d(b,c,p)\n",
       "                         ( c  d  p )   ( a  b  q )       [p]\n",
       "\\end{verbatim}\n"
      ],
      "text/markdown": [
       "`RacahAlgebra.sumRulesForTwoW6j(rex::RacahAlgebra.RacahExpression)`       ... attempts to find a simplification of the given Racah expression by using sum rules for one Wigner 6-j symbol.          Once a simplification is found, no attempt is made to find another simplifcation for this set of rules.         A (istrue, rex)::Tuple{Bool, RacahExpression} is returned but where rex has no meaning for !istrue.\n",
       "\n",
       "```\n",
       "                                             2\n",
       "                                  ( X  Y  Z )\n",
       "            Sum(X,Y,Z)  [X,Y,Z]  {(         )}    =    [a,b,c]\n",
       "                                  ( a  b  c )\n",
       "             \n",
       "             \n",
       "                         ( a  b  X )   ( c  d  X )        1\n",
       "            Sum(X) [X]  {(         )} {(         )}  =   ---  d(p,q) d(a,d,p) d(b,c,p)\n",
       "                         ( c  d  p )   ( a  b  q )       [p]\n",
       "```\n"
      ],
      "text/plain": [
       "  \u001b[36mRacahAlgebra.sumRulesForTwoW6j(rex::RacahAlgebra.RacahExpression)\u001b[39m ...\n",
       "  attempts to find a simplification of the given Racah expression by using sum\n",
       "  rules for one Wigner 6-j symbol. Once a simplification is found, no attempt\n",
       "  is made to find another simplifcation for this set of rules. A (istrue,\n",
       "  rex)::Tuple{Bool, RacahExpression} is returned but where rex has no meaning\n",
       "  for !istrue.\n",
       "\n",
       "\u001b[36m                                               2\u001b[39m\n",
       "\u001b[36m                                    ( X  Y  Z )\u001b[39m\n",
       "\u001b[36m              Sum(X,Y,Z)  [X,Y,Z]  {(         )}    =    [a,b,c]\u001b[39m\n",
       "\u001b[36m                                    ( a  b  c )\u001b[39m\n",
       "\u001b[36m               \u001b[39m\n",
       "\u001b[36m               \u001b[39m\n",
       "\u001b[36m                           ( a  b  X )   ( c  d  X )        1\u001b[39m\n",
       "\u001b[36m              Sum(X) [X]  {(         )} {(         )}  =   ---  d(p,q) d(a,d,p) d(b,c,p)\u001b[39m\n",
       "\u001b[36m                           ( c  d  p )   ( a  b  q )       [p]\u001b[39m"
      ]
     },
     "execution_count": 4,
     "metadata": {},
     "output_type": "execute_result"
    }
   ],
   "source": [
    "? RacahAlgebra.sumRulesForTwoW6j"
   ]
  },
  {
   "cell_type": "markdown",
   "metadata": {},
   "source": [
    "Both of these *rules* show that a summation over the product of two Wigner 6j symbols can be re-written just in terms of some quantum numbers and triangle conditions. Note that $[a,b,...] = (2a+1)\\: (2b+1)\\: ...$. More general, all the implemented sum rules are displayed as *inline* comments in the code, although not as *docstrings* (apart from this particular function here). \n",
    "\n",
    "Typically, *only some standard form of each sum rule is shown in the literature*, and many of these sum rules are just displayed in quite specialized texts about angular momenta. Likely, the most comprehensive compilation of these (and many other) rules can be found in the **monograph by Varshalovich et al. (1988)**. --- In general, however, one needs to recognize all the symmetries of a Racah expressions, implying all the phases and possible (weight) factors that arise from these symmetries. In JAC, this is realized by cycling automatically through all symmetric forms of the Wigner nj (n = 3,6,9) symbols. In a later step, we also plan to take the spherical harmonics and the Wigner rotation matrices into account as well into the internal representation of a `RacahExpression`.\n",
    "\n",
    "Again, let us first declare some `Basic` variables which we can later apply to define our first `RacahExpression`:"
   ]
  },
  {
   "cell_type": "code",
   "execution_count": 5,
   "metadata": {},
   "outputs": [],
   "source": [
    "a = Basic(:a);    b = Basic(:b);    c = Basic(:c);    d  = Basic(:d);    ee  = Basic(:ee);    f  = Basic(:f)\n",
    "g = Basic(:g);    h = Basic(:h);    k = Basic(:k);    l  = Basic(:l);    p   = Basic(:p);     q  = Basic(:q);     \n",
    "r = Basic(:r);    s = Basic(:s);    t = Basic(:t);    X  = Basic(:X);    Y   = Basic(:Y);     Z  = Basic(:Z);"
   ]
  },
  {
   "cell_type": "code",
   "execution_count": 6,
   "metadata": {},
   "outputs": [
    {
     "data": {
      "text/plain": [
       "Sum_[Basic[X, Y, Z]]  ((1 + 2*Y)*(1 + 2*Z)*(1 + 2*X))  W6j{X, Y, Z; a, b, c}  W6j{X, Y, Z; a, b, c}  "
      ]
     },
     "execution_count": 6,
     "metadata": {},
     "output_type": "execute_result"
    }
   ],
   "source": [
    "aw6j = W6j(X, Y, Z, a, b ,c);    bw6j = W6j(X, Y, Z, a, b ,c)\n",
    "rex  = RacahExpression( [X, Y, Z], Integral[], Basic(0), Basic((2*X+1)*(2*Y+1)*(2*Z+1)), \n",
    "                        Kronecker[], Triangle[], W3j[], W6j[aw6j, bw6j], W9j[], Ylm[], Djpq[] )"
   ]
  },
  {
   "cell_type": "markdown",
   "metadata": {},
   "source": [
    "As before, we can simply *evaluate* this expression which attempts to apply one of the -- more than 45 implemented -- sum rules in order to *reduce* either the number of Wigner symbols *and/or* the number of summation indices:"
   ]
  },
  {
   "cell_type": "code",
   "execution_count": 7,
   "metadata": {},
   "outputs": [
    {
     "name": "stdout",
     "output_type": "stream",
     "text": [
      ">> Apply sum rule for two W6j -- Sum(X,Y,Z) [X,Y,Z] ...\n"
     ]
    },
    {
     "data": {
      "text/plain": [
       "((1 + 2*b)*(1 + 2*c)*(1 + 2*a))  "
      ]
     },
     "execution_count": 7,
     "metadata": {},
     "output_type": "execute_result"
    }
   ],
   "source": [
    "RacahAlgebra.evaluate(rex)"
   ]
  },
  {
   "cell_type": "markdown",
   "metadata": {},
   "source": [
    "This example looks perhaps quite *over-simplified* as we could use exactly the *orthogonaly relation* from above to get this result. However, the same simplification also works if we first randomly re-write the given Racah expression and then attempt its simplification again."
   ]
  },
  {
   "cell_type": "code",
   "execution_count": 8,
   "metadata": {},
   "outputs": [
    {
     "name": "stdout",
     "output_type": "stream",
     "text": [
      ">> Select 4th equivalent form for W6j{X, Y, Z; a, b, c}    ==>   W6j{Y, Z, X; b, c, a}  \n",
      ">> Select 6th equivalent form for W6j{X, Y, Z; a, b, c}    ==>   W6j{Z, Y, X; c, b, a}  \n",
      "rex2 = Sum_[Basic[X, Y, Z]]  ((1 + 2*Y)*(1 + 2*Z)*(1 + 2*X))  W6j{Y, Z, X; b, c, a}  W6j{Z, Y, X; c, b, a}  \n",
      ">> Apply sum rule for two W6j -- Sum(X,Y,Z) [X,Y,Z] ...\n"
     ]
    },
    {
     "data": {
      "text/plain": [
       "((1 + 2*b)*(1 + 2*c)*(1 + 2*a))  "
      ]
     },
     "execution_count": 8,
     "metadata": {},
     "output_type": "execute_result"
    }
   ],
   "source": [
    "rex2 = RacahAlgebra.equivalentForm(rex);   @show rex2\n",
    "RacahAlgebra.evaluate(rex2)"
   ]
  },
  {
   "cell_type": "markdown",
   "metadata": {},
   "source": [
    "You may test this simplification several times for (randomly) different *equivalent forms* of `rex` and, likely, will receive slightly different results with regard to the number of symbols and summations. This is related to the **phase issue**, which refers to the fact that it is not easy to always recognize how the overall phase can be re-written internally so that a particular sum rule applies. Here, we note that the application of any sum rule *always requests* that all other parts of the given Racah expression, including its overall phase, must be independent of those parts which are to be removed. Further (formal) improvement on this **phase issue** might be possible but, sometimes, these equivalences need to be recognized and corrected *manually*."
   ]
  },
  {
   "cell_type": "markdown",
   "metadata": {},
   "source": [
    "Of course, we can simplify also less obvious Racah expressions, such as:"
   ]
  },
  {
   "cell_type": "code",
   "execution_count": 9,
   "metadata": {},
   "outputs": [
    {
     "name": "stdout",
     "output_type": "stream",
     "text": [
      "rex = Sum_[Basic[X]]  (-1)^(X)  (1 + 2*X)  W6j{a, b, X; c, d, p}  W6j{c, d, X; b, a, q}  \n",
      ">> Select 22th equivalent form for W6j{a, b, X; c, d, p}    ==>   W6j{b, p, c; d, X, a}  \n",
      ">> Select 23th equivalent form for W6j{c, d, X; b, a, q}    ==>   W6j{q, b, d; X, c, a}  \n",
      ">> Apply sum rule for two W6j -- Sum(X) (-1)^X [X] (1)^X ...\n"
     ]
    },
    {
     "data": {
      "text/plain": [
       "(-1)^(-p - q)  W6j{b, c, p; a, d, q}  "
      ]
     },
     "execution_count": 9,
     "metadata": {},
     "output_type": "execute_result"
    }
   ],
   "source": [
    "aw6j = W6j(a, b, X, c, d, p);    bw6j = W6j(c, d, X, b, a, q)\n",
    "rex  = RacahExpression( [X], Integral[], Basic(X), Basic(2*X+1), Kronecker[], Triangle[], W3j[], W6j[aw6j, bw6j], W9j[], Ylm[], Djpq[] )\n",
    "@show rex\n",
    "rex  = RacahAlgebra.equivalentForm(rex)\n",
    "RacahAlgebra.evaluate(rex)"
   ]
  },
  {
   "cell_type": "code",
   "execution_count": 10,
   "metadata": {},
   "outputs": [
    {
     "name": "stdout",
     "output_type": "stream",
     "text": [
      "rex = Sum_[Basic[X]]  (1 + 2*X)  W6j{a, f, X; ee, b, s}  W9j{a, f, X; d, q, ee; p, c, b}  \n",
      ">> Select 9th equivalent form for W6j{a, f, X; ee, b, s}    ==>   W6j{b, a, s; f, ee, X}  \n",
      ">> Select 56th equivalent form for W9j{a, f, X; d, q, ee; p, c, b}    ==>   W9j{c, f, q; b, X, ee; p, a, d}  \n",
      ">> Apply sum rule for one W6j & one W9j -- Sum(X) [X] ...\n"
     ]
    },
    {
     "data": {
      "text/plain": [
       "(-1)^(2*s)  W6j{b, a, s; d, c, p}  W6j{d, c, s; f, ee, q}  "
      ]
     },
     "execution_count": 10,
     "metadata": {},
     "output_type": "execute_result"
    }
   ],
   "source": [
    "aw6j = W6j(a, f, X, ee, b, s);   bw9j = W9j(a, f, X, d, q, ee, p, c, b)\n",
    "rex  = RacahExpression( [X], Integral[], Basic(0), Basic(2*X+1), Kronecker[], Triangle[], W3j[], W6j[aw6j], W9j[bw9j], Ylm[], Djpq[] )\n",
    "@show rex\n",
    "rex  = RacahAlgebra.equivalentForm(rex)\n",
    "RacahAlgebra.evaluate(rex)"
   ]
  },
  {
   "cell_type": "markdown",
   "metadata": {},
   "source": [
    "Apart from these quite simple expressions, much more complex ones rapidly arise if angular momenta are coupled together or *re-coupled* in order to allow the simplification of many-particle matrix elements."
   ]
  },
  {
   "cell_type": "markdown",
   "metadata": {},
   "source": [
    "In the next example, we shall consider the (so-called) *re-coupling coefficients* $ <(j_1,j_2)\\, J_{12}, j_3; JM| j_1, (j_2,j_3)\\,J_{23}; JM>$ which is known to be independent of $M$. The expression of this re-coupling coefficient can be written down quite easily by applying twice a Clesch-Gordan expansion on both sides of the 'overlap matrix element'. Simple manipulations gives immediately rise to the `RacahExpression`:"
   ]
  },
  {
   "cell_type": "code",
   "execution_count": 11,
   "metadata": {},
   "outputs": [
    {
     "data": {
      "text/plain": [
       "Sum_[Basic[m1, m2, m3, M12, M23]]  (-1)^(-J12 + J23 - 2*M - M12 - M23 - 2*j1 + 2*j3)  ((1 + 2*J)*sqrt((1 + 2*J12)*(1 + 2*J23)))  W3j(J12, j3, J; M12, m3, -M)  W3j(j1, j2, J12; m1, m2, -M12)  W3j(j2, j3, J23; m2, m3, -M23)  W3j(j1, J23, J; m1, M23, -M)  "
      ]
     },
     "execution_count": 11,
     "metadata": {},
     "output_type": "execute_result"
    }
   ],
   "source": [
    "j1   = Basic(:j1);    j2 = Basic(:j2);    j3 = Basic(:j3);    J12 = Basic(:J12);    J23 = Basic(:J23);    J = Basic(:J)\n",
    "m1   = Basic(:m1);    m2 = Basic(:m2);    m3 = Basic(:m3);    M12 = Basic(:M12);    M23 = Basic(:M23);    M = Basic(:M)\n",
    "w3ja = W3j(J12, j3, J, M12, m3, -M);        w3jb = W3j(j1, j2, J12, m1, m2, -M12)       \n",
    "w3jc = W3j(j2, j3, J23, m2, m3, -M23);      w3jd = W3j(j1, J23, J, m1, M23, -M)   \n",
    "rex  = RacahExpression( [m1, m2, m3, M12, M23], Integral[], -J12 + 2*j3 - 2*M - 2*j1 - M12 - M23 + J23, \n",
    "            (2*J+1) * sqrt( (2*J12+1)*(2*J23+1) ), Kronecker[], Triangle[], [w3ja, w3jb, w3jc, w3jd], W6j[], W9j[], Ylm[], Djpq[] )"
   ]
  },
  {
   "cell_type": "markdown",
   "metadata": {},
   "source": [
    "which includes a five-fold summation (three further summations, for instance, for $m1'$, $m2'$ and $m3'$ can be simplified because of the assumed normalization of the $|j_p m_p>$ states of all subsystems). Here, the simplification of this `RacahExpression` is already harder to *see* but can be obtained by calling:"
   ]
  },
  {
   "cell_type": "code",
   "execution_count": 12,
   "metadata": {},
   "outputs": [
    {
     "name": "stdout",
     "output_type": "stream",
     "text": [
      ">> Apply sum rule for three W3j -- Sum(m4,m5,m6) ...\n",
      ">> Apply sum rule for two W3j -- Sum(np,nq) (-1)^(-np-nq) ...\n",
      ">>> two W3j -- Sum(np,nq) (-1)^(-np-nq)::::  phase = -J + 2*J23 + 2*M + j1 - j2 - j3   without = Basic[M]   \n",
      "    zeroTerms = Basic[2*J + 2*J23 + 2*j1, -M + M23 + m1, 2*j1 + 2*m1, 2*J23 + 2*M23, 2*J - 2*M, M - M23 - m1, 2*j1 - 2*m1, 2*J23 - 2*M23, 2*J + 2*M, 2*J12 + 2*j1 + 2*j2, 2*J23 + 2*j2 + 2*j3, 2*J + 2*J12 + 2*j3]\n",
      ">>> two W3j -- Sum(np,nq) (-1)^(-np-nq):  newPhase = J + 2*J23 - 3*j1 - j2 - j3 - 4*m1  done !!!!\n",
      ">>> two W3j -- Sum(np,nq) (-1)^(-np-nq):  newPhase = -J - j1 - j2 - j3  now shorter !!!!\n"
     ]
    },
    {
     "data": {
      "text/plain": [
       "(-1)^(-J - j1 - j2 - j3)  (sqrt((1 + 2*J12)*(1 + 2*J23)))  W6j{j1, J23, J; j3, J12, j2}  "
      ]
     },
     "execution_count": 12,
     "metadata": {},
     "output_type": "execute_result"
    }
   ],
   "source": [
    "RacahAlgebra.evaluate(rex)"
   ]
  },
  {
   "cell_type": "markdown",
   "metadata": {},
   "source": [
    "The given recoupling coefficient is obviously independent of $M$ and just given by a Wigner 6j symbol times some rather trivial (delta) factors. A closer inspection of the Wigner symbol also enables one to express the phase in a slightly more convinient form: $(-1)^{j_1 + j_2 + j_3 + J}$; cf. the **phase issue**."
   ]
  },
  {
   "cell_type": "code",
   "execution_count": null,
   "metadata": {},
   "outputs": [],
   "source": []
  },
  {
   "cell_type": "markdown",
   "metadata": {},
   "source": [
    "## **The following part of this nootebook is still under construction.**"
   ]
  },
  {
   "cell_type": "code",
   "execution_count": null,
   "metadata": {},
   "outputs": [],
   "source": []
  }
 ],
 "metadata": {
  "@webio": {
   "lastCommId": null,
   "lastKernelId": null
  },
  "kernelspec": {
   "display_name": "Julia 1.6.2",
   "language": "julia",
   "name": "julia-1.6"
  },
  "language_info": {
   "file_extension": ".jl",
   "mimetype": "application/julia",
   "name": "julia",
   "version": "1.6.2"
  }
 },
 "nbformat": 4,
 "nbformat_minor": 4
}
