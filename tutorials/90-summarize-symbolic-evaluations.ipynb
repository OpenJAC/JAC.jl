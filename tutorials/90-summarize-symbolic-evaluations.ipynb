{
 "cells": [
  {
   "cell_type": "markdown",
   "metadata": {},
   "source": [
    "# Symbolic simplification of expressions from Racah's algebra and the spherical-tensor formalism with JAC\n",
    "\n",
    "The following tutorials show how JAC to simplify **Racah expressions & spherical tensors algebracially**, i.e. if the angular momenta are not specified numerically.\n",
    "\n",
    "In atomic and quantum many-particle physics, (the coupling of) angular momenta and spherical tensors play a very crucial role for the evaluation and spin-angular integration of many-particle matrix elements. This coupling often leads to algebraic expressions which, more often than not, are written in terms of generalized Clebsch-Gordan coefficients and/or Wigner nj symbols as well as the Wigner rotation matrices and spherical harmonics. Although the evaluation and simplification of such expressions is, at least *in principle*, a rather straigthforward task, it may become (extremely) cumbersome if complex systems or physical scenarios are considered.\n",
    "\n",
    "After the pioneering work by Wigner in the late 1930s, in particular Guilio Racah developed a powerful machinery in the 1940s, known as **Racah algebra (techniques)** today, in order to deal with the angular momenta of (rotationally invariant) quantum many-particle systems. Briefly speaking, this machinery includes a number of strategies to simplify (so-called) **Racah expressions**. In JAC, these expressions are defined by a summation over Wigner nj symbols of different kind(s) as well as (various integrals over) the spherical harmonics and Kronecker and triangular deltas, cf. User Guide, Section 15.1. Here, the summation may formally run over any number of angular momenta and Wigner nj symbols. Since, in the theory of angular momentum, most symbols obey a rather high symmetry, the complexity of such Racah expressions increases very rapidly as more Wigner symbols, rotation matrices *and/or* spherical harmonics appear in the (product) terms over which one needs to sum. --- In general, there are different strategies, that can be (successively) applied in order to **simplify such Racah expressions algebracially**, i.e. if the angular momenta are not specified numerically."
   ]
  },
  {
   "cell_type": "markdown",
   "metadata": {},
   "source": [
    "##  91-rewrite-Wigner-symbols.ipynb\n",
    "### **Rewrite the Wigner nj symbols by means of recursions and special values**\n",
    "Use of known **special values** and **recursion formulas**: Single Wigner nj symbols or spherical harmomic can often be re-written by a (much) simpler expression if some of the angular momenta (quantum numbers) are given numerically. Here, we show how such special values and recursion readily applied to individual Wigner symbols."
   ]
  },
  {
   "cell_type": "markdown",
   "metadata": {},
   "source": [
    "##  92-simplify-by-Racah-sum-rules.ipynb\n",
    "### **Simplify Racah expressions by means of sum rules**\n",
    "Use of **orthogonality relations** and **sum rules for the Wigner symbols**: Although the true power of Racah's algebra lays refers the using such some rules for simplification, they are often not so simply to apply. Here, we show how Racah expressions can be evaluated symbolically."
   ]
  },
  {
   "cell_type": "markdown",
   "metadata": {},
   "source": [
    "##  94-evaluate-recoupling-coefficients.ipynb\n",
    "### **Evaluate re-coupling coefficients**\n",
    "In various research areas, a recoupling of angular momenta is required, due to the use different **coupling schemes**, in order to make transformation between coordinates and the separation of subsystems explicit. A quite simple example refers to the transformation (re-coupling) of three angular momenta $j_1,\\, j_2,\\, j_3$, for which the standard Clebsch-Gordan expansions may give rapidly rise to complex and cumbersome expression. In general, many of these transformations can be expressed in terms of **recoupling coefficients**, a formal generalization of the well-known *Clebsch-Gordan* coefficients. Here, we introduce and explain a notation which makes the application and symbolic evaluation of general recoupling coefficients much easier."
   ]
  },
  {
   "cell_type": "markdown",
   "metadata": {},
   "source": [
    "##  96-evaluate-spherical-tensors.ipynb\n",
    "### **Evaluate spherical tensor products and transition amplitudes**\n",
    "Spherical tensors are a *key concept* in atomic and nuclear (structure) theory and are central to most computations. While the daily use of JAC does not require much prior knowledge about these tensors, they often occur in the formulation, decomposition and simplification of matrix elements and transition amplitudes, and both at the single-, two- and many-electron formulation of the theory. The use of spherical tensor representations of atomic states, operators and density matrices plays an crucial role as they enable to decompose and simplify many expressions prior to their computations by using the theory of the SU$_2$ special-unitary and SO$_3$ rotation group. It is also very closely related to the use and handling of expressions from Racah's algebra. --- Here, we show how such spherical tensor products, matrix elements and amplitudes can be manipulated symbolically."
   ]
  },
  {
   "cell_type": "code",
   "execution_count": null,
   "metadata": {},
   "outputs": [],
   "source": []
  }
 ],
 "metadata": {
  "@webio": {
   "lastCommId": null,
   "lastKernelId": null
  },
  "kernelspec": {
   "display_name": "Julia 1.6.2",
   "language": "julia",
   "name": "julia-1.6"
  },
  "language_info": {
   "file_extension": ".jl",
   "mimetype": "application/julia",
   "name": "julia",
   "version": "1.6.2"
  }
 },
 "nbformat": 4,
 "nbformat_minor": 4
}
