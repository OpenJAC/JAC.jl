{
 "cells": [
  {
   "cell_type": "markdown",
   "metadata": {},
   "source": [
    "# Compute the decay cascade of $1s \\to 3p$ photoexcited neon"
   ]
  },
  {
   "cell_type": "code",
   "execution_count": 1,
   "metadata": {},
   "outputs": [],
   "source": [
    "using JAC"
   ]
  },
  {
   "cell_type": "markdown",
   "metadata": {},
   "source": [
    "Most excited atomic levels decay rapidly with lifetimes typically ranging from the femto- to the (meta-stable) micro-second regime; more often than not, this decay *proceeds* via many intermediate levels before the state of the atom or ion becomes stable. More specifically, here we shall talk about *atomic cascades* if (i) three or more charges states are involved in the excitation and/or decay cascade and (ii) if it becomes cumbersome to specify all the intermediate and final levels explictly. For such cascades, moreover, the observed ion distributions or the x-ray and electron spectra are usually much more interesting than the individual decay pathes or which intermediate levels contribute to the particular decay.\n",
    "\n",
    "To model such cascades theoretically, one requires of course both, the computation of a reasonably good -- excitation and decay -- data set as well as the proper *combination* of these data in order to make the theoretical results comparable to observations. In JAC, we therefore distinguish *two separate steps for all kinds of cascade computations:* **(1) The computation of the cascade tree**, i.e. of all transition amplitudes, rates and cross sections that appear in any physically allowed *decay path* of the atoms. Here, a *path* refers to a sequence of atomic transitions which either (explicitly) excite the atoms due to photoionization or electron impact, or which subsequently leads to the stabilization of the atom. Afterwards, **(2) a cascade simulation** need to be performed with the data from the cascade tree of step (1) in order to derive the physically requested information.\n",
    "\n",
    "In practice, of course, *atomic cascades* may become very complex and unfeasible to compute. Therefore, in order to deal with such cascades, one often needs to restrict either the number of charge states, the atomic processes to be included into the cascade, the approach for describing the required wave functions, or several others features. The usual goal is to generate and process all amplitudes for the given *physical processes* (e.g. photon emission, Auger, photoionization, ...) *automatically*, while restricting the comptutions by means of some predefined approach or a few additional assumptions.\n",
    "\n",
    "\n",
    "As a very first example of an atomic cascde, we shall consider the decay of photo-excited $1s \\to 3p$ neon which either decays by autoionization of photon emission. In this example, we shall restrict ourselves to a very simple approach in generating all the necessary wave functions as well as to the simulation of the final ion and level distributions. Further properties, which can be simulated from the cascade tree data, will likely be considered in the future.\n",
    "\n",
    "\n",
    "In JAC, the (transition) data of a cascade tree is computed be means of a `Cascade.Computation()`, a container to keep all necessary information about the atom, its initial state, the maximum number of emitted electrons and other information as easily derived from the experimental set-up. We will easily understand the necessary input for such a cascade tree computation by: \n"
   ]
  },
  {
   "cell_type": "code",
   "execution_count": 2,
   "metadata": {},
   "outputs": [
    {
     "data": {
      "text/latex": [
       "\\texttt{struct  Cascade.Computation}       ... defines a type for a cascade computation, i.e. for the computation of a whole photon excitation, photon ionization and/or          decay cascade. The – input and control – data from this computation can be modified, adapted and refined to the practical needs,          and before the actual computations are carried out explictly. Initially, this struct just contains the physical meta-data about the          cascade, that is to be calculated, but a new instance of the same Cascade.Computation gets later enlarged in course of the          computation in order to keep also wave functions, level multiplets, etc.\n",
       "\n",
       "\\begin{verbatim}\n",
       "+ name               ::String                          ... A name for the cascade\n",
       "+ nuclearModel       ::Nuclear.Model                   ... Model, charge and parameters of the nucleus.\n",
       "+ grid               ::Radial.Grid                     ... The radial grid to be used for the computation.\n",
       "+ asfSettings        ::AsfSettings                     ... Provides the settings for the SCF process.\n",
       "+ scheme             ::Cascade.AbstractCascadeScheme   ... Scheme of the atomic cascade (photoionization, decay, ...)\n",
       "+ approach           ::Cascade.AbstractCascadeApproach \n",
       "    ... Computational approach/model that is applied to generate and evaluate the cascade; possible approaches are: \n",
       "        {AverageSCA(), SCA(), ...}\n",
       "+ initialConfs       ::Array{Configuration,1}          \n",
       "    ... List of one or several configurations that contain the level(s) from which the cascade starts.\n",
       "+ initialMultiplets  ::Array{Multiplet,1}              \n",
       "    ... List of one or several (initial) multiplets; either initialConfs 'xor' initialMultiplets can  be specified \n",
       "        for a given cascade computation.\n",
       "\\end{verbatim}\n",
       "\\rule{\\textwidth}{1pt}\n",
       "\\texttt{Cascade.Computation()}  ... constructor for an 'default' instance of a Cascade.Computation.\n",
       "\n",
       "\\rule{\\textwidth}{1pt}\n",
       "\\texttt{Cascade.Computation(comp::Cascade.Computation;}\n",
       "\n",
       "\\begin{verbatim}\n",
       "        name=..,               nuclearModel=..,             grid=..,              asfSettings=..,     \n",
       "        scheme=..,             approach=..,                 initialConfigs=..,    initialMultiplets=..)\n",
       "        \n",
       "... constructor for re-defining the computation::Cascade.Computation.\n",
       "\\end{verbatim}\n"
      ],
      "text/markdown": [
       "`struct  Cascade.Computation`       ... defines a type for a cascade computation, i.e. for the computation of a whole photon excitation, photon ionization and/or          decay cascade. The – input and control – data from this computation can be modified, adapted and refined to the practical needs,          and before the actual computations are carried out explictly. Initially, this struct just contains the physical meta-data about the          cascade, that is to be calculated, but a new instance of the same Cascade.Computation gets later enlarged in course of the          computation in order to keep also wave functions, level multiplets, etc.\n",
       "\n",
       "```\n",
       "+ name               ::String                          ... A name for the cascade\n",
       "+ nuclearModel       ::Nuclear.Model                   ... Model, charge and parameters of the nucleus.\n",
       "+ grid               ::Radial.Grid                     ... The radial grid to be used for the computation.\n",
       "+ asfSettings        ::AsfSettings                     ... Provides the settings for the SCF process.\n",
       "+ scheme             ::Cascade.AbstractCascadeScheme   ... Scheme of the atomic cascade (photoionization, decay, ...)\n",
       "+ approach           ::Cascade.AbstractCascadeApproach \n",
       "    ... Computational approach/model that is applied to generate and evaluate the cascade; possible approaches are: \n",
       "        {AverageSCA(), SCA(), ...}\n",
       "+ initialConfs       ::Array{Configuration,1}          \n",
       "    ... List of one or several configurations that contain the level(s) from which the cascade starts.\n",
       "+ initialMultiplets  ::Array{Multiplet,1}              \n",
       "    ... List of one or several (initial) multiplets; either initialConfs 'xor' initialMultiplets can  be specified \n",
       "        for a given cascade computation.\n",
       "```\n",
       "\n",
       "---\n",
       "\n",
       "`Cascade.Computation()`  ... constructor for an 'default' instance of a Cascade.Computation.\n",
       "\n",
       "---\n",
       "\n",
       "`Cascade.Computation(comp::Cascade.Computation;`\n",
       "\n",
       "```\n",
       "        name=..,               nuclearModel=..,             grid=..,              asfSettings=..,     \n",
       "        scheme=..,             approach=..,                 initialConfigs=..,    initialMultiplets=..)\n",
       "        \n",
       "... constructor for re-defining the computation::Cascade.Computation.\n",
       "```\n"
      ],
      "text/plain": [
       "  \u001b[36mstruct Cascade.Computation\u001b[39m ... defines a type for a cascade computation,\n",
       "  i.e. for the computation of a whole photon excitation, photon ionization\n",
       "  and/or decay cascade. The – input and control – data from this computation\n",
       "  can be modified, adapted and refined to the practical needs, and before the\n",
       "  actual computations are carried out explictly. Initially, this struct just\n",
       "  contains the physical meta-data about the cascade, that is to be calculated,\n",
       "  but a new instance of the same Cascade.Computation gets later enlarged in\n",
       "  course of the computation in order to keep also wave functions, level\n",
       "  multiplets, etc.\n",
       "\n",
       "\u001b[36m  + name               ::String                          ... A name for the cascade\u001b[39m\n",
       "\u001b[36m  + nuclearModel       ::Nuclear.Model                   ... Model, charge and parameters of the nucleus.\u001b[39m\n",
       "\u001b[36m  + grid               ::Radial.Grid                     ... The radial grid to be used for the computation.\u001b[39m\n",
       "\u001b[36m  + asfSettings        ::AsfSettings                     ... Provides the settings for the SCF process.\u001b[39m\n",
       "\u001b[36m  + scheme             ::Cascade.AbstractCascadeScheme   ... Scheme of the atomic cascade (photoionization, decay, ...)\u001b[39m\n",
       "\u001b[36m  + approach           ::Cascade.AbstractCascadeApproach \u001b[39m\n",
       "\u001b[36m      ... Computational approach/model that is applied to generate and evaluate the cascade; possible approaches are: \u001b[39m\n",
       "\u001b[36m          {AverageSCA(), SCA(), ...}\u001b[39m\n",
       "\u001b[36m  + initialConfs       ::Array{Configuration,1}          \u001b[39m\n",
       "\u001b[36m      ... List of one or several configurations that contain the level(s) from which the cascade starts.\u001b[39m\n",
       "\u001b[36m  + initialMultiplets  ::Array{Multiplet,1}              \u001b[39m\n",
       "\u001b[36m      ... List of one or several (initial) multiplets; either initialConfs 'xor' initialMultiplets can  be specified \u001b[39m\n",
       "\u001b[36m          for a given cascade computation.\u001b[39m\n",
       "\n",
       "  ────────────────────────────────────────────────────────────────────────────\n",
       "\n",
       "  \u001b[36mCascade.Computation()\u001b[39m ... constructor for an 'default' instance of a\n",
       "  Cascade.Computation.\n",
       "\n",
       "  ────────────────────────────────────────────────────────────────────────────\n",
       "\n",
       "  \u001b[36mCascade.Computation(comp::Cascade.Computation;\u001b[39m\n",
       "\n",
       "\u001b[36m          name=..,               nuclearModel=..,             grid=..,              asfSettings=..,     \u001b[39m\n",
       "\u001b[36m          scheme=..,             approach=..,                 initialConfigs=..,    initialMultiplets=..)\u001b[39m\n",
       "\u001b[36m          \u001b[39m\n",
       "\u001b[36m  ... constructor for re-defining the computation::Cascade.Computation.\u001b[39m"
      ]
     },
     "execution_count": 2,
     "metadata": {},
     "output_type": "execute_result"
    }
   ],
   "source": [
    "? Cascade.Computation"
   ]
  },
  {
   "cell_type": "markdown",
   "metadata": {},
   "source": [
    "Apart from a user-defined name (string), the specification of the nucleus and the radial grid, here we need to specify either the initial configurations *(x)or* the initial multiplets whose levels *starts* the photoionization or decay cascade. Of course, only one, configurations or multiplets, can be given, and an error is issued if both are specified for the same computation. As usual, the `asfsettings` determine how the SCF and CI computations are performed internally, although the default is here often most appropriate.\n",
    "\n",
    "Two central input parameters for all cascade computations refer to the `scheme::Cascade.AbstractCascadeScheme` and the `approach::Cascade.AbstractCascadeApproach`. The cascade `scheme` determines whether we consider an photoionization or a decay scheme for the initial levels, and other useful schemes (electron-impact, double ionization, ...) might be added in the future:"
   ]
  },
  {
   "cell_type": "code",
   "execution_count": 3,
   "metadata": {},
   "outputs": [
    {
     "data": {
      "text/latex": [
       "\\texttt{abstract type Cascade.AbstractCascadeScheme}      ... defines an abstract type to distinguish different excitation, ionization and decay schemes of an atomic cascade; see also:\n",
       "\n",
       "\\begin{verbatim}\n",
       "+ struct StepwiseDecayScheme       \n",
       "    ... to represent a standard decay scheme, starting from the levels of one or several initial multiplets.\n",
       "+ struct PhotonIonizationScheme    \n",
       "    ... to represent a (prior) photoionization part of a cascade for a list of given photon energies.\n",
       "+ struct PhotonExcitationScheme    \n",
       "    ... to represent a (prior) photo-excitation part of a cascade for a specified set of excitations.\n",
       "+ struct DielectronicCaptureScheme  \n",
       "    ... to represent the (dielectronic) capture of an electron for a maximum excitation energy and a given list of\n",
       "        subshells; the excitation energy refers to the levels of the reference configurations, and cascade blocks are built\n",
       "        only with the given subshells.\n",
       "+ struct HollowIonScheme    \n",
       "    ... to represent the capture of one or several electrons into a list of subshells; various distributions of the\n",
       "        electron among these shells are supported. For the subsequent decay, the list of decay shells need to be specified\n",
       "        as well.\n",
       "+ struct ElectronExcitationScheme  \n",
       "    ... to represent a (prior) electron-impact excitation part of a cascade for given electron energies (not yet).\n",
       "\\end{verbatim}\n"
      ],
      "text/markdown": [
       "`abstract type Cascade.AbstractCascadeScheme`      ... defines an abstract type to distinguish different excitation, ionization and decay schemes of an atomic cascade; see also:\n",
       "\n",
       "```\n",
       "+ struct StepwiseDecayScheme       \n",
       "    ... to represent a standard decay scheme, starting from the levels of one or several initial multiplets.\n",
       "+ struct PhotonIonizationScheme    \n",
       "    ... to represent a (prior) photoionization part of a cascade for a list of given photon energies.\n",
       "+ struct PhotonExcitationScheme    \n",
       "    ... to represent a (prior) photo-excitation part of a cascade for a specified set of excitations.\n",
       "+ struct DielectronicCaptureScheme  \n",
       "    ... to represent the (dielectronic) capture of an electron for a maximum excitation energy and a given list of\n",
       "        subshells; the excitation energy refers to the levels of the reference configurations, and cascade blocks are built\n",
       "        only with the given subshells.\n",
       "+ struct HollowIonScheme    \n",
       "    ... to represent the capture of one or several electrons into a list of subshells; various distributions of the\n",
       "        electron among these shells are supported. For the subsequent decay, the list of decay shells need to be specified\n",
       "        as well.\n",
       "+ struct ElectronExcitationScheme  \n",
       "    ... to represent a (prior) electron-impact excitation part of a cascade for given electron energies (not yet).\n",
       "```\n"
      ],
      "text/plain": [
       "  \u001b[36mabstract type Cascade.AbstractCascadeScheme\u001b[39m ... defines an abstract type to\n",
       "  distinguish different excitation, ionization and decay schemes of an atomic\n",
       "  cascade; see also:\n",
       "\n",
       "\u001b[36m  + struct StepwiseDecayScheme       \u001b[39m\n",
       "\u001b[36m      ... to represent a standard decay scheme, starting from the levels of one or several initial multiplets.\u001b[39m\n",
       "\u001b[36m  + struct PhotonIonizationScheme    \u001b[39m\n",
       "\u001b[36m      ... to represent a (prior) photoionization part of a cascade for a list of given photon energies.\u001b[39m\n",
       "\u001b[36m  + struct PhotonExcitationScheme    \u001b[39m\n",
       "\u001b[36m      ... to represent a (prior) photo-excitation part of a cascade for a specified set of excitations.\u001b[39m\n",
       "\u001b[36m  + struct DielectronicCaptureScheme  \u001b[39m\n",
       "\u001b[36m      ... to represent the (dielectronic) capture of an electron for a maximum excitation energy and a given list of\u001b[39m\n",
       "\u001b[36m          subshells; the excitation energy refers to the levels of the reference configurations, and cascade blocks are built\u001b[39m\n",
       "\u001b[36m          only with the given subshells.\u001b[39m\n",
       "\u001b[36m  + struct HollowIonScheme    \u001b[39m\n",
       "\u001b[36m      ... to represent the capture of one or several electrons into a list of subshells; various distributions of the\u001b[39m\n",
       "\u001b[36m          electron among these shells are supported. For the subsequent decay, the list of decay shells need to be specified\u001b[39m\n",
       "\u001b[36m          as well.\u001b[39m\n",
       "\u001b[36m  + struct ElectronExcitationScheme  \u001b[39m\n",
       "\u001b[36m      ... to represent a (prior) electron-impact excitation part of a cascade for given electron energies (not yet).\u001b[39m"
      ]
     },
     "execution_count": 3,
     "metadata": {},
     "output_type": "execute_result"
    }
   ],
   "source": [
    "? Cascade.AbstractCascadeScheme"
   ]
  },
  {
   "cell_type": "markdown",
   "metadata": {},
   "source": [
    "Below, we shall consider the **stepwise decay** of the neon $1s 2s^2 2p^6 3p$ configuration; for such a decay scheme, further input data need to be specified by:"
   ]
  },
  {
   "cell_type": "code",
   "execution_count": 4,
   "metadata": {},
   "outputs": [
    {
     "data": {
      "text/latex": [
       "\\texttt{struct  Cascade.StepwiseDecayScheme  <:  Cascade.AbstractCascadeScheme}       ... a struct to represent (and generate) a mean-field orbital basis.\n",
       "\n",
       "\\begin{verbatim}\n",
       "+ processes             ::Array{Basics.AbstractProcess,1} \n",
       "    ... List of the atomic processes that are supported and should be included into the cascade.\n",
       "+ maxElectronLoss       ::Int64             \n",
       "    ... (Maximum) Number of electrons in which the initial- and final-state configurations can differ from each other; \n",
       "        this also determines the maximal steps of any particular decay path.\n",
       "+ chargeStateShifts     ::Dict{Int64,Float64} \n",
       "    ... (N => en) total energy shifts of all levels with N electrons; these shifts [in a.u.] help open/close decay \n",
       "        channels by simply shifting the total energies of all levels.\n",
       "+ NoShakeDisplacements  ::Int64             \n",
       "    ... Maximum number of electron displacements due to shake-up  or shake-down processes in any individual step of cascade.\n",
       "+ shakeFromShells       ::Array{Shell,1}        ... List of shells from which shake transitions may occur.\n",
       "+ shakeToShells         ::Array{Shell,1}        ... List of shells into which shake transitions may occur.\n",
       "\\end{verbatim}\n",
       "\\rule{\\textwidth}{1pt}\n",
       "\\texttt{Cascade.StepwiseDecayScheme()}  ... constructor for an 'default' instance of a Cascade.StepwiseDecayScheme.\n",
       "\n"
      ],
      "text/markdown": [
       "`struct  Cascade.StepwiseDecayScheme  <:  Cascade.AbstractCascadeScheme`       ... a struct to represent (and generate) a mean-field orbital basis.\n",
       "\n",
       "```\n",
       "+ processes             ::Array{Basics.AbstractProcess,1} \n",
       "    ... List of the atomic processes that are supported and should be included into the cascade.\n",
       "+ maxElectronLoss       ::Int64             \n",
       "    ... (Maximum) Number of electrons in which the initial- and final-state configurations can differ from each other; \n",
       "        this also determines the maximal steps of any particular decay path.\n",
       "+ chargeStateShifts     ::Dict{Int64,Float64} \n",
       "    ... (N => en) total energy shifts of all levels with N electrons; these shifts [in a.u.] help open/close decay \n",
       "        channels by simply shifting the total energies of all levels.\n",
       "+ NoShakeDisplacements  ::Int64             \n",
       "    ... Maximum number of electron displacements due to shake-up  or shake-down processes in any individual step of cascade.\n",
       "+ shakeFromShells       ::Array{Shell,1}        ... List of shells from which shake transitions may occur.\n",
       "+ shakeToShells         ::Array{Shell,1}        ... List of shells into which shake transitions may occur.\n",
       "```\n",
       "\n",
       "---\n",
       "\n",
       "`Cascade.StepwiseDecayScheme()`  ... constructor for an 'default' instance of a Cascade.StepwiseDecayScheme.\n"
      ],
      "text/plain": [
       "  \u001b[36mstruct Cascade.StepwiseDecayScheme <: Cascade.AbstractCascadeScheme\u001b[39m ... a\n",
       "  struct to represent (and generate) a mean-field orbital basis.\n",
       "\n",
       "\u001b[36m  + processes             ::Array{Basics.AbstractProcess,1} \u001b[39m\n",
       "\u001b[36m      ... List of the atomic processes that are supported and should be included into the cascade.\u001b[39m\n",
       "\u001b[36m  + maxElectronLoss       ::Int64             \u001b[39m\n",
       "\u001b[36m      ... (Maximum) Number of electrons in which the initial- and final-state configurations can differ from each other; \u001b[39m\n",
       "\u001b[36m          this also determines the maximal steps of any particular decay path.\u001b[39m\n",
       "\u001b[36m  + chargeStateShifts     ::Dict{Int64,Float64} \u001b[39m\n",
       "\u001b[36m      ... (N => en) total energy shifts of all levels with N electrons; these shifts [in a.u.] help open/close decay \u001b[39m\n",
       "\u001b[36m          channels by simply shifting the total energies of all levels.\u001b[39m\n",
       "\u001b[36m  + NoShakeDisplacements  ::Int64             \u001b[39m\n",
       "\u001b[36m      ... Maximum number of electron displacements due to shake-up  or shake-down processes in any individual step of cascade.\u001b[39m\n",
       "\u001b[36m  + shakeFromShells       ::Array{Shell,1}        ... List of shells from which shake transitions may occur.\u001b[39m\n",
       "\u001b[36m  + shakeToShells         ::Array{Shell,1}        ... List of shells into which shake transitions may occur.\u001b[39m\n",
       "\n",
       "  ────────────────────────────────────────────────────────────────────────────\n",
       "\n",
       "  \u001b[36mCascade.StepwiseDecayScheme()\u001b[39m ... constructor for an 'default' instance of a\n",
       "  Cascade.StepwiseDecayScheme."
      ]
     },
     "execution_count": 4,
     "metadata": {},
     "output_type": "execute_result"
    }
   ],
   "source": [
    "? Cascade.StepwiseDecayScheme"
   ]
  },
  {
   "cell_type": "markdown",
   "metadata": {},
   "source": [
    "As seen from this definition of `Cascade.StepwiseDecayScheme`, several features about shake-up and -down processes are already prepared for input but not yet supported internally. For the moment, the `maxElectronLoss` is relevant as it determines the (maximal) number of charge states as well as the atomic processes to be considered in the automatic generation of the cascade tree. Below, we shall consider `Auger` and `Radiative` photon emission processes and, indeed, only these processes are supported  at present.\n",
    "\n",
    "The second and very relevant input parameter for a cascade tree computation is the `approach::Cascade.AbstractCascadeApproach` which determines the approach to compute all required intermedaite multiplets. Although there is not much freedom here at the moment, it is obvious that the quality of wave functions may affect the results considerably and, hence, *configuration mixing* of the levels from different configurations might be desirable to incorporate. On the other hand, one has to avoid any *double counting* of levels, and which is typically not so simple to recognize internally, since different *mixings* (multiplets) results in different level energies, a very important criterion to distinguish between different levels. In practice, this makes it necessary that every (electron) *configuration* may appear only once in any of the intermediate multiplets. Moreover, configuration mixing also results in more detailed CSF expansions of all atomic levels, i.e. into a *size factor* that later appears also *quadratically* in the computation of all individual transition rates and cross sections. Further work has to show how easily more sophisticated approaches can be realized in JAC.\n",
    "\n",
    "At present, only a `Cascade.AverageSCA()` approach has been realized, telling JAC that every electron configuration is treated independently to a single multiplet and without configuration mixing; in addition, here all continuum electrons are generated for an averaged energy between two such configurations. A few further assumptions are later recalled during the run, when the `Cascade.Computation` is performed. In the `Cascade.SCA` approach, later to be implemented, we shall allow full configuration mixing *within* each configuration as well as an improved treatment of the continuum orbitals."
   ]
  },
  {
   "cell_type": "code",
   "execution_count": 5,
   "metadata": {},
   "outputs": [
    {
     "data": {
      "text/latex": [
       "\\texttt{abstract type Cascade.AbstractCascadeApproach}      ... defines an abstract and a number of singleton types for the computational approach/model that is applied in order to          generate and evaluate all many-electron amplitudes of a given cascade.\n",
       "\n",
       "\\begin{itemize}\n",
       "\\item struct AverageSCA          ... all levels in the cascade are described in single-configuration and single-CSF approximation; this (rather crude) approach      neglects all configuration-interactions and also applies just a single set of one-electron orbitals (from the least-ionized charge     state) for all considered charge states.\n",
       "\n",
       "\n",
       "\\item struct SCA                 ... all levels in the cascade are described in single-configuration approximation but with 'mixtures' within the configuration;     an individual mean-field is generated for each charge state and all continuum orbitals are generated for the correct transition     energy in the field of the remaining ion. Moreover, all the fine-structure transitions are calculated individually.\n",
       "\n",
       "\\end{itemize}\n"
      ],
      "text/markdown": [
       "`abstract type Cascade.AbstractCascadeApproach`      ... defines an abstract and a number of singleton types for the computational approach/model that is applied in order to          generate and evaluate all many-electron amplitudes of a given cascade.\n",
       "\n",
       "  * struct AverageSCA          ... all levels in the cascade are described in single-configuration and single-CSF approximation; this (rather crude) approach      neglects all configuration-interactions and also applies just a single set of one-electron orbitals (from the least-ionized charge     state) for all considered charge states.\n",
       "  * struct SCA                 ... all levels in the cascade are described in single-configuration approximation but with 'mixtures' within the configuration;     an individual mean-field is generated for each charge state and all continuum orbitals are generated for the correct transition     energy in the field of the remaining ion. Moreover, all the fine-structure transitions are calculated individually.\n"
      ],
      "text/plain": [
       "  \u001b[36mabstract type Cascade.AbstractCascadeApproach\u001b[39m ... defines an abstract and a\n",
       "  number of singleton types for the computational approach/model that is\n",
       "  applied in order to generate and evaluate all many-electron amplitudes of a\n",
       "  given cascade.\n",
       "\n",
       "    •  struct AverageSCA ... all levels in the cascade are described in\n",
       "       single-configuration and single-CSF approximation; this (rather\n",
       "       crude) approach neglects all configuration-interactions and also\n",
       "       applies just a single set of one-electron orbitals (from the\n",
       "       least-ionized charge state) for all considered charge states.\n",
       "\n",
       "    •  struct SCA ... all levels in the cascade are described in\n",
       "       single-configuration approximation but with 'mixtures' within the\n",
       "       configuration; an individual mean-field is generated for each\n",
       "       charge state and all continuum orbitals are generated for the\n",
       "       correct transition energy in the field of the remaining ion.\n",
       "       Moreover, all the fine-structure transitions are calculated\n",
       "       individually."
      ]
     },
     "execution_count": 5,
     "metadata": {},
     "output_type": "execute_result"
    }
   ],
   "source": [
    "? Cascade.AbstractCascadeApproach"
   ]
  },
  {
   "cell_type": "markdown",
   "metadata": {},
   "source": [
    "Keeping this information in mind, we can now define a `Cascade.Computation` as appropriate for our example above:"
   ]
  },
  {
   "cell_type": "code",
   "execution_count": 6,
   "metadata": {
    "scrolled": true
   },
   "outputs": [
    {
     "ename": "LoadError",
     "evalue": "MethodError: no method matching JAC.Cascade.StepwiseDecayScheme(::Vector{JAC.Basics.AbstractProcess}, ::Int64, ::Int64, ::Vector{Shell}, ::Vector{Shell})\n\u001b[0mClosest candidates are:\n\u001b[0m  JAC.Cascade.StepwiseDecayScheme(::Any, ::Any, ::Any, ::Any, ::Any, \u001b[91m::Any\u001b[39m) at /home/fritzsch/fri/JAC.jl/src/module-Cascade.jl:55\n\u001b[0m  JAC.Cascade.StepwiseDecayScheme(::Vector{JAC.Basics.AbstractProcess}, ::Int64, \u001b[91m::Dict{Int64, Float64}\u001b[39m, \u001b[91m::Int64\u001b[39m, ::Vector{Shell}, \u001b[91m::Vector{Shell}\u001b[39m) at /home/fritzsch/fri/JAC.jl/src/module-Cascade.jl:55",
     "output_type": "error",
     "traceback": [
      "MethodError: no method matching JAC.Cascade.StepwiseDecayScheme(::Vector{JAC.Basics.AbstractProcess}, ::Int64, ::Int64, ::Vector{Shell}, ::Vector{Shell})\n\u001b[0mClosest candidates are:\n\u001b[0m  JAC.Cascade.StepwiseDecayScheme(::Any, ::Any, ::Any, ::Any, ::Any, \u001b[91m::Any\u001b[39m) at /home/fritzsch/fri/JAC.jl/src/module-Cascade.jl:55\n\u001b[0m  JAC.Cascade.StepwiseDecayScheme(::Vector{JAC.Basics.AbstractProcess}, ::Int64, \u001b[91m::Dict{Int64, Float64}\u001b[39m, \u001b[91m::Int64\u001b[39m, ::Vector{Shell}, \u001b[91m::Vector{Shell}\u001b[39m) at /home/fritzsch/fri/JAC.jl/src/module-Cascade.jl:55",
      "",
      "Stacktrace:",
      " [1] top-level scope",
      "   @ In[6]:3",
      " [2] eval",
      "   @ ./boot.jl:360 [inlined]",
      " [3] include_string(mapexpr::typeof(REPL.softscope), mod::Module, code::String, filename::String)",
      "   @ Base ./loading.jl:1116"
     ]
    }
   ],
   "source": [
    "name = \"Cascade after neon 1s --> 3p excitation\"\n",
    "grid = Radial.Grid(false)\n",
    "wa   = Cascade.Computation(Cascade.Computation(); name=name, nuclearModel=Nuclear.Model(10.), grid=grid, \n",
    "                           approach=Cascade.AverageSCA(),\n",
    "                           scheme=Cascade.StepwiseDecayScheme([Auger(), Radiative()], 5, 0, Shell[], Shell[]),\n",
    "                           initialConfigs=[Configuration(\"1s^1 2s^2 2p^6 3p\")] )\n"
   ]
  },
  {
   "cell_type": "markdown",
   "metadata": {},
   "source": [
    "Although the output looks a bit cumbersome and may require some futher insight into the internal structure of JAC, it briefly reports about all internal settings for the given computation. Owing to the complexity of most cascade computations, it is often important to check that all details are communicated properly from the user to the program as well as *within* the program. For our example, it is sufficient to `perform(comp::Cascade.Computation)` but with the optional parameter `output=true` in order to be able to use the data for a subsequent cascade simulation. In addition, we here specify that some additional information will be printed to a summary file; in contrast to most `Atomic.Computations`, this summary file is more detailed that the standard (lo) output in order to enable the user to check that all parts of the computation were done properly (this is the *price of complexity*). \n",
    "\n",
    "We can run the computation by:"
   ]
  },
  {
   "cell_type": "code",
   "execution_count": 7,
   "metadata": {
    "scrolled": true
   },
   "outputs": [
    {
     "ename": "LoadError",
     "evalue": "UndefVarError: wa not defined",
     "output_type": "error",
     "traceback": [
      "UndefVarError: wa not defined",
      "",
      "Stacktrace:",
      " [1] top-level scope",
      "   @ In[7]:2",
      " [2] eval",
      "   @ ./boot.jl:360 [inlined]",
      " [3] include_string(mapexpr::typeof(REPL.softscope), mod::Module, code::String, filename::String)",
      "   @ Base ./loading.jl:1116"
     ]
    }
   ],
   "source": [
    "setDefaults(\"print summary: open\", \"15-cascade-computation-following-decay.sum\")\n",
    "wb = perform(wa; output=true)\n",
    "\n",
    "setDefaults(\"print summary: close\", \"\")"
   ]
  },
  {
   "cell_type": "markdown",
   "metadata": {},
   "source": [
    "**At present, no real transition data are calculated but all rates are set arbitrarely to some constant;** of course, this will affect the subsequent simulations. Moreover, the last few lines of this output indicate that the results are (usually) also written to some external file (by using `JLD2`) from which these data can later be read-in in order to make different simulations on these data possible. Usually, the cascade tree *computations* are 2-4 orders of magnitude (computationally) more expensive than the cascade simulations.\n",
    "\n",
    "The output above tells that, for the given example, the cascade tree is built upon 372 Auger lines and 474 photon emission lines, and with even a much larger number of transition amplitudes since several channels may contribute to each line. These numbers can easily increase to several 10.000 or even more lines for complex cascades."
   ]
  },
  {
   "cell_type": "markdown",
   "metadata": {},
   "source": [
    "As seen above, all results are also returned in the dictionary `wb` from which the subsequent simulations may start."
   ]
  },
  {
   "cell_type": "code",
   "execution_count": 8,
   "metadata": {},
   "outputs": [
    {
     "ename": "LoadError",
     "evalue": "UndefVarError: wb not defined",
     "output_type": "error",
     "traceback": [
      "UndefVarError: wb not defined",
      "",
      "Stacktrace:",
      " [1] top-level scope",
      "   @ :0",
      " [2] eval",
      "   @ ./boot.jl:360 [inlined]",
      " [3] include_string(mapexpr::typeof(REPL.softscope), mod::Module, code::String, filename::String)",
      "   @ Base ./loading.jl:1116"
     ]
    }
   ],
   "source": [
    "wb"
   ]
  },
  {
   "cell_type": "markdown",
   "metadata": {},
   "source": [
    "We now come to the **second part of the cascade calcuations,** the `Cascade.Simulation`:"
   ]
  },
  {
   "cell_type": "code",
   "execution_count": 9,
   "metadata": {},
   "outputs": [
    {
     "data": {
      "text/latex": [
       "\\texttt{struct  Cascade.Simulation}  ... defines a simulation on some given cascade (data).\n",
       "\n",
       "\\begin{verbatim}\n",
       "+ name            ::String                              ... Name of the simulation\n",
       "+ property        ::Cascade.AbstractSimulationProperty \n",
       "    ... Property that is to be considered in this simulation of the cascade (data).\n",
       "+ method          ::Cascade.AbstractSimulationMethod    \n",
       "    ... Method that is used in the cascade simulation; cf. Cascade.SimulationMethod.\n",
       "+ settings        ::Cascade.SimulationSettings          ... Settings for performing these simulations.\n",
       "+ computationData ::Array{Dict{String,Any},1}           ... Date on which the simulations are performed\n",
       "\\end{verbatim}\n",
       "\\rule{\\textwidth}{1pt}\n",
       "\\texttt{Cascade.Simulation()}  ... constructor for an 'default' instance of a Cascade.Simulation.\n",
       "\n",
       "\\rule{\\textwidth}{1pt}\n",
       "\\texttt{Cascade.Simulation(sim::Cascade.Simulation;}\n",
       "\n",
       "\\begin{verbatim}\n",
       "        name=..,               property=..,             method=..,              settings=..,     computationData=.. )\n",
       "        \n",
       "... constructor for re-defining the computation::Cascade.Simulation.\n",
       "\\end{verbatim}\n"
      ],
      "text/markdown": [
       "`struct  Cascade.Simulation`  ... defines a simulation on some given cascade (data).\n",
       "\n",
       "```\n",
       "+ name            ::String                              ... Name of the simulation\n",
       "+ property        ::Cascade.AbstractSimulationProperty \n",
       "    ... Property that is to be considered in this simulation of the cascade (data).\n",
       "+ method          ::Cascade.AbstractSimulationMethod    \n",
       "    ... Method that is used in the cascade simulation; cf. Cascade.SimulationMethod.\n",
       "+ settings        ::Cascade.SimulationSettings          ... Settings for performing these simulations.\n",
       "+ computationData ::Array{Dict{String,Any},1}           ... Date on which the simulations are performed\n",
       "```\n",
       "\n",
       "---\n",
       "\n",
       "`Cascade.Simulation()`  ... constructor for an 'default' instance of a Cascade.Simulation.\n",
       "\n",
       "---\n",
       "\n",
       "`Cascade.Simulation(sim::Cascade.Simulation;`\n",
       "\n",
       "```\n",
       "        name=..,               property=..,             method=..,              settings=..,     computationData=.. )\n",
       "        \n",
       "... constructor for re-defining the computation::Cascade.Simulation.\n",
       "```\n"
      ],
      "text/plain": [
       "  \u001b[36mstruct Cascade.Simulation\u001b[39m ... defines a simulation on some given cascade\n",
       "  (data).\n",
       "\n",
       "\u001b[36m  + name            ::String                              ... Name of the simulation\u001b[39m\n",
       "\u001b[36m  + property        ::Cascade.AbstractSimulationProperty \u001b[39m\n",
       "\u001b[36m      ... Property that is to be considered in this simulation of the cascade (data).\u001b[39m\n",
       "\u001b[36m  + method          ::Cascade.AbstractSimulationMethod    \u001b[39m\n",
       "\u001b[36m      ... Method that is used in the cascade simulation; cf. Cascade.SimulationMethod.\u001b[39m\n",
       "\u001b[36m  + settings        ::Cascade.SimulationSettings          ... Settings for performing these simulations.\u001b[39m\n",
       "\u001b[36m  + computationData ::Array{Dict{String,Any},1}           ... Date on which the simulations are performed\u001b[39m\n",
       "\n",
       "  ────────────────────────────────────────────────────────────────────────────\n",
       "\n",
       "  \u001b[36mCascade.Simulation()\u001b[39m ... constructor for an 'default' instance of a\n",
       "  Cascade.Simulation.\n",
       "\n",
       "  ────────────────────────────────────────────────────────────────────────────\n",
       "\n",
       "  \u001b[36mCascade.Simulation(sim::Cascade.Simulation;\u001b[39m\n",
       "\n",
       "\u001b[36m          name=..,               property=..,             method=..,              settings=..,     computationData=.. )\u001b[39m\n",
       "\u001b[36m          \u001b[39m\n",
       "\u001b[36m  ... constructor for re-defining the computation::Cascade.Simulation.\u001b[39m"
      ]
     },
     "execution_count": 9,
     "metadata": {},
     "output_type": "execute_result"
    }
   ],
   "source": [
    "? Cascade.Simulation"
   ]
  },
  {
   "cell_type": "markdown",
   "metadata": {},
   "source": [
    "For a cascade simulation, we need to specify a `name` (string), the `properties::Array{Cascade.AbstractSimulationProperty,1}` to be simulated and the `method::Cascade.AbstractSimulationMethod`. The `properties` tell which observables are to be extracted from the given cascade tree data:"
   ]
  },
  {
   "cell_type": "code",
   "execution_count": 10,
   "metadata": {},
   "outputs": [
    {
     "data": {
      "text/latex": [
       "\\texttt{abstract type  Cascade.AbstractSimulationProperty}       ... defines an abstract and various singleton types for the different properties that can be obtained from the simulation of          cascade data.\n",
       "\n",
       "\\begin{verbatim}\n",
       "+ struct DecayPathes                ... determine the major 'decay pathes' of the cascade.\n",
       "+ struct DrRateCoefficients         ... simulate the DR (plasma) rate coefficients for given plasma temperatures. \n",
       "+ struct ElectronCoincidence        ... simulate electron-coincidence spectra (not yet).\n",
       "+ struct FinalLevelDistribution     ... simulate the 'final-level distribution' as it is found after all cascade \n",
       "                                        processes are completed.\n",
       "+ struct IonDistribution            ... simulate the 'ion distribution' as it is found after all cascade processes are completed.\n",
       "+ struct MeanLineWidths             ... simulate the mean line widths of a line near to a given energy (not yet). \n",
       "+ struct MeanRelaxationTime         ... simulate the mean relaxation times in which 70%, 80%, of the occupied levels\n",
       "                                        decay to the ground configuration.        \n",
       "+ struct ElectronIntensities        ... simulate the electron-line intensities as function of electron energy.\n",
       "+ struct PhotoAbsorption            ... simulate the photoabsorption cross sections for a given set of photo-excitation \n",
       "                                        and ionization processes.\n",
       "+ struct PhotonIntensities          ... simulate the photon-line intensities as function of electron energy. \n",
       "+ struct TimeBinnedPhotonIntensity  ... simulate the photon-line intensities as function of electron energy \n",
       "                                        in a given time interval (not yet).\n",
       "\\end{verbatim}\n"
      ],
      "text/markdown": [
       "`abstract type  Cascade.AbstractSimulationProperty`       ... defines an abstract and various singleton types for the different properties that can be obtained from the simulation of          cascade data.\n",
       "\n",
       "```\n",
       "+ struct DecayPathes                ... determine the major 'decay pathes' of the cascade.\n",
       "+ struct DrRateCoefficients         ... simulate the DR (plasma) rate coefficients for given plasma temperatures. \n",
       "+ struct ElectronCoincidence        ... simulate electron-coincidence spectra (not yet).\n",
       "+ struct FinalLevelDistribution     ... simulate the 'final-level distribution' as it is found after all cascade \n",
       "                                        processes are completed.\n",
       "+ struct IonDistribution            ... simulate the 'ion distribution' as it is found after all cascade processes are completed.\n",
       "+ struct MeanLineWidths             ... simulate the mean line widths of a line near to a given energy (not yet). \n",
       "+ struct MeanRelaxationTime         ... simulate the mean relaxation times in which 70%, 80%, of the occupied levels\n",
       "                                        decay to the ground configuration.        \n",
       "+ struct ElectronIntensities        ... simulate the electron-line intensities as function of electron energy.\n",
       "+ struct PhotoAbsorption            ... simulate the photoabsorption cross sections for a given set of photo-excitation \n",
       "                                        and ionization processes.\n",
       "+ struct PhotonIntensities          ... simulate the photon-line intensities as function of electron energy. \n",
       "+ struct TimeBinnedPhotonIntensity  ... simulate the photon-line intensities as function of electron energy \n",
       "                                        in a given time interval (not yet).\n",
       "```\n"
      ],
      "text/plain": [
       "  \u001b[36mabstract type Cascade.AbstractSimulationProperty\u001b[39m ... defines an abstract and\n",
       "  various singleton types for the different properties that can be obtained\n",
       "  from the simulation of cascade data.\n",
       "\n",
       "\u001b[36m  + struct DecayPathes                ... determine the major 'decay pathes' of the cascade.\u001b[39m\n",
       "\u001b[36m  + struct DrRateCoefficients         ... simulate the DR (plasma) rate coefficients for given plasma temperatures. \u001b[39m\n",
       "\u001b[36m  + struct ElectronCoincidence        ... simulate electron-coincidence spectra (not yet).\u001b[39m\n",
       "\u001b[36m  + struct FinalLevelDistribution     ... simulate the 'final-level distribution' as it is found after all cascade \u001b[39m\n",
       "\u001b[36m                                          processes are completed.\u001b[39m\n",
       "\u001b[36m  + struct IonDistribution            ... simulate the 'ion distribution' as it is found after all cascade processes are completed.\u001b[39m\n",
       "\u001b[36m  + struct MeanLineWidths             ... simulate the mean line widths of a line near to a given energy (not yet). \u001b[39m\n",
       "\u001b[36m  + struct MeanRelaxationTime         ... simulate the mean relaxation times in which 70%, 80%, of the occupied levels\u001b[39m\n",
       "\u001b[36m                                          decay to the ground configuration.        \u001b[39m\n",
       "\u001b[36m  + struct ElectronIntensities        ... simulate the electron-line intensities as function of electron energy.\u001b[39m\n",
       "\u001b[36m  + struct PhotoAbsorption            ... simulate the photoabsorption cross sections for a given set of photo-excitation \u001b[39m\n",
       "\u001b[36m                                          and ionization processes.\u001b[39m\n",
       "\u001b[36m  + struct PhotonIntensities          ... simulate the photon-line intensities as function of electron energy. \u001b[39m\n",
       "\u001b[36m  + struct TimeBinnedPhotonIntensity  ... simulate the photon-line intensities as function of electron energy \u001b[39m\n",
       "\u001b[36m                                          in a given time interval (not yet).\u001b[39m"
      ]
     },
     "execution_count": 10,
     "metadata": {},
     "output_type": "execute_result"
    }
   ],
   "source": [
    "? Cascade.AbstractSimulationProperty"
   ]
  },
  {
   "cell_type": "markdown",
   "metadata": {},
   "source": [
    "At present, only the first two of these properties have been implemented in detail in JAC. For the `method`, similarly, only the **propagation of the probabilities** is currently supported:"
   ]
  },
  {
   "cell_type": "code",
   "execution_count": 11,
   "metadata": {},
   "outputs": [
    {
     "data": {
      "text/latex": [
       "abstract type  Cascade.AbstractSimulationMethod`       ... defines a abstract and a list of singleton data types for the properties that can be 'simulated' from a given         set of a set Cascade.AbstractData.\n",
       "\n",
       "\\begin{verbatim}\n",
       "+ struct ProbPropagation     ... to propagate the (occupation) probabilites of the levels until no further changes occur.\n",
       "+ struct MonteCarlo          ... to simulate the cascade decay by a Monte-Carlo approach of possible pathes (not yet considered).\n",
       "+ struct RateEquations       ... to solve the cascade by a set of rate equations (not yet considered).\n",
       "\\end{verbatim}\n"
      ],
      "text/markdown": [
       "abstract type  Cascade.AbstractSimulationMethod`       ... defines a abstract and a list of singleton data types for the properties that can be 'simulated' from a given         set of a set Cascade.AbstractData.\n",
       "\n",
       "```\n",
       "+ struct ProbPropagation     ... to propagate the (occupation) probabilites of the levels until no further changes occur.\n",
       "+ struct MonteCarlo          ... to simulate the cascade decay by a Monte-Carlo approach of possible pathes (not yet considered).\n",
       "+ struct RateEquations       ... to solve the cascade by a set of rate equations (not yet considered).\n",
       "```\n"
      ],
      "text/plain": [
       "  abstract type Cascade.AbstractSimulationMethod` ... defines a abstract and a\n",
       "  list of singleton data types for the properties that can be 'simulated' from\n",
       "  a given set of a set Cascade.AbstractData.\n",
       "\n",
       "\u001b[36m  + struct ProbPropagation     ... to propagate the (occupation) probabilites of the levels until no further changes occur.\u001b[39m\n",
       "\u001b[36m  + struct MonteCarlo          ... to simulate the cascade decay by a Monte-Carlo approach of possible pathes (not yet considered).\u001b[39m\n",
       "\u001b[36m  + struct RateEquations       ... to solve the cascade by a set of rate equations (not yet considered).\u001b[39m"
      ]
     },
     "execution_count": 11,
     "metadata": {},
     "output_type": "execute_result"
    }
   ],
   "source": [
    "? Cascade.AbstractSimulationMethod"
   ]
  },
  {
   "cell_type": "markdown",
   "metadata": {},
   "source": [
    "In addition, we also need to specify the `settings::Cascade.SimulationSettings` for this simulation:"
   ]
  },
  {
   "cell_type": "code",
   "execution_count": 12,
   "metadata": {},
   "outputs": [
    {
     "data": {
      "text/latex": [
       "\\texttt{struct  Cascade.SimulationSettings}  ... defines settings for performing the simulation of some cascade (data).\n",
       "\n",
       "\\begin{verbatim}\n",
       "+ printTree           ::Bool        ... Print the cascade tree in a short form\n",
       "+ printLongTree       ::Bool        ... Print the cascade tree in a long form\n",
       "+ initialPhotonEnergy ::Float64     ... Photon energy for which photoionization data are considered.\n",
       "\\end{verbatim}\n",
       "\\rule{\\textwidth}{1pt}\n",
       "\\texttt{Cascade.SimulationSettings()}  ... constructor for an 'empty' instance of a Cascade.Block.\n",
       "\n"
      ],
      "text/markdown": [
       "`struct  Cascade.SimulationSettings`  ... defines settings for performing the simulation of some cascade (data).\n",
       "\n",
       "```\n",
       "+ printTree           ::Bool        ... Print the cascade tree in a short form\n",
       "+ printLongTree       ::Bool        ... Print the cascade tree in a long form\n",
       "+ initialPhotonEnergy ::Float64     ... Photon energy for which photoionization data are considered.\n",
       "```\n",
       "\n",
       "---\n",
       "\n",
       "`Cascade.SimulationSettings()`  ... constructor for an 'empty' instance of a Cascade.Block.\n"
      ],
      "text/plain": [
       "  \u001b[36mstruct Cascade.SimulationSettings\u001b[39m ... defines settings for performing the\n",
       "  simulation of some cascade (data).\n",
       "\n",
       "\u001b[36m  + printTree           ::Bool        ... Print the cascade tree in a short form\u001b[39m\n",
       "\u001b[36m  + printLongTree       ::Bool        ... Print the cascade tree in a long form\u001b[39m\n",
       "\u001b[36m  + initialPhotonEnergy ::Float64     ... Photon energy for which photoionization data are considered.\u001b[39m\n",
       "\n",
       "  ────────────────────────────────────────────────────────────────────────────\n",
       "\n",
       "  \u001b[36mCascade.SimulationSettings()\u001b[39m ... constructor for an 'empty' instance of a\n",
       "  Cascade.Block."
      ]
     },
     "execution_count": 12,
     "metadata": {},
     "output_type": "execute_result"
    }
   ],
   "source": [
    "? Cascade.SimulationSettings"
   ]
  },
  {
   "cell_type": "markdown",
   "metadata": {},
   "source": [
    "as well as the (cascade tree) data from the previous steps. Generally, data from different `Cascade.Computation()` can be combined, though care has to be taken that all these data fit properly together. Although various tests are made, it appears very difficult to recognize all mistakes that can be made by the user.\n",
    "\n",
    "In the present example, all this input is quite simple:"
   ]
  },
  {
   "cell_type": "code",
   "execution_count": 13,
   "metadata": {},
   "outputs": [
    {
     "ename": "LoadError",
     "evalue": "UndefVarError: wb not defined",
     "output_type": "error",
     "traceback": [
      "UndefVarError: wb not defined",
      "",
      "Stacktrace:",
      " [1] top-level scope",
      "   @ In[13]:1",
      " [2] eval",
      "   @ ./boot.jl:360 [inlined]",
      " [3] include_string(mapexpr::typeof(REPL.softscope), mod::Module, code::String, filename::String)",
      "   @ Base ./loading.jl:1116"
     ]
    }
   ],
   "source": [
    "data = [wb]\n",
    "name = \"Simulation of the neon 1s^-1 3p decay\"\n",
    "\n",
    "wc   = Cascade.Simulation(Cascade.Simulation(), name=name, \n",
    "                          properties=Cascade.AbstractSimulationProperty[Cascade.IonDistribution(), \n",
    "                                                                        Cascade.FinalLevelDistribution()], \n",
    "                          settings=Cascade.SimulationSettings(0., 0., 0., 0., 0., [(1, 2.0), (2, 1.0), (3, 0.5)]), \n",
    "                          computationData=data )"
   ]
  },
  {
   "cell_type": "markdown",
   "metadata": {},
   "source": [
    "Apparently, we here request for the **simulation of the ion distribution** as well as **final-level distribution** of this cascade; the initial occupation of the first tree levels is given rather arbitrary and should be defined due to physical insights into the prior excitation process.\n",
    "\n",
    "As before, we have to `perform(sim::Cascade.Simulation)`"
   ]
  },
  {
   "cell_type": "code",
   "execution_count": 14,
   "metadata": {
    "scrolled": true
   },
   "outputs": [
    {
     "ename": "LoadError",
     "evalue": "UndefVarError: wc not defined",
     "output_type": "error",
     "traceback": [
      "UndefVarError: wc not defined",
      "",
      "Stacktrace:",
      " [1] top-level scope",
      "   @ In[14]:1",
      " [2] eval",
      "   @ ./boot.jl:360 [inlined]",
      " [3] include_string(mapexpr::typeof(REPL.softscope), mod::Module, code::String, filename::String)",
      "   @ Base ./loading.jl:1116"
     ]
    }
   ],
   "source": [
    "wd = perform(wc; output=true)"
   ]
  },
  {
   "cell_type": "markdown",
   "metadata": {},
   "source": [
    "The result for the final ion distribution simply tells us that only a tiny fraction of all atoms remains neutral due to the radiative decay back to the $1s^2 2s^2 2p^6\\; ^1S_0$ ground level, while singly and doubly-charged neon is roughly the same ... at present, a consequence of the (still) unphysical specification of the amplitudes."
   ]
  },
  {
   "cell_type": "markdown",
   "metadata": {},
   "source": [
    "Already this (quite) simple example shows the **complexity of atomic cascades**; we shall develop this *branch* of JAC further, although support and a detailed discussion about the experiment, which need to be modeled, will be necessary in almost all cases."
   ]
  },
  {
   "cell_type": "code",
   "execution_count": null,
   "metadata": {},
   "outputs": [],
   "source": []
  }
 ],
 "metadata": {
  "@webio": {
   "lastCommId": null,
   "lastKernelId": null
  },
  "kernelspec": {
   "display_name": "Julia 1.6.2",
   "language": "julia",
   "name": "julia-1.6"
  },
  "language_info": {
   "file_extension": ".jl",
   "mimetype": "application/julia",
   "name": "julia",
   "version": "1.6.2"
  }
 },
 "nbformat": 4,
 "nbformat_minor": 4
}
