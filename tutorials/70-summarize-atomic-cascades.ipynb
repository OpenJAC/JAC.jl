{
 "cells": [
  {
   "cell_type": "markdown",
   "metadata": {},
   "source": [
    "# Computation of atomic cascades with JAC\n",
    "\n",
    "The following tutorials show how JAC can be utilized to model **atomic cascades**. In JAC, this modelling always requires a *cascade computation* to generate all atomic amplitudes and rates as well as a *cascade simulation* in order to combine these amplitudes into data that can be compared with exeriment. Moreover, each *cascade computation* is formally splitted into several steps, and which are then performed independently: (i) A list of electron configurations is generated as they may occur during the (photo-) excitation, ionizatiton or decay of levels from one or several initial configurations. (ii) From these configurations, a list of cascade blocks (groups of configurations) is then formed and a common SCF field and Hamiltonian matrix calculated for each of these blocks. (iii) For each pair of such cascade blocks, all fine-structure transitions are calculated for all the selected excitation or decay processes. (iv) A (common) list of radiative lines, Auger lines, etc. is compiled and (usually) written to disk; this line lists later form the basis for all subsequent cascade simulations to be consisdered for the atoms. A cascade simulation makes use of a pre-calculated list of (many-electron) amplitudes, rates and/or cross sections in\n",
    "order to derive different ion, photon and/or electron distributions and spectra, and which can be compared directly to experiment. \n",
    "\n",
    "In practice, of course, *atomic cascades* may become very complex and unfeasible to compute. Therefore, in order to deal with such cascades, one often needs to restrict either the number of charge states, the atomic processes to be included into the cascade, the approach for describing the required wave functions, or several others features. The usual goal is to generate and process all amplitudes for the given *physical processes* (e.g. photon emission, Auger, photoionization, ...) *automatically*, while restricting the comptutions by means of some predefined approach or a few additional assumptions."
   ]
  },
  {
   "cell_type": "markdown",
   "metadata": {},
   "source": [
    "##  71-compute-neon-1s-3p-decay-cascade.ipynb\n",
    "### **Compute the decay cascade of $1s \\to 3p$ photoexcited neon**\n",
    "As a very first example of an atomic cascde, we shall consider the decay of photo-excited $1s \\to 3p$ neon which either decays by autoionization of photon emission. In this example, we shall restrict ourselves to a very simple approach in generating all the necessary wave functions as well as to the simulation of the final ion and level distributions. Further properties, which can be simulated from the cascade tree data, will likely be considered in the future."
   ]
  },
  {
   "cell_type": "markdown",
   "metadata": {},
   "source": [
    "##  72-compute-neon-photoionization-decay-cascade.ipynb\n",
    "##  72-simulate-cascade-neon-k-hole.ipynb\n",
    "### **Photoionization and subsequent cascade decay of neutral neon: Cascade computations and simulations**\n",
    "Accurate photo-excitation studies are difficult since the theoretical (transition) energies are often not accurate enough to decide whether incoming photons are sufficiently resonant to trigger the excitation process. Photoionization is perhaps the simplest process which, apart from embedded resonances, are less sensitive to the details of the incoming beams. However, photoionization formally often results in a quite large number of different excited configurations, although with very different cross sections. Moreover, photoionization is often *tuned* over a range of photon energies with energy- and level-dependent cross sections.\n",
    "\n",
    "Here, we shall describe the cascade that results from the photoionization and subsequent decay of neutral neon, $ 1s^2 2s^2 2p^6 \\to (1s 2s^2 2p^6 + 1s^2 2s 2p^6 + 1s^2 2s^2 2p^5) \\to ... \\to$ Ne$^{q+} + q\\: e^-$. For this photoionization-and-subsequent-decay cascade, it is useful and necessary in JAC to compute the photoionization and the decay cascade separately, and to combine the corresponding transition data later at the time of simulations. For the photoionization, we need to perform a `Cascade.Computation` for the `scheme::Cascade.PhotonIonizationScheme`\n",
    "\n",
    "The computation of the cascade tree alone does not provide much information which could be compared with experiment. To facilitate the prediction of cascades or the comparison with experiment, the amplitudes from the various decay pathways need to be combined properly in order to predict different spectra and observables. Her, we shown how to simulate the final ion distribution following the $1s$ photoionization of atomic neon."
   ]
  },
  {
   "cell_type": "code",
   "execution_count": null,
   "metadata": {},
   "outputs": [],
   "source": []
  }
 ],
 "metadata": {
  "@webio": {
   "lastCommId": null,
   "lastKernelId": null
  },
  "kernelspec": {
   "display_name": "Julia 1.6.2",
   "language": "julia",
   "name": "julia-1.6"
  },
  "language_info": {
   "file_extension": ".jl",
   "mimetype": "application/julia",
   "name": "julia",
   "version": "1.6.2"
  }
 },
 "nbformat": 4,
 "nbformat_minor": 4
}
