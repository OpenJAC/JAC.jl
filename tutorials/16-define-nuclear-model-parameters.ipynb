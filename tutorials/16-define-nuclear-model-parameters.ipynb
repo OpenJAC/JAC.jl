{
 "cells": [
  {
   "cell_type": "markdown",
   "metadata": {},
   "source": [
    "# Define the nuclear (model) parameters & potential"
   ]
  },
  {
   "cell_type": "code",
   "execution_count": 1,
   "metadata": {},
   "outputs": [],
   "source": [
    "using JAC"
   ]
  },
  {
   "cell_type": "code",
   "execution_count": 2,
   "metadata": {},
   "outputs": [],
   "source": [
    "# using Interact"
   ]
  },
  {
   "cell_type": "markdown",
   "metadata": {},
   "source": [
    "The charge and shape of the nucleus is essential to understand the electronic level structure and  some of the processes that may occur in an atom or ion. Usually, these and other nuclear parameters need to be specified prior to the generation of (electronic) wave functions, state representations as well as the computation of atomic amplitudes, properties and processes.\n",
    "\n",
    "In JAC, all information about the underlying **nuclear model** are kept in the data structure `Nuclear.Model` which carries the following information:"
   ]
  },
  {
   "cell_type": "code",
   "execution_count": 3,
   "metadata": {},
   "outputs": [
    {
     "data": {
      "text/latex": [
       "\\texttt{struct  Nuclear.Model}  ... defines a type for the nuclear model, i.e. for its form and parameters.\n",
       "\n",
       "\\begin{verbatim}\n",
       "+ Z        ::Float64         ... nuclear charge\n",
       "+ model    ::String          ... identifier of the nuclear model: {\"Fermi\", \"Point\", \"Uniform\"}\n",
       "+ mass     ::Float64         ... atomic mass\n",
       "+ radius   ::Float64         ... (root-mean square) radius of a uniform or Fermi-distributed nucleus\n",
       "+ spinI    ::AngularJ64      ... nuclear spin I, must be >= 0\n",
       "+ mu       ::Float64         ... magnetic dipole moment in Bohr magnetons\n",
       "+ Q        ::Float64         ... electric quadrupole moment\n",
       "\\end{verbatim}\n",
       "\\rule{\\textwidth}{1pt}\n",
       "\\texttt{Nuclear.Model(Z::Real)}       ... to specify a Fermi-type nucleus with charge Z, and where the nuclear spin and nuclear moments are all set to zero.\n",
       "\n",
       "\\rule{\\textwidth}{1pt}\n",
       "\\texttt{Nuclear.Model(Z::Real, M::Float64)}       ... to specify a Fermi-type nucleus with charge Z and mass M, and where the nuclear spin and nuclear moments are all set to zero.\n",
       "\n",
       "\\rule{\\textwidth}{1pt}\n",
       "\\texttt{Nuclear.Model(Z::Real, model::String)}       ... to specify a nucleus with charge Z, model = \\{\"Fermi\", \"point\", \"uniform\"\\}, and where the nuclear spin and          nuclear moments are all set to zero.\n",
       "\n",
       "\\rule{\\textwidth}{1pt}\n",
       "\\texttt{Nuclear.Model(nm::Nuclear.Model;}\n",
       "\n",
       "\\begin{verbatim}\n",
       "        Z=..,         model=..,         mass=..,        radius=..,     \n",
       "        spinI=..,     mu=..,            Q=..)\n",
       "... constructor for re-defining a nuclear model nm::Nuclear.Model.\n",
       "\\end{verbatim}\n"
      ],
      "text/markdown": [
       "`struct  Nuclear.Model`  ... defines a type for the nuclear model, i.e. for its form and parameters.\n",
       "\n",
       "```\n",
       "+ Z        ::Float64         ... nuclear charge\n",
       "+ model    ::String          ... identifier of the nuclear model: {\"Fermi\", \"Point\", \"Uniform\"}\n",
       "+ mass     ::Float64         ... atomic mass\n",
       "+ radius   ::Float64         ... (root-mean square) radius of a uniform or Fermi-distributed nucleus\n",
       "+ spinI    ::AngularJ64      ... nuclear spin I, must be >= 0\n",
       "+ mu       ::Float64         ... magnetic dipole moment in Bohr magnetons\n",
       "+ Q        ::Float64         ... electric quadrupole moment\n",
       "```\n",
       "\n",
       "---\n",
       "\n",
       "`Nuclear.Model(Z::Real)`       ... to specify a Fermi-type nucleus with charge Z, and where the nuclear spin and nuclear moments are all set to zero.\n",
       "\n",
       "---\n",
       "\n",
       "`Nuclear.Model(Z::Real, M::Float64)`       ... to specify a Fermi-type nucleus with charge Z and mass M, and where the nuclear spin and nuclear moments are all set to zero.\n",
       "\n",
       "---\n",
       "\n",
       "`Nuclear.Model(Z::Real, model::String)`       ... to specify a nucleus with charge Z, model = {\"Fermi\", \"point\", \"uniform\"}, and where the nuclear spin and          nuclear moments are all set to zero.\n",
       "\n",
       "---\n",
       "\n",
       "`Nuclear.Model(nm::Nuclear.Model;`\n",
       "\n",
       "```\n",
       "        Z=..,         model=..,         mass=..,        radius=..,     \n",
       "        spinI=..,     mu=..,            Q=..)\n",
       "... constructor for re-defining a nuclear model nm::Nuclear.Model.\n",
       "```\n"
      ],
      "text/plain": [
       "  \u001b[36mstruct Nuclear.Model\u001b[39m ... defines a type for the nuclear model, i.e. for its\n",
       "  form and parameters.\n",
       "\n",
       "\u001b[36m  + Z        ::Float64         ... nuclear charge\u001b[39m\n",
       "\u001b[36m  + model    ::String          ... identifier of the nuclear model: {\"Fermi\", \"Point\", \"Uniform\"}\u001b[39m\n",
       "\u001b[36m  + mass     ::Float64         ... atomic mass\u001b[39m\n",
       "\u001b[36m  + radius   ::Float64         ... (root-mean square) radius of a uniform or Fermi-distributed nucleus\u001b[39m\n",
       "\u001b[36m  + spinI    ::AngularJ64      ... nuclear spin I, must be >= 0\u001b[39m\n",
       "\u001b[36m  + mu       ::Float64         ... magnetic dipole moment in Bohr magnetons\u001b[39m\n",
       "\u001b[36m  + Q        ::Float64         ... electric quadrupole moment\u001b[39m\n",
       "\n",
       "  ────────────────────────────────────────────────────────────────────────────\n",
       "\n",
       "  \u001b[36mNuclear.Model(Z::Real)\u001b[39m ... to specify a Fermi-type nucleus with charge Z,\n",
       "  and where the nuclear spin and nuclear moments are all set to zero.\n",
       "\n",
       "  ────────────────────────────────────────────────────────────────────────────\n",
       "\n",
       "  \u001b[36mNuclear.Model(Z::Real, M::Float64)\u001b[39m ... to specify a Fermi-type nucleus with\n",
       "  charge Z and mass M, and where the nuclear spin and nuclear moments are all\n",
       "  set to zero.\n",
       "\n",
       "  ────────────────────────────────────────────────────────────────────────────\n",
       "\n",
       "  \u001b[36mNuclear.Model(Z::Real, model::String)\u001b[39m ... to specify a nucleus with charge\n",
       "  Z, model = {\"Fermi\", \"point\", \"uniform\"}, and where the nuclear spin and\n",
       "  nuclear moments are all set to zero.\n",
       "\n",
       "  ────────────────────────────────────────────────────────────────────────────\n",
       "\n",
       "  \u001b[36mNuclear.Model(nm::Nuclear.Model;\u001b[39m\n",
       "\n",
       "\u001b[36m          Z=..,         model=..,         mass=..,        radius=..,     \u001b[39m\n",
       "\u001b[36m          spinI=..,     mu=..,            Q=..)\u001b[39m\n",
       "\u001b[36m  ... constructor for re-defining a nuclear model nm::Nuclear.Model.\u001b[39m"
      ]
     },
     "execution_count": 3,
     "metadata": {},
     "output_type": "execute_result"
    }
   ],
   "source": [
    "? Nuclear.Model"
   ]
  },
  {
   "cell_type": "markdown",
   "metadata": {},
   "source": [
    "For quick computations and for most atomic processes, it is often sufficient to just specify the nuclear charge $Z$ and to leave all other parameters to their default values. For example, we here define such a nucleus for xenon $(Z=54)$ and will immediatly see the details of this specification:"
   ]
  },
  {
   "cell_type": "code",
   "execution_count": 4,
   "metadata": {},
   "outputs": [
    {
     "data": {
      "text/plain": [
       "Fermi nuclear model for Z = 54.0 with mass = 122.58, radius R = 4.722849091608491 fm and nuclear spin I = 0, dipole moment mu = 0.0 and quadrupole moment Q = 0.0."
      ]
     },
     "execution_count": 4,
     "metadata": {},
     "output_type": "execute_result"
    }
   ],
   "source": [
    "wa = Nuclear.Model(54.0)"
   ]
  },
  {
   "cell_type": "markdown",
   "metadata": {},
   "source": [
    "Of course, we can also specify all details about the nucleus by using the *standard* constructor:"
   ]
  },
  {
   "cell_type": "code",
   "execution_count": 5,
   "metadata": {},
   "outputs": [
    {
     "data": {
      "text/plain": [
       "Uniform nuclear model for Z = 54.0 with mass = 132.0, radius R = 5.75 fm and nuclear spin I = 5/2, dipole moment mu = 1.0 and quadrupole moment Q = 2.0."
      ]
     },
     "execution_count": 5,
     "metadata": {},
     "output_type": "execute_result"
    }
   ],
   "source": [
    "wb = Nuclear.Model(54., \"uniform\", 132., 5.75, AngularJ64(5//2), 1.0, 2.0)"
   ]
  },
  {
   "cell_type": "markdown",
   "metadata": {},
   "source": [
    "... or by *overwriting* the parameters from a previously defined nuclues:"
   ]
  },
  {
   "cell_type": "code",
   "execution_count": 6,
   "metadata": {},
   "outputs": [
    {
     "data": {
      "text/plain": [
       "Fermi nuclear model for Z = 54.0 with mass = 122.58, radius R = 4.722849091608491 fm and nuclear spin I = 0, dipole moment mu = 4.1 and quadrupole moment Q = 2.2."
      ]
     },
     "execution_count": 6,
     "metadata": {},
     "output_type": "execute_result"
    }
   ],
   "source": [
    "wc = Nuclear.Model(wa, mu=4.1, Q=2.2)"
   ]
  },
  {
   "cell_type": "markdown",
   "metadata": {},
   "source": [
    "Indeed, this feature of *overwriting* the parameter of an **existing object** is frequently use within JAC to re-define or overwrite the default values of different settings, representations and computations."
   ]
  },
  {
   "cell_type": "code",
   "execution_count": null,
   "metadata": {},
   "outputs": [],
   "source": []
  }
 ],
 "metadata": {
  "@webio": {
   "lastCommId": "2606919c6c8549dfaefe3eadfad00998",
   "lastKernelId": "a931970b-89cd-4e30-abf8-dc89fb61d292"
  },
  "kernelspec": {
   "display_name": "Julia 1.6.2",
   "language": "julia",
   "name": "julia-1.6"
  },
  "language_info": {
   "file_extension": ".jl",
   "mimetype": "application/julia",
   "name": "julia",
   "version": "1.6.2"
  }
 },
 "nbformat": 4,
 "nbformat_minor": 4
}
