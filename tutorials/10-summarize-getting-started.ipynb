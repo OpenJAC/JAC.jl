{
 "cells": [
  {
   "cell_type": "markdown",
   "metadata": {},
   "source": [
    "# Getting started with Julia & JAC\n",
    "\n",
    "The following tutorials guide you through Julia and the JAC toolbox."
   ]
  },
  {
   "cell_type": "markdown",
   "metadata": {},
   "source": [
    "##  11-getting-started-with-Julia.ipynb\n",
    "### **Getting started with Julia**\n",
    "Here, we explain the syntax and meaning of some simple features of Julia as they occur frequently in working with JAC. For new users, this will (hopefully) help to lower the initial 'threshold' for looking into and using Julia & JAC. However, no attempt is made to provide any thorough guide into Julia which, indeed, is a very rich and powerful approach with many features far beyond of what is used in JAC (so far).  "
   ]
  },
  {
   "cell_type": "markdown",
   "metadata": {},
   "source": [
    "[Start tutorial](./11-getting-started-with-Julia.ipynb)"
   ]
  },
  {
   "cell_type": "markdown",
   "metadata": {},
   "source": [
    "##  12-getting-started-with-JAC.ipynb\n",
    "### **Getting started with JAC**\n",
    "This tutorial tells you what JAC is, some of its goals and how you can define and manipulate simple entities, such as shells, configurations, etc."
   ]
  },
  {
   "cell_type": "markdown",
   "metadata": {},
   "source": [
    "[Start tutorial](./12-getting-started-with-JAC.ipynb)"
   ]
  },
  {
   "cell_type": "markdown",
   "metadata": {},
   "source": [
    "##  13-compute-hydrogenic-orbitals.ipynb\n",
    "### **Hydrogenic computations**\n",
    "Here, we show how hydrogenic energies and orbital functions can be obtained by simple calls. We also explain how these orbitals are represented and applied within the JAC toolbox."
   ]
  },
  {
   "cell_type": "markdown",
   "metadata": {},
   "source": [
    "[Start tutorial](./13-compute-hydrogenic-orbitals.ipynb)"
   ]
  },
  {
   "cell_type": "markdown",
   "metadata": {},
   "source": [
    "##  14-compute-hydrogenic-expectation-values.ipynb\n",
    "### **Expectation values of hydrogenic ions**\n",
    "This tutorial shows how easily one can calculate simple expectation values of hydrogenic ions within both, the non-relativistic and relativistic theory. This might help understand the Z-scaling and relativistic effects on atomic properties and spectra. "
   ]
  },
  {
   "cell_type": "markdown",
   "metadata": {},
   "source": [
    "[Start tutorial](./14-compute-hydrogenic-expectation-values.ipynb)"
   ]
  },
  {
   "cell_type": "markdown",
   "metadata": {},
   "source": [
    "##  15-get-data-from-periodic-table.ipynb\n",
    "### **Obtain data from the periodic table**\n",
    "JAC also known basic information from the periodic table which can be utilized to compute and compile atomic information and data."
   ]
  },
  {
   "cell_type": "markdown",
   "metadata": {},
   "source": [
    "[Start tutorial](./15-get-data-from-periodic-table.ipynb)"
   ]
  },
  {
   "cell_type": "markdown",
   "metadata": {},
   "source": [
    "##  16-define-nuclear-model-parameters.ipynb\n",
    "### **Define the nuclear (model) parameters & potential**\n",
    "In JAC, the nuclear parameters such as spin, nuclear moments or the model (and the shape) of the nuclei can be re-defined very easily. Here, we show how the nuclear potential and parameters are kept together and utilized in JAC. "
   ]
  },
  {
   "cell_type": "markdown",
   "metadata": {},
   "source": [
    "[Start tutorial](./16-define-nuclear-model-parameters.ipynb)"
   ]
  },
  {
   "cell_type": "code",
   "execution_count": null,
   "metadata": {},
   "outputs": [],
   "source": []
  }
 ],
 "metadata": {
  "@webio": {
   "lastCommId": null,
   "lastKernelId": null
  },
  "kernelspec": {
   "display_name": "Julia 1.6.2",
   "language": "julia",
   "name": "julia-1.6"
  },
  "language_info": {
   "file_extension": ".jl",
   "mimetype": "application/julia",
   "name": "julia",
   "version": "1.6.2"
  }
 },
 "nbformat": 4,
 "nbformat_minor": 4
}
