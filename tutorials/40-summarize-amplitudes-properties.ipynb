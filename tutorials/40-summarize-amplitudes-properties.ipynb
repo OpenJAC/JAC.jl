{
 "cells": [
  {
   "cell_type": "markdown",
   "metadata": {},
   "source": [
    "# Computation of atomic amplitudes and properties with JAC\n",
    "\n",
    "The following tutorials explain how JAC can be utilized to compute various atomic amplitudes and properties."
   ]
  },
  {
   "cell_type": "markdown",
   "metadata": {},
   "source": [
    "##  42-compute-atomic-form-factors.ipynb\n",
    "### **Atomic form factors for chlorine-like iron ions**\n",
    "In atomic physics, the **form factors** are generally taken as fast approximation to the (scattering) amplitude in forward direction at $\\vartheta \\approx 0$, if an incident quantum wave is scattered by an isolated atom with spherical-symmetric charge distribution. The form factor definition therefore genenerally depends on the particular type of incident radiation, such a photons, electrons or neutrons. In JAC, *as usual*, we restrict ourselves to the atomic **form factor for the elastic (x-ray) scattering of photons**, and they are calculated and tabulated by default for all selected levels of a given multiplet and for a list of pre-specified $q$-values (a.u.). Here, we compute these form factors as (one) selected atomic property for all levels of the [Ne] $3s^2 3p^5$ ground configuration of chlorine-like Fe and Kr ions."
   ]
  },
  {
   "cell_type": "markdown",
   "metadata": {},
   "source": [
    "##  44-estimate-decay-yields.ipynb\n",
    "### **K-shell fluorescence & Auger yields for neon-like ions**\n",
    "The fluorescence yield $\\omega_r$ characterizes the probability of an inner-shell (core) hole to be filled under photon emission, in contrast and competition with other nonradiative processes. It fulfills together with the Auger yield $\\omega_a$ the simple relations: $\\omega_r + \\omega_a = 1$ but generally requires to consider all possible (radiative and non-radiative) decay channels. --- In Jac, the computation of all fluorescence and Auger yields is always traced back to single-step **cascade computation**. Here, we explain how one can readily compute the fluorescence and Auger yields for a few neon-like ions, and how the *fluorescence* increases with the nuclear charge."
   ]
  },
  {
   "cell_type": "code",
   "execution_count": null,
   "metadata": {},
   "outputs": [],
   "source": []
  }
 ],
 "metadata": {
  "@webio": {
   "lastCommId": null,
   "lastKernelId": null
  },
  "kernelspec": {
   "display_name": "Julia 1.6.2",
   "language": "julia",
   "name": "julia-1.6"
  },
  "language_info": {
   "file_extension": ".jl",
   "mimetype": "application/julia",
   "name": "julia",
   "version": "1.6.2"
  }
 },
 "nbformat": 4,
 "nbformat_minor": 4
}
