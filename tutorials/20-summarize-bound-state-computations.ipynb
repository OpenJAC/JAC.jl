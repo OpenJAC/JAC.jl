{
 "cells": [
  {
   "cell_type": "markdown",
   "metadata": {},
   "source": [
    "# Computation of bound-state energies and wave functions with JAC\n",
    "\n",
    "The following tutorials show how JAC can be utilized to peform simple self-consistent-field (SCF) computations of atomic energies and wave functions (atomic state functions)."
   ]
  },
  {
   "cell_type": "markdown",
   "metadata": {},
   "source": [
    "##  21-compare-radial-atomic-potentials.ipynb \n",
    "### **Compute and compare different radial potentials**\n",
    "We here describe how different atomic (radial) potentials can be calculated and applied within the JAC toolbox."
   ]
  },
  {
   "cell_type": "markdown",
   "metadata": {},
   "source": [
    "##  22-compute-SCF+CI-carbon-III.ipynb\n",
    "### **Compute the low-lying levels of $C^{2+} 1s^2 (2s^2 + 2s2p + 2p^2)$: $\\;$ SCF and configuration interaction calculations**\n",
    "The low-lying levels (level structure) of beryllium-like ions, and especially C$^{2+}$, has been calculated in many case studies in the literature. While the level structure of these ions is still quite simple, they exhibit a considerable admixture of the $2s^2 2p^2$ configuration already for the $1s^2 2s^2\\;\\: ^1S_0$ ground level. --- We here show how the low-lying levels of C$^{2+}$ can be readily calculated in JAC by either following the default settings or by specifying further details for both, the SCF and configuration-interaction (CI) computations. "
   ]
  },
  {
   "cell_type": "markdown",
   "metadata": {},
   "source": [
    "##  23-generate-configuration-lists.ipynb\n",
    "### **Generate, manipulate and restrict (lists of) configurations**\n",
    "Many atomic computations are built upon the **atomic shell model** and, especially, the term of a configuration or lists (respective arrays) of such configurations. These lists of configurations must usually be generated prior to the computations but should usually obey to certain restrictions with regard to their parity or occupation of certain shells. --- While such lists can always be specified individually, here we show how one can easily generate them from a set of *reference configurations* and by applying (a set of) *restrictions*. This automatic generation of configuration lists is particular helpful if a systematic enlargements of wave functions is considered."
   ]
  },
  {
   "cell_type": "markdown",
   "metadata": {},
   "source": [
    "##  25-expand-levels-into-LS-basis.ipynb \n",
    "### **Expand the atomic state functions in a LS-coupled basis**\n",
    "In atomic spectroscopy, the (standard) LSJ-notation of levels is frequently applied for classifying the low-lying level structures of atoms or ions. This generally requires a *unitary transformation* from a jjJ --> LSJ-coupled basis which critically depend on the shell-structure of the atoms. Since a lack of providing a fast and proper spectroscopic notation from relativistic structure calculations may hamper the interpretation and analysis of many (computed) results, JAC readily provides such transformations."
   ]
  },
  {
   "cell_type": "markdown",
   "metadata": {},
   "source": [
    "##  26-estimate-QED-for-beryllium-like.ipynb\n",
    "### **Estimate the (radiative) QED corrections for the $1s^2 2s^2 2p^2$ ground-state levels of carbon-like ions**\n",
    "In atomic structure theory, most advanced many-electron methods are based on the *no-pair* Hamiltonian and, hence, a well-defined number of electrons. All additional processes with (virtual) photons and/or the creation and annihilation of (virtual) electron-positron pairs are at the first glance beyond these theories and need to be taken into account (more or less) independently. Here, we show how the *self-energy (SE)* and *vacuum polarization (VP)* as the largest **radiative** or **Lamb-shift corrections** can be estimated by JAC, at least for the calculated level and excitation energies."
   ]
  },
  {
   "cell_type": "markdown",
   "metadata": {},
   "source": [
    "##  28-compute-atoms-in-plasma.ipynb\n",
    "### **Compute the level shifts of helium-like iron ions in a Debye-Hückel (plasma) potential: $Fe^{24+}\\quad 1s^2 + 1s2s + 1s2p$**\n",
    "Here, we consider iron ions in a Debye-Hückel potential and explore how the level shift depend on the (plasma) coupling parameters $\\lambda$. In JAC, the computation of such level shifts are currently supported *perturbatively* by including the plasma screening in the electron-nucleus and electron-electron interaction into the CI matrix. "
   ]
  }
 ],
 "metadata": {
  "@webio": {
   "lastCommId": null,
   "lastKernelId": null
  },
  "kernelspec": {
   "display_name": "Julia 1.6.2",
   "language": "julia",
   "name": "julia-1.6"
  },
  "language_info": {
   "file_extension": ".jl",
   "mimetype": "application/julia",
   "name": "julia",
   "version": "1.6.2"
  }
 },
 "nbformat": 4,
 "nbformat_minor": 4
}
