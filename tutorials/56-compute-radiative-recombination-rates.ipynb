{
 "cells": [
  {
   "cell_type": "markdown",
   "metadata": {},
   "source": [
    "# Radiative recombination of initially helium-like ions"
   ]
  },
  {
   "cell_type": "code",
   "execution_count": 5,
   "metadata": {},
   "outputs": [],
   "source": [
    "using JAC"
   ]
  },
  {
   "cell_type": "markdown",
   "metadata": {},
   "source": [
    "\n",
    "Here, we calculate the radiative recombination cross sections for initially helium-like and multiply-charged ions. For these ions, we consider the \n"
   ]
  },
  {
   "cell_type": "markdown",
   "metadata": {},
   "source": [
    "\n",
    "Therefore, let us first have a look how these settings are defined internally:\n"
   ]
  },
  {
   "cell_type": "code",
   "execution_count": 2,
   "metadata": {
    "scrolled": true
   },
   "outputs": [
    {
     "data": {
      "text/latex": [
       "\\texttt{struct  Settings  <:  AbstractProcessSettings}  ... defines a type for the details and parameters of computing photo recombination lines.\n",
       "\n",
       "\\begin{verbatim}\n",
       "+ multipoles          ::Array{EmMultipole}  ... Multipoles of the radiation field that are to be included.\n",
       "+ gauges              ::Array{UseGauge}     ... Gauges to be included into the computations.\n",
       "+ electronEnergies    ::Array{Float64,1}    ... List of electron energies [in default units].\n",
       "+ ionEnergies         ::Array{Float64,1}    ... List of ion energies [in MeV/u].\n",
       "+ useIonEnergies      ::Bool                ... Make use of ion energies in [MeV/u] to obtain the electron energies.\n",
       "+ calcAnisotropy      ::Bool                ... True, if the overall anisotropy is to be calculated.\n",
       "+ calcTensors         ::Bool                ... True, if the statistical tensors are to be calculated and \n",
       "                                                false otherwise.\n",
       "+ printBefore         ::Bool                ... True, if all energies and lines are printed before their evaluation.\n",
       "+ lineSelection       ::LineSelection       ... Specifies the selected levels, if any.\n",
       "\\end{verbatim}\n",
       "\\rule{\\textwidth}{1pt}\n",
       "\\texttt{PhotoRecombination.Settings()}  ... constructor for the default values of photo recombination line computations\n",
       "\n"
      ],
      "text/markdown": [
       "`struct  Settings  <:  AbstractProcessSettings`  ... defines a type for the details and parameters of computing photo recombination lines.\n",
       "\n",
       "```\n",
       "+ multipoles          ::Array{EmMultipole}  ... Multipoles of the radiation field that are to be included.\n",
       "+ gauges              ::Array{UseGauge}     ... Gauges to be included into the computations.\n",
       "+ electronEnergies    ::Array{Float64,1}    ... List of electron energies [in default units].\n",
       "+ ionEnergies         ::Array{Float64,1}    ... List of ion energies [in MeV/u].\n",
       "+ useIonEnergies      ::Bool                ... Make use of ion energies in [MeV/u] to obtain the electron energies.\n",
       "+ calcAnisotropy      ::Bool                ... True, if the overall anisotropy is to be calculated.\n",
       "+ calcTensors         ::Bool                ... True, if the statistical tensors are to be calculated and \n",
       "                                                false otherwise.\n",
       "+ printBefore         ::Bool                ... True, if all energies and lines are printed before their evaluation.\n",
       "+ lineSelection       ::LineSelection       ... Specifies the selected levels, if any.\n",
       "```\n",
       "\n",
       "---\n",
       "\n",
       "`PhotoRecombination.Settings()`  ... constructor for the default values of photo recombination line computations\n"
      ],
      "text/plain": [
       "  \u001b[36mstruct Settings <: AbstractProcessSettings\u001b[39m ... defines a type for the\n",
       "  details and parameters of computing photo recombination lines.\n",
       "\n",
       "\u001b[36m  + multipoles          ::Array{EmMultipole}  ... Multipoles of the radiation field that are to be included.\u001b[39m\n",
       "\u001b[36m  + gauges              ::Array{UseGauge}     ... Gauges to be included into the computations.\u001b[39m\n",
       "\u001b[36m  + electronEnergies    ::Array{Float64,1}    ... List of electron energies [in default units].\u001b[39m\n",
       "\u001b[36m  + ionEnergies         ::Array{Float64,1}    ... List of ion energies [in MeV/u].\u001b[39m\n",
       "\u001b[36m  + useIonEnergies      ::Bool                ... Make use of ion energies in [MeV/u] to obtain the electron energies.\u001b[39m\n",
       "\u001b[36m  + calcAnisotropy      ::Bool                ... True, if the overall anisotropy is to be calculated.\u001b[39m\n",
       "\u001b[36m  + calcTensors         ::Bool                ... True, if the statistical tensors are to be calculated and \u001b[39m\n",
       "\u001b[36m                                                  false otherwise.\u001b[39m\n",
       "\u001b[36m  + printBefore         ::Bool                ... True, if all energies and lines are printed before their evaluation.\u001b[39m\n",
       "\u001b[36m  + lineSelection       ::LineSelection       ... Specifies the selected levels, if any.\u001b[39m\n",
       "\n",
       "  ────────────────────────────────────────────────────────────────────────────\n",
       "\n",
       "  \u001b[36mPhotoRecombination.Settings()\u001b[39m ... constructor for the default values of\n",
       "  photo recombination line computations"
      ]
     },
     "execution_count": 2,
     "metadata": {},
     "output_type": "execute_result"
    }
   ],
   "source": [
    "? PhotoRecombination.Settings"
   ]
  },
  {
   "cell_type": "markdown",
   "metadata": {},
   "source": [
    "# **The following part of this nootebook is still under construction.**"
   ]
  },
  {
   "cell_type": "code",
   "execution_count": 3,
   "metadata": {},
   "outputs": [
    {
     "data": {
      "text/plain": [
       "multipoles:               EmMultipole[]  \n",
       "gauges:                   UseGauge[]  \n",
       "electronEnergies:         Float64[]  \n",
       "ionEnergies:              Float64[]  \n",
       "useIonEnergies:           false  \n",
       "calcAnisotropy:           false  \n",
       "calcTensors:              false  \n",
       "printBefore:              false  \n",
       "lineSelection:            Inactive LineSelection.  \n"
      ]
     },
     "execution_count": 3,
     "metadata": {},
     "output_type": "execute_result"
    }
   ],
   "source": [
    "defaultSettings = PhotoRecombination.Settings()"
   ]
  },
  {
   "cell_type": "markdown",
   "metadata": {},
   "source": [
    "\n",
    "As seen from these settings, the default only includes the E1 photoionization amplitudes, the use of Coulomb gauge, and *no* photon energies are yet defined. \n"
   ]
  },
  {
   "cell_type": "markdown",
   "metadata": {},
   "source": [
    "We ....\n"
   ]
  },
  {
   "cell_type": "code",
   "execution_count": 4,
   "metadata": {},
   "outputs": [
    {
     "data": {
      "text/plain": [
       "multipoles:               EmMultipole[]  \n",
       "gauges:                   UseGauge[]  \n",
       "electronEnergies:         Float64[]  \n",
       "ionEnergies:              Float64[]  \n",
       "useIonEnergies:           false  \n",
       "calcAnisotropy:           false  \n",
       "calcTensors:              false  \n",
       "printBefore:              false  \n",
       "lineSelection:            Inactive LineSelection.  \n"
      ]
     },
     "execution_count": 4,
     "metadata": {},
     "output_type": "execute_result"
    }
   ],
   "source": [
    "setDefaults(\"unit: energy\", \"eV\")\n",
    "recSettings = PhotoRecombination.Settings()"
   ]
  },
  {
   "cell_type": "markdown",
   "metadata": {},
   "source": [
    "\n",
    "With these settings, we can proceed along standard lines and compute the cross section and $\\beta_2$ parameters by:\n"
   ]
  },
  {
   "cell_type": "code",
   "execution_count": null,
   "metadata": {},
   "outputs": [],
   "source": []
  },
  {
   "cell_type": "code",
   "execution_count": null,
   "metadata": {},
   "outputs": [],
   "source": []
  }
 ],
 "metadata": {
  "@webio": {
   "lastCommId": null,
   "lastKernelId": null
  },
  "kernelspec": {
   "display_name": "Julia 1.6.2",
   "language": "julia",
   "name": "julia-1.6"
  },
  "language_info": {
   "file_extension": ".jl",
   "mimetype": "application/julia",
   "name": "julia",
   "version": "1.6.2"
  }
 },
 "nbformat": 4,
 "nbformat_minor": 4
}
