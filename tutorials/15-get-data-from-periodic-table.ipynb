{
 "cells": [
  {
   "cell_type": "markdown",
   "metadata": {},
   "source": [
    "# Obtaining data from the periodic table"
   ]
  },
  {
   "cell_type": "code",
   "execution_count": 1,
   "metadata": {},
   "outputs": [],
   "source": [
    "using JAC"
   ]
  },
  {
   "cell_type": "markdown",
   "metadata": {},
   "source": [
    "Most atomic computations require input that is specific for some given element or isotope. This information can often be easily read from the Periodic Table of Elements and have to be provided to JAC, wherever necessary. In other situations, it may be helpful to have these data also available within the same **toolbox**. To obtain for instance the nuclear charge of some element with known *symbol*, one can call the function:"
   ]
  },
  {
   "cell_type": "code",
   "execution_count": 2,
   "metadata": {},
   "outputs": [
    {
     "data": {
      "text/latex": [
       "\\texttt{PeriodicTable.getAtomicNumber(symbol::Symbol)}       ... returns the atomic number (nuclear charge Z) for the given element symbol.\n",
       "\n"
      ],
      "text/markdown": [
       "`PeriodicTable.getAtomicNumber(symbol::Symbol)`       ... returns the atomic number (nuclear charge Z) for the given element symbol.\n"
      ],
      "text/plain": [
       "  \u001b[36mPeriodicTable.getAtomicNumber(symbol::Symbol)\u001b[39m ... returns the atomic number\n",
       "  (nuclear charge Z) for the given element symbol."
      ]
     },
     "execution_count": 2,
     "metadata": {},
     "output_type": "execute_result"
    }
   ],
   "source": [
    "? PeriodicTable.getAtomicNumber"
   ]
  },
  {
   "cell_type": "markdown",
   "metadata": {},
   "source": [
    "where **symbols** are defined in Julia by the syntax:"
   ]
  },
  {
   "cell_type": "code",
   "execution_count": 3,
   "metadata": {},
   "outputs": [
    {
     "data": {
      "text/plain": [
       "3-element Vector{Symbol}:\n",
       " :He\n",
       " :Ne\n",
       " :Ar"
      ]
     },
     "execution_count": 3,
     "metadata": {},
     "output_type": "execute_result"
    }
   ],
   "source": [
    "[:He, :Ne, :Ar]"
   ]
  },
  {
   "cell_type": "code",
   "execution_count": 4,
   "metadata": {},
   "outputs": [
    {
     "data": {
      "text/plain": [
       "92"
      ]
     },
     "execution_count": 4,
     "metadata": {},
     "output_type": "execute_result"
    }
   ],
   "source": [
    "PeriodicTable.getAtomicNumber(:U)"
   ]
  },
  {
   "cell_type": "markdown",
   "metadata": {},
   "source": [
    "Similarly, basis information about the elements can be obtained from the function:"
   ]
  },
  {
   "cell_type": "code",
   "execution_count": 5,
   "metadata": {},
   "outputs": [
    {
     "data": {
      "text/latex": [
       "\\texttt{PeriodicTable.getData()}       ... provides various data from the periodic table of elements. \n",
       "\n",
       "\\begin{itemize}\n",
       "\\item \\texttt{(\"mass\", Z::Int64)}  or  \\texttt{(\"mass\", symbol::Symbol)}      ... to get mean mass value of the element with nuclear charge Z or symbol.\n",
       "\n",
       "\n",
       "\\item \\texttt{(\"density\", Z::Int64)}  or  \\texttt{(\"density\", symbol::Symbol)}      ... to get the density [g/cm\\^{}3] of the element with nuclear charge Z or symbol.\n",
       "\n",
       "\n",
       "\\item \\texttt{(\"1st IP\", Z::Int64)}  or  \\texttt{(\"1st IP\", symbol::Symbol)}      ... to get the first ionization potential [eV] of the element with nuclear charge Z or symbol.\n",
       "\n",
       "\n",
       "\\item \\texttt{(\"ground configuration\", Z::Int64)}  or  \\texttt{(\"ground configuration\", symbol::Symbol)}      ... to get the ground configuration of the neutral atom with nuclear charge Z or symbol.\n",
       "\n",
       "\n",
       "\\item \\texttt{(\"atomic radius\", Z::Int64)}  or  \\texttt{(\"atomic radius\", symbol::Symbol)}      ... to get the atomic radius of the neutral atom with nuclear charge Z or symbol.\n",
       "\n",
       "\n",
       "\\item \\texttt{(\"polarizibility\", Z::Int64)}  or  \\texttt{(\"polarizibility\", symbol::Symbol)}      ... to get the polarizibility of the neutral atom with nuclear charge Z or symbol.\n",
       "\n",
       "\n",
       "\\item \\texttt{(\"ground configuration\", Z::Int64)}  or  \\texttt{(\"ground configuration\", symbol::Symbol)}      ... to get the ground configuration of the neutral atom with nuclear charge Z or symbol.\n",
       "\n",
       "\n",
       "\\item \\texttt{(\"chemical hardness\", Z::Int64)}  or  \\texttt{(\"chemical hardness\", symbol::Symbol)}      ... to get the chemical hardness of the neutral atom with nuclear charge Z or symbol.\n",
       "\n",
       "\\end{itemize}\n"
      ],
      "text/markdown": [
       "`PeriodicTable.getData()`       ... provides various data from the periodic table of elements. \n",
       "\n",
       "  * `(\"mass\", Z::Int64)`  or  `(\"mass\", symbol::Symbol)`      ... to get mean mass value of the element with nuclear charge Z or symbol.\n",
       "  * `(\"density\", Z::Int64)`  or  `(\"density\", symbol::Symbol)`      ... to get the density [g/cm^3] of the element with nuclear charge Z or symbol.\n",
       "  * `(\"1st IP\", Z::Int64)`  or  `(\"1st IP\", symbol::Symbol)`      ... to get the first ionization potential [eV] of the element with nuclear charge Z or symbol.\n",
       "  * `(\"ground configuration\", Z::Int64)`  or  `(\"ground configuration\", symbol::Symbol)`      ... to get the ground configuration of the neutral atom with nuclear charge Z or symbol.\n",
       "  * `(\"atomic radius\", Z::Int64)`  or  `(\"atomic radius\", symbol::Symbol)`      ... to get the atomic radius of the neutral atom with nuclear charge Z or symbol.\n",
       "  * `(\"polarizibility\", Z::Int64)`  or  `(\"polarizibility\", symbol::Symbol)`      ... to get the polarizibility of the neutral atom with nuclear charge Z or symbol.\n",
       "  * `(\"ground configuration\", Z::Int64)`  or  `(\"ground configuration\", symbol::Symbol)`      ... to get the ground configuration of the neutral atom with nuclear charge Z or symbol.\n",
       "  * `(\"chemical hardness\", Z::Int64)`  or  `(\"chemical hardness\", symbol::Symbol)`      ... to get the chemical hardness of the neutral atom with nuclear charge Z or symbol.\n"
      ],
      "text/plain": [
       "  \u001b[36mPeriodicTable.getData()\u001b[39m ... provides various data from the periodic table of\n",
       "  elements.\n",
       "\n",
       "    •  \u001b[36m(\"mass\", Z::Int64)\u001b[39m or \u001b[36m(\"mass\", symbol::Symbol)\u001b[39m ... to get mean\n",
       "       mass value of the element with nuclear charge Z or symbol.\n",
       "\n",
       "    •  \u001b[36m(\"density\", Z::Int64)\u001b[39m or \u001b[36m(\"density\", symbol::Symbol)\u001b[39m ... to get\n",
       "       the density [g/cm^3] of the element with nuclear charge Z or\n",
       "       symbol.\n",
       "\n",
       "    •  \u001b[36m(\"1st IP\", Z::Int64)\u001b[39m or \u001b[36m(\"1st IP\", symbol::Symbol)\u001b[39m ... to get the\n",
       "       first ionization potential [eV] of the element with nuclear charge\n",
       "       Z or symbol.\n",
       "\n",
       "    •  \u001b[36m(\"ground configuration\", Z::Int64)\u001b[39m or \u001b[36m(\"ground configuration\",\n",
       "       symbol::Symbol)\u001b[39m ... to get the ground configuration of the neutral\n",
       "       atom with nuclear charge Z or symbol.\n",
       "\n",
       "    •  \u001b[36m(\"atomic radius\", Z::Int64)\u001b[39m or \u001b[36m(\"atomic radius\", symbol::Symbol)\u001b[39m\n",
       "       ... to get the atomic radius of the neutral atom with nuclear\n",
       "       charge Z or symbol.\n",
       "\n",
       "    •  \u001b[36m(\"polarizibility\", Z::Int64)\u001b[39m or \u001b[36m(\"polarizibility\", symbol::Symbol)\u001b[39m\n",
       "       ... to get the polarizibility of the neutral atom with nuclear\n",
       "       charge Z or symbol.\n",
       "\n",
       "    •  \u001b[36m(\"ground configuration\", Z::Int64)\u001b[39m or \u001b[36m(\"ground configuration\",\n",
       "       symbol::Symbol)\u001b[39m ... to get the ground configuration of the neutral\n",
       "       atom with nuclear charge Z or symbol.\n",
       "\n",
       "    •  \u001b[36m(\"chemical hardness\", Z::Int64)\u001b[39m or \u001b[36m(\"chemical hardness\",\n",
       "       symbol::Symbol)\u001b[39m ... to get the chemical hardness of the neutral\n",
       "       atom with nuclear charge Z or symbol."
      ]
     },
     "execution_count": 5,
     "metadata": {},
     "output_type": "execute_result"
    }
   ],
   "source": [
    "? PeriodicTable.getData"
   ]
  },
  {
   "cell_type": "code",
   "execution_count": 6,
   "metadata": {},
   "outputs": [
    {
     "data": {
      "text/plain": [
       "(238.029, 238.029)"
      ]
     },
     "execution_count": 6,
     "metadata": {},
     "output_type": "execute_result"
    }
   ],
   "source": [
    "PeriodicTable.getData(\"mass\", :U), PeriodicTable.getData(\"mass\", 92)"
   ]
  },
  {
   "cell_type": "code",
   "execution_count": 7,
   "metadata": {},
   "outputs": [
    {
     "name": "stdout",
     "output_type": "stream",
     "text": [
      "\n",
      "Ionization potentials are given [eV]: ...\n",
      "\n",
      "Ionization potentials are given [eV]: ...\n"
     ]
    },
    {
     "data": {
      "text/plain": [
       "(24.59, 21.56)"
      ]
     },
     "execution_count": 7,
     "metadata": {},
     "output_type": "execute_result"
    }
   ],
   "source": [
    "PeriodicTable.getData(\"1st IP\", :He), PeriodicTable.getData(\"1st IP\", :Ne)"
   ]
  },
  {
   "cell_type": "code",
   "execution_count": 8,
   "metadata": {},
   "outputs": [
    {
     "name": "stdout",
     "output_type": "stream",
     "text": [
      "\n",
      "Atomic polarizibility is given [10^-24 c.c]: ...\n",
      "\n",
      "Atomic polarizibility is given [10^-24 c.c]: ...\n"
     ]
    },
    {
     "data": {
      "text/plain": [
       "(0.1358, 0.2131)"
      ]
     },
     "execution_count": 8,
     "metadata": {},
     "output_type": "execute_result"
    }
   ],
   "source": [
    "PeriodicTable.getData(\"polarizibility\", :He), PeriodicTable.getData(\"polarizibility\", :Ne)"
   ]
  },
  {
   "cell_type": "code",
   "execution_count": 9,
   "metadata": {},
   "outputs": [
    {
     "data": {
      "text/plain": [
       "(Configuration: 1s^2 , Configuration: 1s^2 2s^2 2p^6 )"
      ]
     },
     "execution_count": 9,
     "metadata": {},
     "output_type": "execute_result"
    }
   ],
   "source": [
    "PeriodicTable.getData(\"ground configuration\", :He), PeriodicTable.getData(\"ground configuration\", :Ne)"
   ]
  },
  {
   "cell_type": "markdown",
   "metadata": {},
   "source": [
    "These data might be useful especially if some tabulations or legend of some plots need to be prepare. Apart from those data, which can be read of directly from various representations of the periodic table, we shall provide also some isotope-selected data, although no attempt will be made to *compete* here with any useful tabulations from the literature. For many cases, and as seen below, this function is simply **not yet implemented properly**:"
   ]
  },
  {
   "cell_type": "code",
   "execution_count": 10,
   "metadata": {},
   "outputs": [
    {
     "data": {
      "text/latex": [
       "\\texttt{PeriodicTable.getIsotopeData()}       ... provides various data from the periodic table of elements. Not yet implemented.\n",
       "\n",
       "\\begin{itemize}\n",
       "\\item \\texttt{(\"mass\", Z::Int64)}  or  \\texttt{(\"mass\", symbol::Symbol)}      ... to get mean mass value of the element with nuclear charge Z or symbol\n",
       "\n",
       "\\end{itemize}\n"
      ],
      "text/markdown": [
       "`PeriodicTable.getIsotopeData()`       ... provides various data from the periodic table of elements. Not yet implemented.\n",
       "\n",
       "  * `(\"mass\", Z::Int64)`  or  `(\"mass\", symbol::Symbol)`      ... to get mean mass value of the element with nuclear charge Z or symbol\n"
      ],
      "text/plain": [
       "  \u001b[36mPeriodicTable.getIsotopeData()\u001b[39m ... provides various data from the periodic\n",
       "  table of elements. Not yet implemented.\n",
       "\n",
       "    •  \u001b[36m(\"mass\", Z::Int64)\u001b[39m or \u001b[36m(\"mass\", symbol::Symbol)\u001b[39m ... to get mean\n",
       "       mass value of the element with nuclear charge Z or symbol"
      ]
     },
     "execution_count": 10,
     "metadata": {},
     "output_type": "execute_result"
    }
   ],
   "source": [
    "? PeriodicTable.getIsotopeData"
   ]
  },
  {
   "cell_type": "markdown",
   "metadata": {},
   "source": [
    "Finally, we can obtain estimates of the binding energies for some (ionic) configuration of the elements $Z <= 36$ by a call to:"
   ]
  },
  {
   "cell_type": "code",
   "execution_count": 11,
   "metadata": {},
   "outputs": [
    {
     "data": {
      "text/latex": [
       "\\texttt{Semiempirical.estimate(\"ionization potential: inner-shell\", shell::Shell, Z::Int64)}       ... to estimate the ionization potential = mean binding energy of an electron in the given shell; an energy value::Float64          is returned. These ionization potentials are taken from the tabulation ....\n",
       "\n",
       "\\rule{\\textwidth}{1pt}\n",
       "\\texttt{Semiempirical.estimate(\"binding energy\", Z::Float64, sh::Subshell)}        ... to provide the binding energy of a subshell electron, taken from a semi-empirical tabulations by Williams et al.,          https://userweb.jlab.org/{\\textasciitilde}gwyn/ebindene.html. A energy::Float64 in  Hartree is returned.\n",
       "\n",
       "\\rule{\\textwidth}{1pt}\n",
       "\\texttt{Semiempirical.estimate(\"binding energy\", Z::Float64, conf::Configuration)}       ... to provide an approximate binding energy of a given electron configuration. This estimate adds the binding          energies of all subshell, taken frogm a semi-empirical tabulations by Williams et al.,          https://userweb.jlab.org/{\\textasciitilde}gwyn/ebindene.html. If no binding energy is provided by this table, it simply scales the          binding energies (e/ 12.) from the next lower shell of the same symmetry         No relaxation effects are included if several hole states         occur with regard to the neutral atom. An energy::Float64 in  Hartree is returned.\n",
       "\n"
      ],
      "text/markdown": [
       "`Semiempirical.estimate(\"ionization potential: inner-shell\", shell::Shell, Z::Int64)`       ... to estimate the ionization potential = mean binding energy of an electron in the given shell; an energy value::Float64          is returned. These ionization potentials are taken from the tabulation ....\n",
       "\n",
       "---\n",
       "\n",
       "`Semiempirical.estimate(\"binding energy\", Z::Float64, sh::Subshell)`        ... to provide the binding energy of a subshell electron, taken from a semi-empirical tabulations by Williams et al.,          https://userweb.jlab.org/~gwyn/ebindene.html. A energy::Float64 in  Hartree is returned.\n",
       "\n",
       "---\n",
       "\n",
       "`Semiempirical.estimate(\"binding energy\", Z::Float64, conf::Configuration)`       ... to provide an approximate binding energy of a given electron configuration. This estimate adds the binding          energies of all subshell, taken frogm a semi-empirical tabulations by Williams et al.,          https://userweb.jlab.org/~gwyn/ebindene.html. If no binding energy is provided by this table, it simply scales the          binding energies (e/ 12.) from the next lower shell of the same symmetry         No relaxation effects are included if several hole states         occur with regard to the neutral atom. An energy::Float64 in  Hartree is returned.\n"
      ],
      "text/plain": [
       "  \u001b[36mSemiempirical.estimate(\"ionization potential: inner-shell\", shell::Shell,\n",
       "  Z::Int64)\u001b[39m ... to estimate the ionization potential = mean binding energy of\n",
       "  an electron in the given shell; an energy value::Float64 is returned. These\n",
       "  ionization potentials are taken from the tabulation ....\n",
       "\n",
       "  ────────────────────────────────────────────────────────────────────────────\n",
       "\n",
       "  \u001b[36mSemiempirical.estimate(\"binding energy\", Z::Float64, sh::Subshell)\u001b[39m ... to\n",
       "  provide the binding energy of a subshell electron, taken from a\n",
       "  semi-empirical tabulations by Williams et al.,\n",
       "  https://userweb.jlab.org/~gwyn/ebindene.html. A energy::Float64 in Hartree\n",
       "  is returned.\n",
       "\n",
       "  ────────────────────────────────────────────────────────────────────────────\n",
       "\n",
       "  \u001b[36mSemiempirical.estimate(\"binding energy\", Z::Float64, conf::Configuration)\u001b[39m\n",
       "  ... to provide an approximate binding energy of a given electron\n",
       "  configuration. This estimate adds the binding energies of all subshell,\n",
       "  taken frogm a semi-empirical tabulations by Williams et al.,\n",
       "  https://userweb.jlab.org/~gwyn/ebindene.html. If no binding energy is\n",
       "  provided by this table, it simply scales the binding energies (e/ 12.) from\n",
       "  the next lower shell of the same symmetry No relaxation effects are included\n",
       "  if several hole states occur with regard to the neutral atom. An\n",
       "  energy::Float64 in Hartree is returned."
      ]
     },
     "execution_count": 11,
     "metadata": {},
     "output_type": "execute_result"
    }
   ],
   "source": [
    "? Semiempirical.estimate"
   ]
  },
  {
   "cell_type": "code",
   "execution_count": 12,
   "metadata": {},
   "outputs": [
    {
     "data": {
      "text/plain": [
       "63.958520845679445"
      ]
     },
     "execution_count": 12,
     "metadata": {},
     "output_type": "execute_result"
    }
   ],
   "source": [
    "Semiempirical.estimate(\"binding energy\", 10, Configuration(\"[He]\"))"
   ]
  },
  {
   "cell_type": "code",
   "execution_count": 13,
   "metadata": {},
   "outputs": [
    {
     "data": {
      "text/plain": [
       "415.0100987762916"
      ]
     },
     "execution_count": 13,
     "metadata": {},
     "output_type": "execute_result"
    }
   ],
   "source": [
    "JAC.Semiempirical.estimate(\"binding energy\", 20, Configuration(\"[Ar]\"))"
   ]
  },
  {
   "cell_type": "markdown",
   "metadata": {},
   "source": [
    "While no attempt will be made to implement a *large deal* of such empirical data, further information might be made accessible if this helps the user or the work with the JAC toolbox."
   ]
  },
  {
   "cell_type": "code",
   "execution_count": null,
   "metadata": {},
   "outputs": [],
   "source": []
  }
 ],
 "metadata": {
  "@webio": {
   "lastCommId": null,
   "lastKernelId": null
  },
  "kernelspec": {
   "display_name": "Julia 1.6.2",
   "language": "julia",
   "name": "julia-1.6"
  },
  "language_info": {
   "file_extension": ".jl",
   "mimetype": "application/julia",
   "name": "julia",
   "version": "1.6.2"
  }
 },
 "nbformat": 4,
 "nbformat_minor": 4
}
