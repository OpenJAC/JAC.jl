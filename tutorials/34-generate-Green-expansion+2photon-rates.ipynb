{
 "cells": [
  {
   "cell_type": "markdown",
   "metadata": {},
   "source": [
    "# Green (function) expansion and 2-photon decay rates"
   ]
  },
  {
   "cell_type": "code",
   "execution_count": 1,
   "metadata": {},
   "outputs": [],
   "source": [
    "using JAC"
   ]
  },
  {
   "cell_type": "markdown",
   "metadata": {},
   "source": [
    "Green functions are primarely used in mathematical physics to represent solutions of inhomogeneous boundary-value problems as they frequently occur, for instance, in scattering theory. In JAC, approximate (many-electron) Green functions are typically applied in order to sum over some -- more or less complete -- spectrum and, hence, to compute second- and higher-order processes. In JAC, moreover, a Green function representation refers to just one or a few multiplets of different (level) symmetries $J_1,\\: J_2,\\: ....$, i.e. lists of  many-electron levels with up to $n^{(max)}$ electrons within the continuum. \n",
    "\n",
    "In JAC, indeed, each Green function is classified by the (maximum) number of free electrons and a pre-specified (de-) excitation scheme that is to be applied in order to generate from a list of given reference configurations all those (nonrelativistic) configurations that are to be considered in the many-electron (CSF) basis of the Green function representation. To understand such a representation in more detail, let us first consider the internal set-up of a general `Representation` and a `GreenExpansion` as a particular representation:"
   ]
  },
  {
   "cell_type": "code",
   "execution_count": 2,
   "metadata": {},
   "outputs": [
    {
     "data": {
      "text/latex": [
       "No documentation found.\n",
       "\n",
       "Binding \\texttt{JAC.Atomic.Representation} does not exist.\n",
       "\n"
      ],
      "text/markdown": [
       "No documentation found.\n",
       "\n",
       "Binding `JAC.Atomic.Representation` does not exist.\n"
      ],
      "text/plain": [
       "  No documentation found.\n",
       "\n",
       "  Binding \u001b[36mJAC.Atomic.Representation\u001b[39m does not exist."
      ]
     },
     "execution_count": 2,
     "metadata": {},
     "output_type": "execute_result"
    }
   ],
   "source": [
    "? Atomic.Representation"
   ]
  },
  {
   "cell_type": "code",
   "execution_count": 3,
   "metadata": {},
   "outputs": [
    {
     "data": {
      "text/latex": [
       "No documentation found.\n",
       "\n",
       "Binding \\texttt{JAC.Atomic.GreenExpansion} does not exist.\n",
       "\n"
      ],
      "text/markdown": [
       "No documentation found.\n",
       "\n",
       "Binding `JAC.Atomic.GreenExpansion` does not exist.\n"
      ],
      "text/plain": [
       "  No documentation found.\n",
       "\n",
       "  Binding \u001b[36mJAC.Atomic.GreenExpansion\u001b[39m does not exist."
      ]
     },
     "execution_count": 3,
     "metadata": {},
     "output_type": "execute_result"
    }
   ],
   "source": [
    "? Atomic.GreenExpansion"
   ]
  },
  {
   "cell_type": "markdown",
   "metadata": {},
   "source": [
    "Like all other representations, a Green (function) expansion is first of all based on a nuclear model, a set of reference configurations as well as a pre-defined grid. The `GreenExpansion` itself can be generated for different excitation schemes (with regard to the reference configurations) and for a given list of level symmetries. The `AbstractGreenApproach` determines how the electron-electron interaction is treated in the set-up and diagonalization of the `GreenChannel`'s, i.e. the corresponding Hamiltonian matrices:"
   ]
  },
  {
   "cell_type": "code",
   "execution_count": 4,
   "metadata": {},
   "outputs": [
    {
     "data": {
      "text/latex": [
       "No documentation found.\n",
       "\n",
       "Binding \\texttt{JAC.Atomic.AbstractGreenApproach} does not exist.\n",
       "\n"
      ],
      "text/markdown": [
       "No documentation found.\n",
       "\n",
       "Binding `JAC.Atomic.AbstractGreenApproach` does not exist.\n"
      ],
      "text/plain": [
       "  No documentation found.\n",
       "\n",
       "  Binding \u001b[36mJAC.Atomic.AbstractGreenApproach\u001b[39m does not exist."
      ]
     },
     "execution_count": 4,
     "metadata": {},
     "output_type": "execute_result"
    }
   ],
   "source": [
    "? Atomic.AbstractGreenApproach"
   ]
  },
  {
   "cell_type": "markdown",
   "metadata": {},
   "source": [
    "What is seen ... and which information needed to be provided for such a computation"
   ]
  },
  {
   "cell_type": "code",
   "execution_count": 5,
   "metadata": {},
   "outputs": [
    {
     "name": "stdout",
     "output_type": "stream",
     "text": [
      "search: \u001b[0m\u001b[1mG\u001b[22m\u001b[0m\u001b[1mr\u001b[22m\u001b[0m\u001b[1me\u001b[22m\u001b[0m\u001b[1me\u001b[22m\u001b[0m\u001b[1mn\u001b[22m\u001b[0m\u001b[1mC\u001b[22m\u001b[0m\u001b[1mh\u001b[22m\u001b[0m\u001b[1ma\u001b[22m\u001b[0m\u001b[1mn\u001b[22m\u001b[0m\u001b[1mn\u001b[22m\u001b[0m\u001b[1me\u001b[22m\u001b[0m\u001b[1ml\u001b[22m\n",
      "\n"
     ]
    },
    {
     "data": {
      "text/latex": [
       "\\texttt{struct  AtomicState.GreenChannel}       ... defines a type for a single symmetry channel of an (approximate) Green (function) expansion.\n",
       "\n",
       "\\begin{verbatim}\n",
       "+ symmetry          ::LevelSymmetry    ... Level symmetry of this part of the representation.\n",
       "+ gMultiplet        ::Multiplet        ... Multiplet of (scattering) levels of this symmetry.\n",
       "\\end{verbatim}\n",
       "\\rule{\\textwidth}{1pt}\n",
       "\\texttt{AtomicState.GreenChannel()}  ... constructor for an \\texttt{empty} instance of AtomicState.GreenChannel.\n",
       "\n"
      ],
      "text/markdown": [
       "`struct  AtomicState.GreenChannel`       ... defines a type for a single symmetry channel of an (approximate) Green (function) expansion.\n",
       "\n",
       "```\n",
       "+ symmetry          ::LevelSymmetry    ... Level symmetry of this part of the representation.\n",
       "+ gMultiplet        ::Multiplet        ... Multiplet of (scattering) levels of this symmetry.\n",
       "```\n",
       "\n",
       "---\n",
       "\n",
       "`AtomicState.GreenChannel()`  ... constructor for an `empty` instance of AtomicState.GreenChannel.\n"
      ],
      "text/plain": [
       "  \u001b[36mstruct AtomicState.GreenChannel\u001b[39m ... defines a type for a single symmetry\n",
       "  channel of an (approximate) Green (function) expansion.\n",
       "\n",
       "\u001b[36m  + symmetry          ::LevelSymmetry    ... Level symmetry of this part of the representation.\u001b[39m\n",
       "\u001b[36m  + gMultiplet        ::Multiplet        ... Multiplet of (scattering) levels of this symmetry.\u001b[39m\n",
       "\n",
       "  ────────────────────────────────────────────────────────────────────────────\n",
       "\n",
       "  \u001b[36mAtomicState.GreenChannel()\u001b[39m ... constructor for an \u001b[36mempty\u001b[39m instance of\n",
       "  AtomicState.GreenChannel."
      ]
     },
     "execution_count": 5,
     "metadata": {},
     "output_type": "execute_result"
    }
   ],
   "source": [
    "? GreenChannel"
   ]
  },
  {
   "cell_type": "markdown",
   "metadata": {},
   "source": [
    "The *outcome* of a Green (function) expansion or representation is a list of `GreenChannel`'s which can be obtained as usual from some dictionary. Apart from the `AbstractGreenApproach` and the `AbstractExcitationScheme`, further details about the expansion can be specified and controlled by means of the `GreenSettings`:"
   ]
  },
  {
   "cell_type": "code",
   "execution_count": 6,
   "metadata": {},
   "outputs": [
    {
     "name": "stdout",
     "output_type": "stream",
     "text": [
      "search: \u001b[0m\u001b[1mG\u001b[22m\u001b[0m\u001b[1mr\u001b[22m\u001b[0m\u001b[1me\u001b[22m\u001b[0m\u001b[1me\u001b[22m\u001b[0m\u001b[1mn\u001b[22m\u001b[0m\u001b[1mS\u001b[22m\u001b[0m\u001b[1me\u001b[22m\u001b[0m\u001b[1mt\u001b[22m\u001b[0m\u001b[1mt\u001b[22m\u001b[0m\u001b[1mi\u001b[22m\u001b[0m\u001b[1mn\u001b[22m\u001b[0m\u001b[1mg\u001b[22m\u001b[0m\u001b[1ms\u001b[22m\n",
      "\n"
     ]
    },
    {
     "data": {
      "text/latex": [
       "\\texttt{struct  AtomicState.GreenSettings}       ... defines a type for defining the details and parameters of the approximate Green (function) expansion.\n",
       "\n",
       "\\begin{verbatim}\n",
       "+ nMax                     ::Int64            ... maximum principal quantum numbers of (single-electron) \n",
       "                                                  excitations that are to be included into the representation.\n",
       "+ lValues                  ::Array{Int64,1}   ... List of (non-relativistic) orbital angular momenta for which\n",
       "                                                  (single-electron) excitations are to be included.\n",
       "+ dampingTau               ::Float64          ... factor tau (> 0.) that is used to 'damp' the one- and two-electron\n",
       "                                                  interactions strength: exp( - tau * r)\n",
       "+ printBefore              ::Bool             ... True if a short overview is to be printed before. \n",
       "+ levelSelection           ::LevelSelection   ... Specifies the selected levels, if any.\n",
       "\\end{verbatim}\n",
       "\\rule{\\textwidth}{1pt}\n",
       "\\texttt{AtomicState.GreenSettings()}  ... constructor for an \\texttt{empty} instance of AtomicState.GreenSettings.\n",
       "\n"
      ],
      "text/markdown": [
       "`struct  AtomicState.GreenSettings`       ... defines a type for defining the details and parameters of the approximate Green (function) expansion.\n",
       "\n",
       "```\n",
       "+ nMax                     ::Int64            ... maximum principal quantum numbers of (single-electron) \n",
       "                                                  excitations that are to be included into the representation.\n",
       "+ lValues                  ::Array{Int64,1}   ... List of (non-relativistic) orbital angular momenta for which\n",
       "                                                  (single-electron) excitations are to be included.\n",
       "+ dampingTau               ::Float64          ... factor tau (> 0.) that is used to 'damp' the one- and two-electron\n",
       "                                                  interactions strength: exp( - tau * r)\n",
       "+ printBefore              ::Bool             ... True if a short overview is to be printed before. \n",
       "+ levelSelection           ::LevelSelection   ... Specifies the selected levels, if any.\n",
       "```\n",
       "\n",
       "---\n",
       "\n",
       "`AtomicState.GreenSettings()`  ... constructor for an `empty` instance of AtomicState.GreenSettings.\n"
      ],
      "text/plain": [
       "  \u001b[36mstruct AtomicState.GreenSettings\u001b[39m ... defines a type for defining the details\n",
       "  and parameters of the approximate Green (function) expansion.\n",
       "\n",
       "\u001b[36m  + nMax                     ::Int64            ... maximum principal quantum numbers of (single-electron) \u001b[39m\n",
       "\u001b[36m                                                    excitations that are to be included into the representation.\u001b[39m\n",
       "\u001b[36m  + lValues                  ::Array{Int64,1}   ... List of (non-relativistic) orbital angular momenta for which\u001b[39m\n",
       "\u001b[36m                                                    (single-electron) excitations are to be included.\u001b[39m\n",
       "\u001b[36m  + dampingTau               ::Float64          ... factor tau (> 0.) that is used to 'damp' the one- and two-electron\u001b[39m\n",
       "\u001b[36m                                                    interactions strength: exp( - tau * r)\u001b[39m\n",
       "\u001b[36m  + printBefore              ::Bool             ... True if a short overview is to be printed before. \u001b[39m\n",
       "\u001b[36m  + levelSelection           ::LevelSelection   ... Specifies the selected levels, if any.\u001b[39m\n",
       "\n",
       "  ────────────────────────────────────────────────────────────────────────────\n",
       "\n",
       "  \u001b[36mAtomicState.GreenSettings()\u001b[39m ... constructor for an \u001b[36mempty\u001b[39m instance of\n",
       "  AtomicState.GreenSettings."
      ]
     },
     "execution_count": 6,
     "metadata": {},
     "output_type": "execute_result"
    }
   ],
   "source": [
    "? GreenSettings"
   ]
  },
  {
   "cell_type": "markdown",
   "metadata": {},
   "source": [
    "In these settings, one can specify the maximum principle quantum number and the orbital angular momenta for the nonrelativistic $(n,\\ell)$ shells which are considered for virtual excitations. These orbitals correspond to those orbitals to which electrons can be excited, for instance, in a RAS expansion.\n",
    "\n",
    "In this tutorial, we wish to generate a Green (function) expansion that is suitable to estimate the E1-M1 rates for the two-photon decay of the $1s^2 2s 2p\\; ^3P_0$ lowest-excited level of beryllium-like ions. This level is known as one of the longest-living levels of atomic ions with lifetimes up to millions of years near to the neutral end. We shall consider the E1-M1 two-photon decay of beryllium-like xenon with an expected lifetime of about ... second. \n",
    "\n",
    "Indeed, the $1s^2 2s 2p\\; ^3P_0 - 1s^2 2s^2\\; ^1S_0$ decay is (highly) forbidden with regard to any single-photon decay as well as to E1E1 two-photon transition. For an isolated atom, the lowest-order non-vanishing decay refers to a E1M1 decay. To compute the E1M1 rates, we need Green function channels of symmetry $J^P = 1+$ (for the E1M1 transition amplitudes) and $1-$ (for the M1E1 transition amplitudes). In JAC, we can generate these channels by:"
   ]
  },
  {
   "cell_type": "code",
   "execution_count": 11,
   "metadata": {},
   "outputs": [
    {
     "data": {
      "text/plain": [
       "nMax:                     5  \n",
       "lValues:                  [0, 1, 2]  \n",
       "dampingTau:               0.1  \n",
       "printBefore:              true  \n",
       "levelSelection:           Inactive LevelSelection.  \n"
      ]
     },
     "execution_count": 11,
     "metadata": {},
     "output_type": "execute_result"
    }
   ],
   "source": [
    "name          = \"Beryllium 1s^2 2s np J=1- and  1s^2 2s ns J=1- Green channels\"\n",
    "refConfigs    = [Configuration(\"[He] 2s^2\"), Configuration(\"[He] 2s 2p\")]\n",
    "greenSettings = AtomicState.GreenSettings(5, [0, 1, 2], 0.1, true, LevelSelection(false))"
   ]
  },
  {
   "cell_type": "code",
   "execution_count": 13,
   "metadata": {},
   "outputs": [
    {
     "data": {
      "text/plain": [
       "Atomic representation:   Beryllium 1s^2 2s np J=1- and  1s^2 2s ns J=1- Green channels for Z = 54.0 and with reference configurations: \n",
       "   1s^2 2s^2 ,  1s^2 2s^1 2p^1 ,  \n",
       "representation type:   Green (function) expansion in JAC.AtomicState.SingleCSFwithoutCI() approach and for excitation scheme  JAC.Basics.DeExciteSingleElectron(),\n",
       "including (Green function channels with) symmetries LevelSymmetry[1 +, 1 -]:\n",
       "... and the current settings:\n",
       "nMax:                     5  \n",
       "lValues:                  [0, 1, 2]  \n",
       "dampingTau:               0.1  \n",
       "printBefore:              true  \n",
       "levelSelection:           Inactive LevelSelection.  \n",
       "  \n",
       "  \n",
       "nuclearModel:          Fermi nuclear model for Z = 54.0 with mass = 122.58, radius R = 4.722849091608491 fm and nuclear spin I = 0, dipole moment mu = 0.0 and quadrupole moment Q = 0.0.  \n",
       "grid:                  Radial grid:  rnt = 2.0e-6,  h = 0.05,  hp = 0.0,  NoPoints = 392,  ntL = 69,  ntS = 71, orderL = 7,  orderS = 8,  nsL = 62,  nsS = 63,  mesh = JAC.Radial.MeshGL(), ...  \n",
       "r:    [1.780504510281598e-8, 9.042759120177923e-8, 2.0787030685460475e-7]  ...  [564.4302351890452, 595.097239730825, 614.0606632064549]\n",
       "wr:   [4.530145586285996e-8, 9.785739473901763e-8, 1.3358660616640612e-7]  ...  [34.882547080539766, 25.552825070730517, 11.829256033233948]\n",
       "tS:   [0.0, 0.0, 0.0]  ...  [618.7099715607404, 618.7099715607404, 618.7099715607404]  \n"
      ]
     },
     "execution_count": 13,
     "metadata": {},
     "output_type": "execute_result"
    }
   ],
   "source": [
    "wa          = Representation(name, Nuclear.Model(54.), Radial.Grid(true), refConfigs, \n",
    "                             GreenExpansion( AtomicState.SingleCSFwithoutCI(), Basics.DeExciteSingleElectron(), \n",
    "                                             [LevelSymmetry(1, Basics.plus), LevelSymmetry(1, Basics.minus)], 4, greenSettings) )"
   ]
  },
  {
   "cell_type": "code",
   "execution_count": 14,
   "metadata": {
    "scrolled": true
   },
   "outputs": [
    {
     "name": "stdout",
     "output_type": "stream",
     "text": [
      "\n",
      "... in performSCF ...\n",
      ">> include Configuration: 1s_1/2^2 2s_1/2^2 \n",
      ">> include Configuration: 1s_1/2^2 2s_1/2^1 2p_1/2^0 2p_3/2^1 \n",
      ">> include Configuration: 1s_1/2^2 2s_1/2^1 2p_1/2^1 2p_3/2^0 \n",
      "(Re-) Define a new standard subshell list.\n",
      "Start SCF process with hydrogenic orbitals.\n",
      ">> (Re-) Define a storage array for various B-spline matrices:\n",
      "Nuclear model = Fermi nuclear model for Z = 54.0 with mass = 122.58, radius R = 4.722849091608491 fm and nuclear spin I = 0, dipole moment mu = 0.0 and quadrupole moment Q = 0.0. \n",
      "Generate hydrogenic orbital for subshell 1s_1/2 \n",
      "  -----------------------------------------------------------------------------\n",
      "   Index    Subshell     Energies [a.u.]    Dirac-E  [a.u.]     Delta-E / |E|    \n",
      "  -----------------------------------------------------------------------------\n",
      "      1      1s_1/2      -1.51935927e+03    -1.51947334e+03    +7.50773745e-05    \n",
      "      2      2s_1/2      -3.83773875e+02    -3.83790162e+02    +4.24378735e-05    \n",
      "      3      3s_1/2      -1.68797457e+02    -1.68801804e+02    +2.57536596e-05    \n",
      "      4      4s_1/2      -9.42259468e+01    -9.42128372e+01    -1.39129045e-04    \n",
      "      5      5s_1/2      -6.01725616e+01    -5.99659315e+01    -3.43395875e-03    \n",
      "      6      6s_1/2      -4.44340059e+01    -4.14770180e+01    -6.65478570e-02    \n",
      "      7      7s_1/2      -3.80702949e+01    -3.03812154e+01    -2.01970579e-01    \n",
      "      8      8s_1/2      -2.80639544e+01    -2.32060810e+01    -1.73100105e-01    \n",
      "      9      9s_1/2      -2.02964652e+01    -1.83012851e+01    -9.83018503e-02    \n",
      "     10     10s_1/2      -1.46555915e+01    -1.48013224e+01    +9.94370663e-03    \n",
      "     11     11s_1/2      -1.07222647e+01    -1.22168990e+01    +1.39395396e-01    \n",
      "     12     12s_1/2      -9.21392076e+00    -1.02545303e+01    +1.12938845e-01    \n",
      "     13     13s_1/2      -7.27356453e+00    -8.72953349e+00    +2.00172687e-01    \n",
      "     14     14s_1/2      -5.21373935e+00    -7.52099194e+00    +4.42533168e-01    \n",
      "     15     15s_1/2      -3.70366419e+00    -6.54705404e+00    +7.67723450e-01    \n",
      "     16     16s_1/2      -2.62313626e+00    -5.75071359e+00    +1.19230456e+00    \n",
      "     17     17s_1/2      -1.85510045e+00    -5.09128119e+00    +1.74447736e+00    \n",
      "     18     18s_1/2      -1.31112556e+00    -4.53908519e+00    +2.46197597e+00    \n",
      "     19     19s_1/2      -9.26926552e-01    -4.07207664e+00    +3.39309526e+00    \n",
      "     20     20s_1/2      -6.56473357e-01    -3.67359486e+00    +4.59595424e+00    \n",
      "     21     21s_1/2      -4.67115517e-01    -3.33086134e+00    +6.13070154e+00    \n",
      "     22     22s_1/2      -3.35789076e-01    -3.03394278e+00    +8.03526348e+00    \n",
      "     23     23s_1/2      -2.46003852e-01    -2.77502348e+00    +1.02804066e+01    \n",
      "     24     24s_1/2      -1.85616468e-01    -2.54788587e+00    +1.27266154e+01    \n",
      "     25     25s_1/2      -1.45579793e-01    -2.34753386e+00    +1.51254100e+01    \n",
      "     26     26s_1/2      -1.19366141e-01    -2.16991579e+00    +1.71786542e+01    \n",
      "     27     27s_1/2      -1.02526942e-01    -2.01171805e+00    +1.86213602e+01    \n",
      "     28     28s_1/2      -9.23695119e-02    -1.87020946e+00    +1.92470428e+01    \n",
      "     29     29s_1/2      +1.63078911e+02    -1.74312257e+00    +1.01068883e+00    \n",
      "     30     30s_1/2      +6.71416121e+02    -1.62856232e+00    +1.00242556e+00    \n",
      "     31     31s_1/2      +1.85765345e+03    -1.52493498e+00    +1.00082089e+00    \n",
      "     32     32s_1/2      +4.27022870e+03    -1.43089244e+00    +1.00033509e+00    \n",
      "     33     33s_1/2      +8.66840023e+03    -1.34528815e+00    +1.00015519e+00    \n",
      "     34     34s_1/2      +1.60050391e+04    -1.26714199e+00    +1.00007917e+00    \n",
      "     35     35s_1/2      +2.74650767e+04    -1.19561213e+00    +1.00004353e+00    \n",
      "     36     36s_1/2      +4.46166342e+04    -1.12997223e+00    +1.00002533e+00    \n",
      "     37     37s_1/2      +6.96583509e+04    -1.06959296e+00    +1.00001535e+00    \n",
      "     38     38s_1/2      +1.05738238e+05    -1.01392686e+00    +1.00000959e+00    \n",
      "      :       :    \n",
      "     55     55s_1/2      +6.27049843e+07    -4.83386095e-01    +1.00000001e+00    \n",
      "     56     56s_1/2      +9.44919474e+07    -4.66252551e-01    +1.00000000e+00    \n",
      "     57     57s_1/2      +1.47443894e+08    -4.50014055e-01    +1.00000000e+00    \n",
      "     58     58s_1/2      +2.42556645e+08    -4.34609332e-01    +1.00000000e+00    \n",
      "     59     59s_1/2      +4.53949992e+08    -4.19982266e-01    +1.00000000e+00    \n",
      "     60     60s_1/2      +1.07279841e+09    -4.06081381e-01    +1.00000000e+00    \n",
      "  -----------------------------------------------------------------------------\n",
      ">> Use hydrogenic orbital from this symmetry block also for 1s_1/2.\n",
      ">> Use hydrogenic orbital from this symmetry block also for 2s_1/2.\n",
      "Generate hydrogenic orbital for subshell 2p_1/2 \n",
      "  -----------------------------------------------------------------------------\n",
      "   Index    Subshell     Energies [a.u.]    Dirac-E  [a.u.]     Delta-E / |E|    \n",
      "  -----------------------------------------------------------------------------\n",
      "      1      2p_1/2      -3.83789663e+02    -3.83790162e+02    +1.30093076e-06    \n",
      "      2      3p_1/2      -1.68801792e+02    -1.68801804e+02    +7.23288926e-08    \n",
      "      3      4p_1/2      -9.42188550e+01    -9.42128372e+01    -6.38709311e-05    \n",
      "      4      5p_1/2      -6.00296595e+01    -5.99659315e+01    -1.06160859e-03    \n",
      "      5      6p_1/2      -4.19512611e+01    -4.14770180e+01    -1.13046200e-02    \n",
      "      6      7p_1/2      -3.28175937e+01    -3.03812154e+01    -7.42400060e-02    \n",
      "      7      8p_1/2      -2.64384785e+01    -2.32060810e+01    -1.22261104e-01    \n",
      "      8      9p_1/2      -1.96890369e+01    -1.83012851e+01    -7.04834771e-02    \n",
      "      9     10p_1/2      -1.43007727e+01    -1.48013224e+01    +3.50015806e-02    \n",
      "     10     11p_1/2      -1.02844182e+01    -1.22168990e+01    +1.87903754e-01    \n",
      "     11     12p_1/2      -7.35113539e+00    -1.02545303e+01    +3.94958708e-01    \n",
      "     12     13p_1/2      -5.23687230e+00    -8.72953349e+00    +6.66936483e-01    \n",
      "     13     14p_1/2      -3.86038767e+00    -7.52099194e+00    +9.48247840e-01    \n",
      "     14     15p_1/2      -3.63165662e+00    -6.54705404e+00    +8.02773424e-01    \n",
      "     15     16p_1/2      -2.61751406e+00    -5.75071359e+00    +1.19701344e+00    \n",
      "     16     17p_1/2      -1.85306894e+00    -5.09128119e+00    +1.74748612e+00    \n",
      "     17     18p_1/2      -1.31021874e+00    -4.53908519e+00    +2.46437204e+00    \n",
      "     18     19p_1/2      -9.26496587e-01    -4.07207664e+00    +3.39513399e+00    \n",
      "     19     20p_1/2      -6.56264827e-01    -3.67359486e+00    +4.59773236e+00    \n",
      "     20     21p_1/2      -4.67013078e-01    -3.33086134e+00    +6.13226565e+00    \n",
      "     21     22p_1/2      -3.35737947e-01    -3.03394278e+00    +8.03663944e+00    \n",
      "     22     23p_1/2      -2.45977637e-01    -2.77502348e+00    +1.02816088e+01    \n",
      "     23     24p_1/2      -1.85602495e-01    -2.54788587e+00    +1.27276488e+01    \n",
      "     24     25p_1/2      -1.45572004e-01    -2.34753386e+00    +1.51262728e+01    \n",
      "     25     26p_1/2      -1.19361597e-01    -2.16991579e+00    +1.71793462e+01    \n",
      "     26     27p_1/2      -1.02524156e-01    -2.01171805e+00    +1.86218933e+01    \n",
      "     27     28p_1/2      -9.23677570e-02    -1.87020946e+00    +1.92474275e+01    \n",
      "     28     29p_1/2      +1.52960033e+02    -1.74312257e+00    +1.01139593e+00    \n",
      "     29     30p_1/2      +5.77982510e+02    -1.62856232e+00    +1.00281767e+00    \n",
      "     30     31p_1/2      +1.52726824e+03    -1.52493498e+00    +1.00099847e+00    \n",
      "     31     32p_1/2      +3.43107270e+03    -1.43089244e+00    +1.00041704e+00    \n",
      "     32     33p_1/2      +6.92969457e+03    -1.34528815e+00    +1.00019413e+00    \n",
      "     33     34p_1/2      +1.28701985e+04    -1.26714199e+00    +1.00009846e+00    \n",
      "     34     35p_1/2      +2.23129782e+04    -1.19561213e+00    +1.00005358e+00    \n",
      "     35     36p_1/2      +3.66257977e+04    -1.12997223e+00    +1.00003085e+00    \n",
      "     36     37p_1/2      +5.76812043e+04    -1.06959296e+00    +1.00001854e+00    \n",
      "     37     38p_1/2      +8.81337353e+04    -1.01392686e+00    +1.00001150e+00    \n",
      "     38     39p_1/2      +1.31783692e+05    -9.62495858e-01    +1.00000730e+00    \n",
      "      :       :    \n",
      "     55     56p_1/2      +7.38883212e+07    -4.66252551e-01    +1.00000001e+00    \n",
      "     56     57p_1/2      +1.11433502e+08    -4.50014055e-01    +1.00000000e+00    \n",
      "     57     58p_1/2      +1.73769450e+08    -4.34609332e-01    +1.00000000e+00    \n",
      "     58     59p_1/2      +2.87111154e+08    -4.19982266e-01    +1.00000000e+00    \n",
      "     59     60p_1/2      +5.37061066e+08    -4.06081381e-01    +1.00000000e+00    \n",
      "     60     61p_1/2      +1.26736122e+09    -3.92859390e-01    +1.00000000e+00    \n",
      "  -----------------------------------------------------------------------------\n",
      ">> Use hydrogenic orbital from this symmetry block also for 2p_1/2.\n",
      "Generate hydrogenic orbital for subshell 2p_3/2 \n",
      "  -----------------------------------------------------------------------------\n",
      "   Index    Subshell     Energies [a.u.]    Dirac-E  [a.u.]     Delta-E / |E|    \n",
      "  -----------------------------------------------------------------------------\n",
      "      1      2p_3/2      -3.68107911e+02    -3.68107870e+02    -1.11978237e-07    \n",
      "      2      3p_3/2      -1.64141468e+02    -1.64141123e+02    -2.10659622e-06    \n",
      "      3      4p_3/2      -9.22668860e+01    -9.22535712e+01    -1.44307485e-04    \n",
      "      4      5p_3/2      -5.92924868e+01    -5.89665283e+01    -5.49746683e-03    \n",
      "      5      6p_3/2      -4.89995356e+01    -4.09004821e+01    -1.65288372e-01    \n",
      "      6      7p_3/2      -3.95429619e+01    -3.00190838e+01    -2.40848879e-01    \n",
      "      7      8p_3/2      -2.84114252e+01    -2.29639924e+01    -1.91733883e-01    \n",
      "      8      9p_3/2      -2.06963097e+01    -1.81315549e+01    -1.23923289e-01    \n",
      "      9     10p_3/2      -1.57370364e+01    -1.46777697e+01    -6.73104320e-02    \n",
      "     10     11p_3/2      -1.32957475e+01    -1.21241870e+01    -8.81154321e-02    \n",
      "     11     12p_3/2      -1.01304085e+01    -1.01831942e+01    +5.21061081e-03    \n",
      "     12     13p_3/2      -7.30605067e+00    -8.67347720e+00    +1.87163570e-01    \n",
      "     13     14p_3/2      -5.21148559e+00    -7.47614616e+00    +4.34551823e-01    \n",
      "     14     15p_3/2      -3.70067438e+00    -6.51061853e+00    +7.59305970e-01    \n",
      "     15     16p_3/2      -2.62133518e+00    -5.72071048e+00    +1.18236513e+00    \n",
      "     16     17p_3/2      -1.85413744e+00    -5.06628142e+00    +1.73241956e+00    \n",
      "     17     18p_3/2      -1.31062919e+00    -4.51803545e+00    +2.44722631e+00    \n",
      "     18     19p_3/2      -9.26673726e-01    -4.05418681e+00    +3.37498841e+00    \n",
      "     19     20p_3/2      -6.56344522e-01    -3.65826290e+00    +4.57369305e+00    \n",
      "     20     21p_3/2      -4.67049145e-01    -3.31762199e+00    +6.10336808e+00    \n"
     ]
    },
    {
     "name": "stdout",
     "output_type": "stream",
     "text": [
      "     21     22p_3/2      -3.35754053e-01    -3.02243193e+00    +8.00192242e+00    \n",
      "     22     23p_3/2      -2.45984564e-01    -2.76495290e+00    +1.02403512e+01    \n",
      "     23     24p_3/2      -1.85605113e-01    -2.53902497e+00    +1.26797146e+01    \n",
      "     24     25p_3/2      -1.45572485e-01    -2.33969641e+00    +1.50723807e+01    \n",
      "     25     26p_3/2      -1.19360934e-01    -2.16295006e+00    +1.71210886e+01    \n",
      "     26     27p_3/2      -1.02522843e-01    -2.00549943e+00    +1.85614887e+01    \n",
      "     27     28p_3/2      -9.23659503e-02    -1.86463482e+00    +1.91874696e+01    \n",
      "     28     29p_3/2      +1.22186250e+02    -1.73810597e+00    +1.01422505e+00    \n",
      "     29     30p_3/2      +5.19095923e+02    -1.62403170e+00    +1.00312858e+00    \n",
      "     30     31p_3/2      +1.42318343e+03    -1.52082955e+00    +1.00106861e+00    \n",
      "     31     32p_3/2      +3.26398519e+03    -1.42716062e+00    +1.00043724e+00    \n",
      "     32     33p_3/2      +6.69180615e+03    -1.34188594e+00    +1.00020053e+00    \n",
      "     33     34p_3/2      +1.25741042e+04    -1.26403169e+00    +1.00010053e+00    \n",
      "     34     35p_3/2      +2.19937525e+04    -1.19276128e+00    +1.00005423e+00    \n",
      "     35     36p_3/2      +3.63385791e+04    -1.12735276e+00    +1.00003102e+00    \n",
      "     36     37p_3/2      +5.75051255e+04    -1.06718050e+00    +1.00001856e+00    \n",
      "     37     38p_3/2      +8.81876760e+04    -1.01170016e+00    +1.00001147e+00    \n",
      "     38     39p_3/2      +1.32254275e+05    -9.60436317e-01    +1.00000726e+00    \n",
      "      :       :    \n",
      "     55     56p_3/2      +7.58939535e+07    -4.65557808e-01    +1.00000001e+00    \n",
      "     56     57p_3/2      +1.16004537e+08    -4.49355274e-01    +1.00000000e+00    \n",
      "     57     58p_3/2      +1.84818798e+08    -4.33984075e-01    +1.00000000e+00    \n",
      "     58     59p_3/2      +3.18626713e+08    -4.19388296e-01    +1.00000000e+00    \n",
      "     59     60p_3/2      +6.46963167e+08    -4.05516644e-01    +1.00000000e+00    \n",
      "     60     61p_3/2      +2.01272140e+09    -3.92322000e-01    +1.00000000e+00    \n",
      "  -----------------------------------------------------------------------------\n",
      ">> Use hydrogenic orbital from this symmetry block also for 2p_3/2.\n",
      "(Re-) Define the standard grid with 392 grid points.\n",
      ">>  for various B-spline matrices:\n",
      "\n",
      "Iteration 1 for symmetries ... \n",
      "  1s_1/2::  en [a.u.] = -1.4432488e+03;   self-cons'cy = 2.5690e-02  [1.0000e+02 for sym-block kappa = -1]\n",
      "  2s_1/2::  en [a.u.] = -3.4822468e+02;   self-cons'cy = 4.8565e-02  [1.0000e+02 for sym-block kappa = -1]\n",
      "  2p_1/2::  en [a.u.] = -3.4329190e+02;   self-cons'cy = 5.5699e-02  [1.0000e+02 for sym-block kappa = 1]\n",
      "  2p_3/2::  en [a.u.] = -3.2946463e+02;   self-cons'cy = 5.5397e-02  [1.0000e+02 for sym-block kappa = -2]\n",
      "\n",
      "Iteration 2 for symmetries ... \n",
      "  1s_1/2::  en [a.u.] = -1.4443472e+03;   self-cons'cy = 3.8040e-04  [9.7283e-03 for sym-block kappa = -1]\n",
      "  2s_1/2::  en [a.u.] = -3.4853491e+02;   self-cons'cy = 4.4525e-04  [9.7283e-03 for sym-block kappa = -1]\n",
      "  2p_1/2::  en [a.u.] = -3.4347698e+02;   self-cons'cy = 2.6950e-04  [1.8457e-03 for sym-block kappa = 1]\n",
      "  2p_3/2::  en [a.u.] = -3.2959602e+02;   self-cons'cy = 1.9936e-04  [4.3688e-03 for sym-block kappa = -2]\n",
      "\n",
      "Iteration 3 for symmetries ... \n",
      "  1s_1/2::  en [a.u.] = -1.4443329e+03;   self-cons'cy = 4.9731e-06  [1.0825e-04 for sym-block kappa = -1]\n",
      "  2s_1/2::  en [a.u.] = -3.4853142e+02;   self-cons'cy = 5.0025e-06  [1.0825e-04 for sym-block kappa = -1]\n",
      "  2p_1/2::  en [a.u.] = -3.4347589e+02;   self-cons'cy = 1.5970e-06  [1.1021e-05 for sym-block kappa = 1]\n",
      "  2p_3/2::  en [a.u.] = -3.2959531e+02;   self-cons'cy = 1.0853e-06  [2.3160e-05 for sym-block kappa = -2]\n",
      "\n",
      "Iteration 4 for symmetries ... \n",
      "  1s_1/2::  en [a.u.] = -1.4443330e+03;   self-cons'cy = 6.2207e-08  [1.2021e-06 for sym-block kappa = -1]\n",
      "  2s_1/2::  en [a.u.] = -3.4853146e+02;   self-cons'cy = 5.6023e-08  [1.2021e-06 for sym-block kappa = -1]\n",
      "  2p_1/2::  en [a.u.] = -3.4347589e+02;   self-cons'cy = 8.4225e-09  [5.7912e-08 for sym-block kappa = 1]\n",
      "  2p_3/2::  en [a.u.] = -3.2959531e+02;   self-cons'cy = 5.4576e-09  [1.1628e-07 for sym-block kappa = -2]\n",
      "\n",
      "Iteration 5 for symmetries ... \n",
      "  1s_1/2::  en [a.u.] = -1.4443330e+03;   self-cons'cy = 7.7316e-10  [1.3786e-08 for sym-block kappa = -1]\n",
      "  2s_1/2::  en [a.u.] = -3.4853146e+02;   self-cons'cy = 6.4861e-10  [1.3786e-08 for sym-block kappa = -1]\n",
      "  2p_1/2::  en [a.u.] = -3.4347589e+02;   self-cons'cy = 3.6659e-11  [8.8653e-10 for sym-block kappa = 1]\n",
      "  2p_3/2::  en [a.u.] = -3.2959531e+02;   self-cons'cy = 2.1729e-11  [7.6319e-10 for sym-block kappa = -2]\n",
      "Compute CI matrix of dimension 1 x 1 for the symmetry 2^- ...   ... done.\n",
      "Compute CI matrix of dimension 1 x 1 for the symmetry 0^+ ...   ... done.\n",
      "Compute CI matrix of dimension 2 x 2 for the symmetry 1^- ...   ... done.\n",
      "Compute CI matrix of dimension 1 x 1 for the symmetry 0^- ...   ... done.\n",
      "\n",
      "  Eigenenergies:\n",
      "\n",
      "  Level  J Parity          Hartrees                    eV                   [eV]\n",
      "\n",
      "     1    0 +     -3.716450584560057e+03    -1.011297714807184e+05    -1.011297714807184e+05 \n",
      "     2    0 -     -3.712964317900884e+03    -1.010349053328870e+05    -1.010349053328870e+05 \n",
      "     3    1 -     -3.712050380736417e+03    -1.010100358359066e+05    -1.010100358359066e+05 \n",
      "     4    2 -     -3.699280462234817e+03    -1.006625486541156e+05    -1.006625486541156e+05 \n",
      "     5    1 -     -3.696939463878333e+03    -1.005988468441652e+05    -1.005988468441652e+05 \n",
      "\n",
      "  Energy of each level relative to immediately lower level:\n",
      "\n",
      "  Level  J Parity          Hartrees                    eV                   [eV]\n",
      "\n",
      "     2    0 -     3.486266659172998e+00    9.486614783141221e+01    9.486614783141221e+01 \n",
      "     3    1 -     9.139371644678249e-01    2.486949698035821e+01    2.486949698035821e+01 \n",
      "     4    2 -     1.276991850159948e+01    3.474871817909633e+02    3.474871817909633e+02 \n",
      "     5    1 -     2.340998356484306e+00    6.370180995048002e+01    6.370180995048002e+01 \n",
      "\n",
      "  Energy of each level relative to lowest level:\n",
      "\n",
      "  Level  J Parity          Hartrees                    eV                   [eV]\n",
      "\n",
      "     2    0 -     3.486266659172998e+00    9.486614783141221e+01    9.486614783141221e+01 \n",
      "     3    1 -     4.400203823640823e+00    1.197356448117704e+02    1.197356448117704e+02 \n",
      "     4    2 -     1.717012232524030e+01    4.672228266027338e+02    4.672228266027338e+02 \n",
      "     5    1 -     1.951112068172461e+01    5.309246365532138e+02    5.309246365532138e+02 \n",
      "\n",
      "\u001b[92mCompute an approximate Green function expansion ... \u001b[39m\n",
      "\u001b[92m--------------------------------------------------- \u001b[39m\n",
      ">> From configurations generated shell list Shell[1s, 2s, 2p, 3s, 3p, 3d, 4s, 4p, 4d, 5s, 5p, 5d] \n",
      ">> Generate Configuration: 1s^2 2s^2 \n",
      "..\n",
      ">> Generate Configuration: 1s^1 2s^2 2p^1 \n",
      ">> Generate Configuration: 1s^1 2s^2 3s^1 \n",
      ">> Generate Configuration: 1s^1 2s^2 3p^1 \n",
      ">> Generate Configuration: 1s^1 2s^2 3d^1 \n",
      ">> Generate Configuration: 1s^1 2s^2 4s^1 \n",
      ">> Generate Configuration: 1s^1 2s^2 4p^1 \n",
      ">> Generate Configuration: 1s^1 2s^2 4d^1 \n",
      ">> Generate Configuration: 1s^1 2s^2 5s^1 \n",
      ">> Generate Configuration: 1s^1 2s^2 5p^1 \n",
      ">> Generate Configuration: 1s^1 2s^2 5d^1 \n",
      "..\n",
      ">> Generate Configuration: 1s^2 2s^2 \n",
      ">> Generate Configuration: 1s^2 2s^1 2p^1 \n",
      ">> Generate Configuration: 1s^2 2s^1 3s^1 \n",
      ">> Generate Configuration: 1s^2 2s^1 3p^1 \n",
      ">> Generate Configuration: 1s^2 2s^1 3d^1 \n",
      ">> Generate Configuration: 1s^2 2s^1 4s^1 \n",
      ">> Generate Configuration: 1s^2 2s^1 4p^1 \n",
      ">> Generate Configuration: 1s^2 2s^1 4d^1 \n",
      ">> Generate Configuration: 1s^2 2s^1 5s^1 \n",
      ">> Generate Configuration: 1s^2 2s^1 5p^1 \n",
      ">> Generate Configuration: 1s^2 2s^1 5d^1 \n",
      "..\n",
      ">> Generate Configuration: 1s^2 2s^2 2p^0 \n",
      ">> Generate Configuration: 1s^2 2s^1 2p^1 \n",
      ">> Generate Configuration: 1s^2 2s^1 2p^0 3s^1 \n",
      ">> Generate Configuration: 1s^2 2s^1 2p^0 3p^1 \n",
      ">> Generate Configuration: 1s^2 2s^1 2p^0 3d^1 \n",
      ">> Generate Configuration: 1s^2 2s^1 2p^0 4s^1 \n",
      ">> Generate Configuration: 1s^2 2s^1 2p^0 4p^1 \n",
      ">> Generate Configuration: 1s^2 2s^1 2p^0 4d^1 \n",
      ">> Generate Configuration: 1s^2 2s^1 2p^0 5s^1 \n",
      ">> Generate Configuration: 1s^2 2s^1 2p^0 5p^1 \n",
      ">> Generate Configuration: 1s^2 2s^1 2p^0 5d^1 \n",
      ">> Generate Configuration: 1s^2 2s^1 2p^1 \n",
      ">> Generate Configuration: 1s^1 2s^2 2p^1 \n",
      ">> Generate Configuration: 1s^1 2s^1 2p^2 \n",
      ">> Generate Configuration: 1s^1 2s^1 2p^1 3s^1 \n",
      ">> Generate Configuration: 1s^1 2s^1 2p^1 3p^1 \n",
      ">> Generate Configuration: 1s^1 2s^1 2p^1 3d^1 \n",
      ">> Generate Configuration: 1s^1 2s^1 2p^1 4s^1 \n",
      ">> Generate Configuration: 1s^1 2s^1 2p^1 4p^1 \n",
      ">> Generate Configuration: 1s^1 2s^1 2p^1 4d^1 \n",
      ">> Generate Configuration: 1s^1 2s^1 2p^1 5s^1 \n",
      ">> Generate Configuration: 1s^1 2s^1 2p^1 5p^1 \n",
      ">> Generate Configuration: 1s^1 2s^1 2p^1 5d^1 \n",
      "..\n",
      ">> Generate Configuration: 1s^2 2s^1 2p^1 \n",
      ">> Generate Configuration: 1s^2 2s^0 2p^2 \n",
      ">> Generate Configuration: 1s^2 2s^0 2p^1 3s^1 \n",
      ">> Generate Configuration: 1s^2 2s^0 2p^1 3p^1 \n",
      ">> Generate Configuration: 1s^2 2s^0 2p^1 3d^1 \n",
      ">> Generate Configuration: 1s^2 2s^0 2p^1 4s^1 \n",
      ">> Generate Configuration: 1s^2 2s^0 2p^1 4p^1 \n",
      ">> Generate Configuration: 1s^2 2s^0 2p^1 4d^1 \n",
      ">> Generate Configuration: 1s^2 2s^0 2p^1 5s^1 \n",
      ">> Generate Configuration: 1s^2 2s^0 2p^1 5p^1 \n",
      ">> Generate Configuration: 1s^2 2s^0 2p^1 5d^1 \n",
      ">> Number of generated configurations for JAC.Basics.DeExciteSingleElectron() is: 56 (before) and 41 (after).\n",
      " \n",
      "  Generated list of (non-relativistic) configurations that contribute to the representation:\n",
      "  -------------------------------------------------------------------------------------\n",
      "      (1)   1s^2 2s^2 \n",
      "      (2)   1s^1 2s^2 2p^1 \n",
      "      (3)   1s^1 2s^2 3s^1 \n",
      "      (4)   1s^1 2s^2 3p^1 \n",
      "      (5)   1s^1 2s^2 3d^1 \n",
      "      (6)   1s^1 2s^2 4s^1 \n",
      "      (7)   1s^1 2s^2 4p^1 \n",
      "      (8)   1s^1 2s^2 4d^1 \n",
      "      (9)   1s^1 2s^2 5s^1 \n",
      "     (10)   1s^1 2s^2 5p^1 \n",
      "     (11)   1s^1 2s^2 5d^1 \n",
      "     (12)   1s^2 2s^1 2p^1 \n",
      "     (13)   1s^2 2s^1 3s^1 \n",
      "     (14)   1s^2 2s^1 3p^1 \n",
      "     (15)   1s^2 2s^1 3d^1 \n",
      "     (16)   1s^2 2s^1 4s^1 \n",
      "     (17)   1s^2 2s^1 4p^1 \n",
      "     (18)   1s^2 2s^1 4d^1 \n",
      "     (19)   1s^2 2s^1 5s^1 \n",
      "     (20)   1s^2 2s^1 5p^1 \n",
      "     (21)   1s^2 2s^1 5d^1 \n",
      "     (22)   1s^1 2s^1 2p^2 \n",
      "     (23)   1s^1 2s^1 2p^1 3s^1 \n",
      "     (24)   1s^1 2s^1 2p^1 3p^1 \n",
      "     (25)   1s^1 2s^1 2p^1 3d^1 \n",
      "     (26)   1s^1 2s^1 2p^1 4s^1 \n",
      "     (27)   1s^1 2s^1 2p^1 4p^1 \n",
      "     (28)   1s^1 2s^1 2p^1 4d^1 \n",
      "     (29)   1s^1 2s^1 2p^1 5s^1 \n",
      "     (30)   1s^1 2s^1 2p^1 5p^1 \n",
      "     (31)   1s^1 2s^1 2p^1 5d^1 \n",
      "     (32)   1s^2 2s^0 2p^2 \n",
      "     (33)   1s^2 2s^0 2p^1 3s^1 \n",
      "     (34)   1s^2 2s^0 2p^1 3p^1 \n",
      "     (35)   1s^2 2s^0 2p^1 3d^1 \n",
      "     (36)   1s^2 2s^0 2p^1 4s^1 \n",
      "     (37)   1s^2 2s^0 2p^1 4p^1 \n",
      "     (38)   1s^2 2s^0 2p^1 4d^1 \n",
      "     (39)   1s^2 2s^0 2p^1 5s^1 \n",
      "     (40)   1s^2 2s^0 2p^1 5p^1 \n",
      "     (41)   1s^2 2s^0 2p^1 5d^1 \n",
      "  -------------------------------------------------------------------------------------\n",
      ">> Generated subshell list:  Subshell[1s_1/2, 2s_1/2, 2p_1/2, 2p_3/2, 3s_1/2, 3p_1/2, 3p_3/2, 3d_3/2, 3d_5/2, 4s_1/2, 4p_1/2, 4p_3/2, 4d_3/2, 4d_5/2, 5s_1/2, 5p_1/2, 5p_3/2, 5d_3/2, 5d_5/2] \n"
     ]
    },
    {
     "name": "stdout",
     "output_type": "stream",
     "text": [
      "(Re-) Define a new standard subshell list.\n",
      " \n",
      "  Relativistic orbitals:\n",
      " \n",
      "  --------------------------------------------------------------\n",
      "   Subshell   isBound   energy [a.u.]     energy [eV]   st-grid \n",
      "  --------------------------------------------------------------\n",
      "     1s_1/2    true   -1.07988051e+03   -2.93850455e+04   true\n",
      "     2s_1/2    true   -1.99693285e+02   -5.43393106e+03   true\n",
      "     2p_1/2    true   -1.77711227e+02   -4.83576879e+03   true\n",
      "     2p_3/2    true   -1.71404458e+02   -4.66415288e+03   true\n",
      "     3s_1/2    true   -7.86905078e+01   -2.14127778e+03   true\n",
      "     3p_1/2    true   -7.27080799e+01   -1.97848763e+03   true\n",
      "     3p_3/2    true   -7.10756806e+01   -1.93406778e+03   true\n",
      "     3d_3/2    true   -6.67335829e+01   -1.81591328e+03   true\n",
      "     3d_5/2    true   -6.64348703e+01   -1.80778490e+03   true\n",
      "     4s_1/2    true   -4.19278758e+01   -1.14091561e+03   true\n",
      "     4p_1/2    true   -3.95423160e+01   -1.07600122e+03   true\n",
      "     4p_3/2    true   -3.88934774e+01   -1.05834543e+03   true\n",
      "     4d_3/2    true   -3.71735221e+01   -1.01154306e+03   true\n",
      "     4d_5/2    true   -3.70503663e+01   -1.00819182e+03   true\n",
      "     5s_1/2    true   -2.60648939e+01   -7.09261890e+02   true\n",
      "     5p_1/2    true   -2.48495327e+01   -6.76190227e+02   true\n",
      "     5p_3/2    true   -2.45961888e+01   -6.69296388e+02   true\n",
      "     5d_3/2    true   -2.36679439e+01   -6.44037557e+02   true\n",
      "     5d_5/2    true   -2.38046932e+01   -6.47758695e+02   true\n",
      "  --------------------------------------------------------------\n",
      "(Re-) Define a new standard subshell list.\n",
      "Construct a basis with 70 CSF for J^P = LevelSymmetry[1 +] with 19 subshells: 1s_1/2  2s_1/2 ...  5d_3/2  5d_5/2\n",
      "Compute a Green function multiplet in JAC.AtomicState.SingleCSFwithoutCI() approach ... "
     ]
    },
    {
     "ename": "LoadError",
     "evalue": "type AsfSettings has no field coulombCI",
     "output_type": "error",
     "traceback": [
      "type AsfSettings has no field coulombCI",
      "",
      "Stacktrace:",
      " [1] getproperty(x::AsfSettings, f::Symbol)",
      "   @ Base ./Base.jl:33",
      " [2] computeMultipletForGreenApproach(approach::JAC.AtomicState.SingleCSFwithoutCI, basis::Basis, nModel::Model, grid::JAC.Radial.Grid, asfSettings::AsfSettings, greenSettings::GreenSettings; printout::Bool)",
      "   @ JAC.BasicsAZ ~/fri/JAC.jl/src/module-BascisAZ-inc-compute.jl:454",
      " [3] generate(repType::GreenExpansion, rep::Representation; output::Bool)",
      "   @ JAC.BasicsAZ ~/fri/JAC.jl/src/module-BascisAZ-inc-generate.jl:254",
      " [4] generate(representation::Representation; output::Bool)",
      "   @ JAC.BasicsAZ ~/fri/JAC.jl/src/module-BascisAZ-inc-generate.jl:15",
      " [5] top-level scope",
      "   @ In[14]:1",
      " [6] eval",
      "   @ ./boot.jl:360 [inlined]",
      " [7] include_string(mapexpr::typeof(REPL.softscope), mod::Module, code::String, filename::String)",
      "   @ Base ./loading.jl:1116"
     ]
    }
   ],
   "source": [
    "wb = generate(wa, output=true)"
   ]
  },
  {
   "cell_type": "markdown",
   "metadata": {},
   "source": [
    "As usual, we can access the (list of) Green function channels by:"
   ]
  },
  {
   "cell_type": "code",
   "execution_count": 10,
   "metadata": {
    "scrolled": true
   },
   "outputs": [
    {
     "ename": "LoadError",
     "evalue": "UndefVarError: wb not defined",
     "output_type": "error",
     "traceback": [
      "UndefVarError: wb not defined",
      "",
      "Stacktrace:",
      " [1] top-level scope",
      "   @ In[10]:1",
      " [2] eval",
      "   @ ./boot.jl:360 [inlined]",
      " [3] include_string(mapexpr::typeof(REPL.softscope), mod::Module, code::String, filename::String)",
      "   @ Base ./loading.jl:1116"
     ]
    }
   ],
   "source": [
    "wc = wb[\"Green channels\"]"
   ]
  },
  {
   "cell_type": "markdown",
   "metadata": {},
   "source": [
    "We will use these channels to *estimate* the two-photon E1M1 decay rates. ..."
   ]
  },
  {
   "cell_type": "code",
   "execution_count": null,
   "metadata": {},
   "outputs": [],
   "source": []
  },
  {
   "cell_type": "markdown",
   "metadata": {},
   "source": [
    "# **This nootebook is still under construction !!!**"
   ]
  }
 ],
 "metadata": {
  "@webio": {
   "lastCommId": null,
   "lastKernelId": null
  },
  "kernelspec": {
   "display_name": "Julia 1.6.2",
   "language": "julia",
   "name": "julia-1.6"
  },
  "language_info": {
   "file_extension": ".jl",
   "mimetype": "application/julia",
   "name": "julia",
   "version": "1.6.2"
  }
 },
 "nbformat": 4,
 "nbformat_minor": 4
}
