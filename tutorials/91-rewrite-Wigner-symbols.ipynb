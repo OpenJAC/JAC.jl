{
 "cells": [
  {
   "cell_type": "markdown",
   "metadata": {},
   "source": [
    "# Rewrite the Wigner nj symbols by means of recursions and special values"
   ]
  },
  {
   "cell_type": "code",
   "execution_count": 1,
   "metadata": {},
   "outputs": [],
   "source": [
    "using JAC, SymEngine"
   ]
  },
  {
   "cell_type": "markdown",
   "metadata": {},
   "source": [
    "**Note**: The Julia package `SymEngine` **is needed** in order to symbolically manipulate and simplify Racah algebra expressions in JAC **but, by default, is not automatically loaded**."
   ]
  },
  {
   "cell_type": "markdown",
   "metadata": {},
   "source": [
    "\n",
    "In atomic and quantum many-particle physics, (the coupling of) angular momenta and spherical tensors play a very crucial role for the evaluation and spin-angular integration of many-particle matrix elements. This coupling often leads to algebraic expressions which, more often than not, are written in terms of generalized Clebsch-Gordan coefficients and/or Wigner nj symbols as well as the Wigner rotation matrices and spherical harmonics. Although the evaluation and simplification of such expressions is, at least *in principle*, a rather straigthforward task, it may become (extremely) cumbersome if complex systems or physical scenarios are considered.\n",
    "\n",
    "After the pioneering work by Wigner in the late 1930s, in particular Guilio Racah developed a powerful machinery in the 1940s, known as **Racah algebra (techniques)** today, in order to deal with the angular momenta of (rotationally invariant) quantum many-particle systems. Briefly speaking, this machinery includes a number of strategies to simplify (so-called) **Racah expressions**. In JAC, these expressions are defined by a summation over Wigner nj symbols of different kind(s) as well as (various integrals over) the spherical harmonics and Kronecker and triangular deltas, cf. User Guide, Section 15.1. Here, the summation may formally run over any number of angular momenta and Wigner nj symbols. Since, in the theory of angular momentum, most symbols obey a rather high symmetry, the complexity of such Racah expressions increases very rapidly as more Wigner symbols, rotation matrices *and/or* spherical harmonics appear in the (product) terms over which one needs to sum.\n",
    "\n",
    "There are different strategies, that can be (successively) applied in order to **simplify such Racah expressions algebracially**, i.e. if the angular momenta are not specified numerically. These strategies include:\n",
    "\n",
    "+ Use of known **special values**. This strategy replaces single Wigner nj symbols or spherical harmomic by a (much) simpler expression that, in particular, does not contain any implicit summation. In practice, each Wigner nj symbol can be analysed and perhaps replaced independently by some *special-value rule*, if available and if useful in the given context.\n",
    "+ Use of **orthogonality relations** for the Wigner nj symbols or spherical harmonics.\n",
    "+ Use of known algebraic **sum rules for the Wigner symbols**; in fact, the orthogonality relations can be treated as particular sum rules, and this is done also in JAC.\n",
    "\n",
    "To make use of these strategies, we need a suitable **representation** of the various symbols from the theory of angular momenta as well as for Racah expressions as a whole. Therefore, let us first have a look for the (internal) representation of the Wigner nj symbol `W3j(ja,jb,jc,ma,mb,mc)`:"
   ]
  },
  {
   "cell_type": "code",
   "execution_count": 2,
   "metadata": {},
   "outputs": [
    {
     "name": "stdout",
     "output_type": "stream",
     "text": [
      "search: \u001b[0m\u001b[1mW\u001b[22m\u001b[0m\u001b[1m3\u001b[22m\u001b[0m\u001b[1mj\u001b[22m\n",
      "\n"
     ]
    },
    {
     "data": {
      "text/latex": [
       "\\texttt{struct  RacahAlgebra.W3j}  ... defines a type for a Wigner 3-j symbol with symbolic arguments.\n",
       "\n",
       "\\begin{verbatim}\n",
       "+ ja, jb, jc     ::Basic   ... angular momenta\n",
       "+ ma, mb, mc     ::Basic   ... projections of the angular momenta above\n",
       "\\end{verbatim}\n",
       "\\rule{\\textwidth}{1pt}\n",
       "\\texttt{RacahAlgebra.W3j(ja::AngMomentum, jb::AngMomentum, jc::AngMomentum, ma::AngMomentum, mb::AngMomentum, mc::AngMomentum)}       ... constructor for defining the Wigner 3-j symbol either by Julia Symbol's or SymEngine Basic variables.\n",
       "\n"
      ],
      "text/markdown": [
       "`struct  RacahAlgebra.W3j`  ... defines a type for a Wigner 3-j symbol with symbolic arguments.\n",
       "\n",
       "```\n",
       "+ ja, jb, jc     ::Basic   ... angular momenta\n",
       "+ ma, mb, mc     ::Basic   ... projections of the angular momenta above\n",
       "```\n",
       "\n",
       "---\n",
       "\n",
       "`RacahAlgebra.W3j(ja::AngMomentum, jb::AngMomentum, jc::AngMomentum, ma::AngMomentum, mb::AngMomentum, mc::AngMomentum)`       ... constructor for defining the Wigner 3-j symbol either by Julia Symbol's or SymEngine Basic variables.\n"
      ],
      "text/plain": [
       "  \u001b[36mstruct RacahAlgebra.W3j\u001b[39m ... defines a type for a Wigner 3-j symbol with\n",
       "  symbolic arguments.\n",
       "\n",
       "\u001b[36m  + ja, jb, jc     ::Basic   ... angular momenta\u001b[39m\n",
       "\u001b[36m  + ma, mb, mc     ::Basic   ... projections of the angular momenta above\u001b[39m\n",
       "\n",
       "  ────────────────────────────────────────────────────────────────────────────\n",
       "\n",
       "  \u001b[36mRacahAlgebra.W3j(ja::AngMomentum, jb::AngMomentum, jc::AngMomentum,\n",
       "  ma::AngMomentum, mb::AngMomentum, mc::AngMomentum)\u001b[39m ... constructor for\n",
       "  defining the Wigner 3-j symbol either by Julia Symbol's or SymEngine Basic\n",
       "  variables."
      ]
     },
     "execution_count": 2,
     "metadata": {},
     "output_type": "execute_result"
    }
   ],
   "source": [
    "? W3j"
   ]
  },
  {
   "cell_type": "markdown",
   "metadata": {},
   "source": [
    "which either takes six arguments of type `Basic` (from `SymEngine`) or of the *internal* type `AngMomentum`:"
   ]
  },
  {
   "cell_type": "code",
   "execution_count": 3,
   "metadata": {},
   "outputs": [
    {
     "data": {
      "text/latex": [
       "\\texttt{struct RacahAlgebra.AngMomentum}      ... defines an (abstract) data types for symbolic angular momenta which accept the types          Basic, Symbol, Int64 and Rational\\{Int64\\} and check for being consistent with angular momenta.\n",
       "\n"
      ],
      "text/markdown": [
       "`struct RacahAlgebra.AngMomentum`      ... defines an (abstract) data types for symbolic angular momenta which accept the types          Basic, Symbol, Int64 and Rational{Int64} and check for being consistent with angular momenta.\n"
      ],
      "text/plain": [
       "  \u001b[36mstruct RacahAlgebra.AngMomentum\u001b[39m ... defines an (abstract) data types for\n",
       "  symbolic angular momenta which accept the types Basic, Symbol, Int64 and\n",
       "  Rational{Int64} and check for being consistent with angular momenta."
      ]
     },
     "execution_count": 3,
     "metadata": {},
     "output_type": "execute_result"
    }
   ],
   "source": [
    "? RacahAlgebra.AngMomentum"
   ]
  },
  {
   "cell_type": "markdown",
   "metadata": {},
   "source": [
    "Of course, very similar data types exist also for the Wigner 6j and 9j smybols:"
   ]
  },
  {
   "cell_type": "code",
   "execution_count": 4,
   "metadata": {},
   "outputs": [
    {
     "name": "stdout",
     "output_type": "stream",
     "text": [
      "search: \u001b[0m\u001b[1mW\u001b[22m\u001b[0m\u001b[1m9\u001b[22m\u001b[0m\u001b[1mj\u001b[22m\n",
      "\n"
     ]
    },
    {
     "data": {
      "text/latex": [
       "\\texttt{struct  RacahAlgebra.W9j}  ... defines a type for a Wigner 9j symbol with symbolic arguments.\n",
       "\n",
       "\\begin{verbatim}\n",
       "+ a, b, c, d, e, f, g, h, i     ::Basic   ... angular momenta\n",
       "\\end{verbatim}\n",
       "\\rule{\\textwidth}{1pt}\n",
       "\\texttt{RacahAlgebra.W9j(a::AngMomentum, b::AngMomentum, c::AngMomentum,                    d::AngMomentum, e::AngMomentum, f::AngMomentum,                   g::AngMomentum, h::AngMomentum, i::AngMomentum)}       ... constructor for defining the Wigner 9j symbol either by Julia Symbol's or SymEngine Basic variables.\n",
       "\n"
      ],
      "text/markdown": [
       "`struct  RacahAlgebra.W9j`  ... defines a type for a Wigner 9j symbol with symbolic arguments.\n",
       "\n",
       "```\n",
       "+ a, b, c, d, e, f, g, h, i     ::Basic   ... angular momenta\n",
       "```\n",
       "\n",
       "---\n",
       "\n",
       "`RacahAlgebra.W9j(a::AngMomentum, b::AngMomentum, c::AngMomentum,                    d::AngMomentum, e::AngMomentum, f::AngMomentum,                   g::AngMomentum, h::AngMomentum, i::AngMomentum)`       ... constructor for defining the Wigner 9j symbol either by Julia Symbol's or SymEngine Basic variables.\n"
      ],
      "text/plain": [
       "  \u001b[36mstruct RacahAlgebra.W9j\u001b[39m ... defines a type for a Wigner 9j symbol with\n",
       "  symbolic arguments.\n",
       "\n",
       "\u001b[36m  + a, b, c, d, e, f, g, h, i     ::Basic   ... angular momenta\u001b[39m\n",
       "\n",
       "  ────────────────────────────────────────────────────────────────────────────\n",
       "\n",
       "  \u001b[36mRacahAlgebra.W9j(a::AngMomentum, b::AngMomentum, c::AngMomentum,\n",
       "  d::AngMomentum, e::AngMomentum, f::AngMomentum, g::AngMomentum,\n",
       "  h::AngMomentum, i::AngMomentum)\u001b[39m ... constructor for defining the Wigner 9j\n",
       "  symbol either by Julia Symbol's or SymEngine Basic variables."
      ]
     },
     "execution_count": 4,
     "metadata": {},
     "output_type": "execute_result"
    }
   ],
   "source": [
    "? W9j"
   ]
  },
  {
   "cell_type": "markdown",
   "metadata": {},
   "source": [
    "However, the real **power of Racah's algebra** become apparent only, if products of these Wigner symbols appear in some summation, and if multiple *summations/integrations* can be performed algebraically. To deal with such (product) expressions or a sum of such expressions, JAC defines a (more complex struct) for a `RacahExpression` as a whole:"
   ]
  },
  {
   "cell_type": "code",
   "execution_count": 5,
   "metadata": {},
   "outputs": [
    {
     "name": "stdout",
     "output_type": "stream",
     "text": [
      "search: \u001b[0m\u001b[1mR\u001b[22m\u001b[0m\u001b[1ma\u001b[22m\u001b[0m\u001b[1mc\u001b[22m\u001b[0m\u001b[1ma\u001b[22m\u001b[0m\u001b[1mh\u001b[22m\u001b[0m\u001b[1mE\u001b[22m\u001b[0m\u001b[1mx\u001b[22m\u001b[0m\u001b[1mp\u001b[22m\u001b[0m\u001b[1mr\u001b[22m\u001b[0m\u001b[1me\u001b[22m\u001b[0m\u001b[1ms\u001b[22m\u001b[0m\u001b[1ms\u001b[22m\u001b[0m\u001b[1mi\u001b[22m\u001b[0m\u001b[1mo\u001b[22m\u001b[0m\u001b[1mn\u001b[22m\n",
      "\n"
     ]
    },
    {
     "data": {
      "text/latex": [
       "\\texttt{struct  RacahAlgebra.RacahExpression}  ... defines a type for a RacahExpression with symbolic arguments.\n",
       "\n",
       "\\begin{verbatim}\n",
       "+ summations    ::Array{Basic,1}      ... Summation indices.\n",
       "+ integrals     ::Array{Integral,1}   ... Integrals.\n",
       "+ phase         ::Basic               ... Phase of the Racah expression.\n",
       "+ weight        ::Basic               ... Weight of the Racah expression.\n",
       "+ deltas        ::Array{Kronecker,1}  ... List of Kronecker deltas.\n",
       "+ triangles     ::Array{Triangle,1}   ... List of Triangle deltas.\n",
       "+ w3js          ::Array{W3j,1}        ... List of Wigner 3-j symbols\n",
       "+ w6js          ::Array{W6j,1}        ... List of Wigner 6-j symbols\n",
       "+ w9js          ::Array{W9j,1}        ... List of Wigner 9-j symbols\n",
       "+ ylms          ::Array{Ylm,1}        ... List of spherical harmonics\n",
       "+ djpqs         ::Array{Djpq,1}       ... List of (small) Wigner rotation matrices\n",
       "\\end{verbatim}\n",
       "\\rule{\\textwidth}{1pt}\n",
       "\\texttt{RacahAlgebra.RacahExpression()}       ... constructor for defining an empty RacahExpression.\n",
       "\n",
       "\\rule{\\textwidth}{1pt}\n",
       "\\texttt{RacahAlgebra.RacahExpression(rex::RacahAlgebra.RacahExpression;}\n",
       "\n",
       "\\begin{verbatim}\n",
       "    summations=..,      integrals=..,   phase=..,       weight=..,      deltas=..,     triangles=..,       \n",
       "    w3js=..,            w6js=..,        w9js=..,        ylms=..,       djpqs=..) \n",
       "                \n",
       "... constructor for modifying a given rex::RacahExpression by 'overwriting' the explicitly selected parts of the \n",
       "    expression.\n",
       "\\end{verbatim}\n"
      ],
      "text/markdown": [
       "`struct  RacahAlgebra.RacahExpression`  ... defines a type for a RacahExpression with symbolic arguments.\n",
       "\n",
       "```\n",
       "+ summations    ::Array{Basic,1}      ... Summation indices.\n",
       "+ integrals     ::Array{Integral,1}   ... Integrals.\n",
       "+ phase         ::Basic               ... Phase of the Racah expression.\n",
       "+ weight        ::Basic               ... Weight of the Racah expression.\n",
       "+ deltas        ::Array{Kronecker,1}  ... List of Kronecker deltas.\n",
       "+ triangles     ::Array{Triangle,1}   ... List of Triangle deltas.\n",
       "+ w3js          ::Array{W3j,1}        ... List of Wigner 3-j symbols\n",
       "+ w6js          ::Array{W6j,1}        ... List of Wigner 6-j symbols\n",
       "+ w9js          ::Array{W9j,1}        ... List of Wigner 9-j symbols\n",
       "+ ylms          ::Array{Ylm,1}        ... List of spherical harmonics\n",
       "+ djpqs         ::Array{Djpq,1}       ... List of (small) Wigner rotation matrices\n",
       "```\n",
       "\n",
       "---\n",
       "\n",
       "`RacahAlgebra.RacahExpression()`       ... constructor for defining an empty RacahExpression.\n",
       "\n",
       "---\n",
       "\n",
       "`RacahAlgebra.RacahExpression(rex::RacahAlgebra.RacahExpression;`\n",
       "\n",
       "```\n",
       "    summations=..,      integrals=..,   phase=..,       weight=..,      deltas=..,     triangles=..,       \n",
       "    w3js=..,            w6js=..,        w9js=..,        ylms=..,       djpqs=..) \n",
       "                \n",
       "... constructor for modifying a given rex::RacahExpression by 'overwriting' the explicitly selected parts of the \n",
       "    expression.\n",
       "```\n"
      ],
      "text/plain": [
       "  \u001b[36mstruct RacahAlgebra.RacahExpression\u001b[39m ... defines a type for a RacahExpression\n",
       "  with symbolic arguments.\n",
       "\n",
       "\u001b[36m  + summations    ::Array{Basic,1}      ... Summation indices.\u001b[39m\n",
       "\u001b[36m  + integrals     ::Array{Integral,1}   ... Integrals.\u001b[39m\n",
       "\u001b[36m  + phase         ::Basic               ... Phase of the Racah expression.\u001b[39m\n",
       "\u001b[36m  + weight        ::Basic               ... Weight of the Racah expression.\u001b[39m\n",
       "\u001b[36m  + deltas        ::Array{Kronecker,1}  ... List of Kronecker deltas.\u001b[39m\n",
       "\u001b[36m  + triangles     ::Array{Triangle,1}   ... List of Triangle deltas.\u001b[39m\n",
       "\u001b[36m  + w3js          ::Array{W3j,1}        ... List of Wigner 3-j symbols\u001b[39m\n",
       "\u001b[36m  + w6js          ::Array{W6j,1}        ... List of Wigner 6-j symbols\u001b[39m\n",
       "\u001b[36m  + w9js          ::Array{W9j,1}        ... List of Wigner 9-j symbols\u001b[39m\n",
       "\u001b[36m  + ylms          ::Array{Ylm,1}        ... List of spherical harmonics\u001b[39m\n",
       "\u001b[36m  + djpqs         ::Array{Djpq,1}       ... List of (small) Wigner rotation matrices\u001b[39m\n",
       "\n",
       "  ────────────────────────────────────────────────────────────────────────────\n",
       "\n",
       "  \u001b[36mRacahAlgebra.RacahExpression()\u001b[39m ... constructor for defining an empty\n",
       "  RacahExpression.\n",
       "\n",
       "  ────────────────────────────────────────────────────────────────────────────\n",
       "\n",
       "  \u001b[36mRacahAlgebra.RacahExpression(rex::RacahAlgebra.RacahExpression;\u001b[39m\n",
       "\n",
       "\u001b[36m      summations=..,      integrals=..,   phase=..,       weight=..,      deltas=..,     triangles=..,       \u001b[39m\n",
       "\u001b[36m      w3js=..,            w6js=..,        w9js=..,        ylms=..,       djpqs=..) \u001b[39m\n",
       "\u001b[36m                  \u001b[39m\n",
       "\u001b[36m  ... constructor for modifying a given rex::RacahExpression by 'overwriting' the explicitly selected parts of the \u001b[39m\n",
       "\u001b[36m      expression.\u001b[39m"
      ]
     },
     "execution_count": 5,
     "metadata": {},
     "output_type": "execute_result"
    }
   ],
   "source": [
    "? RacahExpression"
   ]
  },
  {
   "cell_type": "markdown",
   "metadata": {},
   "source": [
    "As already seen from the arguments, such expressions enables one to *comprise* lists (arrays) of Wigner symbols of different types, an overall phase, weight and the formal summation over quantum numbers. Here, we shall postpone the further discussion of these `RacahExpression` but will need them to just handle the output of the recursion relations or the symmetry-representations of the Wigner symbols.\n"
   ]
  },
  {
   "cell_type": "markdown",
   "metadata": {},
   "source": [
    "\n",
    "In order to make use of JAC's extension for simplifying expressions from Racah' algebra, we shall need a number of symbolic variables, whose type `Basic` is derived from `SymEngine` (although not much in-line documentation is provided by this package); in this and the two subsequent tutorials, we shall define all necessary `Basic` variables *nearby* to where we will need them:"
   ]
  },
  {
   "cell_type": "code",
   "execution_count": 6,
   "metadata": {
    "scrolled": true
   },
   "outputs": [
    {
     "name": "stdout",
     "output_type": "stream",
     "text": [
      "search: \u001b[0m\u001b[1mB\u001b[22m\u001b[0m\u001b[1ma\u001b[22m\u001b[0m\u001b[1ms\u001b[22m\u001b[0m\u001b[1mi\u001b[22m\u001b[0m\u001b[1mc\u001b[22m \u001b[0m\u001b[1mB\u001b[22m\u001b[0m\u001b[1ma\u001b[22m\u001b[0m\u001b[1ms\u001b[22m\u001b[0m\u001b[1mi\u001b[22m\u001b[0m\u001b[1mc\u001b[22ms A\u001b[0m\u001b[1mb\u001b[22mstr\u001b[0m\u001b[1ma\u001b[22mctConfigurationRe\u001b[0m\u001b[1ms\u001b[22mtr\u001b[0m\u001b[1mi\u001b[22m\u001b[0m\u001b[1mc\u001b[22mtion \u001b[0m\u001b[1mB\u001b[22m\u001b[0m\u001b[1ma\u001b[22m\u001b[0m\u001b[1ms\u001b[22m\u001b[0m\u001b[1mi\u001b[22ms MeanField\u001b[0m\u001b[1mB\u001b[22m\u001b[0m\u001b[1ma\u001b[22m\u001b[0m\u001b[1ms\u001b[22m\u001b[0m\u001b[1mi\u001b[22ms\n",
      "\n"
     ]
    },
    {
     "data": {
      "text/latex": [
       "No documentation found.\n",
       "\n",
       "\\section{Summary}\n",
       "\\begin{verbatim}\n",
       "mutable struct Basic <: Number\n",
       "\\end{verbatim}\n",
       "\\section{Fields}\n",
       "\\begin{verbatim}\n",
       "ptr :: Ptr{Nothing}\n",
       "\\end{verbatim}\n",
       "\\section{Supertype Hierarchy}\n",
       "\\begin{verbatim}\n",
       "Basic <: Number <: Any\n",
       "\\end{verbatim}\n"
      ],
      "text/markdown": [
       "No documentation found.\n",
       "\n",
       "# Summary\n",
       "\n",
       "```\n",
       "mutable struct Basic <: Number\n",
       "```\n",
       "\n",
       "# Fields\n",
       "\n",
       "```\n",
       "ptr :: Ptr{Nothing}\n",
       "```\n",
       "\n",
       "# Supertype Hierarchy\n",
       "\n",
       "```\n",
       "Basic <: Number <: Any\n",
       "```\n"
      ],
      "text/plain": [
       "  No documentation found.\n",
       "\n",
       "\u001b[1m  Summary\u001b[22m\n",
       "\u001b[1m  ≡≡≡≡≡≡≡≡≡\u001b[22m\n",
       "\n",
       "\u001b[36m  mutable struct Basic <: Number\u001b[39m\n",
       "\n",
       "\u001b[1m  Fields\u001b[22m\n",
       "\u001b[1m  ≡≡≡≡≡≡≡≡\u001b[22m\n",
       "\n",
       "\u001b[36m  ptr :: Ptr{Nothing}\u001b[39m\n",
       "\n",
       "\u001b[1m  Supertype Hierarchy\u001b[22m\n",
       "\u001b[1m  ≡≡≡≡≡≡≡≡≡≡≡≡≡≡≡≡≡≡≡≡≡\u001b[22m\n",
       "\n",
       "\u001b[36m  Basic <: Number <: Any\u001b[39m"
      ]
     },
     "execution_count": 6,
     "metadata": {},
     "output_type": "execute_result"
    }
   ],
   "source": [
    "? Basic"
   ]
  },
  {
   "cell_type": "markdown",
   "metadata": {},
   "source": [
    "We define a number of such (Basic) variables to facilitate our later discussion:"
   ]
  },
  {
   "cell_type": "code",
   "execution_count": 7,
   "metadata": {},
   "outputs": [
    {
     "data": {
      "text/plain": [
       "Basic"
      ]
     },
     "execution_count": 7,
     "metadata": {},
     "output_type": "execute_result"
    }
   ],
   "source": [
    "a  = Basic(:a);     b  = Basic(:b);    c  = Basic(:c);   d  = Basic(:d);     ee  = Basic(:ee);    f  = Basic(:f)\n",
    "X  = Basic(:X);     Y  = Basic(:Y);    Z  = Basic(:Z)  \n",
    "j  = Basic(:j);     m = Basic(:m);     typeof(m)"
   ]
  },
  {
   "cell_type": "markdown",
   "metadata": {},
   "source": [
    "The Wigner nj symbols are known to fullfill certain **recursion relations** which enable one to *step-up* or *step-down* in the quantum numbers. These recursion relations have been applied to make the *underlying physics* more obvious or to compute arrays of Wigner symbols more efficiently. For the Wigner 3j symbols, especially, different recursions are known and are distinguished in JAC by the (abstract) type `RacahAlgebra.AbstractRecursionW3j`:"
   ]
  },
  {
   "cell_type": "code",
   "execution_count": 8,
   "metadata": {},
   "outputs": [
    {
     "data": {
      "text/latex": [
       "\\texttt{abstract type RacahAlgebra.AbstractRecursionW3j}      ... defines an abstract and a number of singleton types for the recursion rules for Wigner 3-j symbols.\n",
       "\n",
       "\\begin{verbatim}\n",
       "+ RecursionW3jMagnetic      ... Recursion wrt. the magnetic quantum numbers.\n",
       "+ RecursionW3jOneStep       ... Recursion with step-1 of the j-quantum numbers.\n",
       "+ RecursionW3jHalfStep      ... Recursion with step-1/2 of the j-quantum numbers.\n",
       "+ RecursionW3jLouck         ... Recursion wrt. j-quantum numbers due to Louck.\n",
       "\\end{verbatim}\n"
      ],
      "text/markdown": [
       "`abstract type RacahAlgebra.AbstractRecursionW3j`      ... defines an abstract and a number of singleton types for the recursion rules for Wigner 3-j symbols.\n",
       "\n",
       "```\n",
       "+ RecursionW3jMagnetic      ... Recursion wrt. the magnetic quantum numbers.\n",
       "+ RecursionW3jOneStep       ... Recursion with step-1 of the j-quantum numbers.\n",
       "+ RecursionW3jHalfStep      ... Recursion with step-1/2 of the j-quantum numbers.\n",
       "+ RecursionW3jLouck         ... Recursion wrt. j-quantum numbers due to Louck.\n",
       "```\n"
      ],
      "text/plain": [
       "  \u001b[36mabstract type RacahAlgebra.AbstractRecursionW3j\u001b[39m ... defines an abstract and\n",
       "  a number of singleton types for the recursion rules for Wigner 3-j symbols.\n",
       "\n",
       "\u001b[36m  + RecursionW3jMagnetic      ... Recursion wrt. the magnetic quantum numbers.\u001b[39m\n",
       "\u001b[36m  + RecursionW3jOneStep       ... Recursion with step-1 of the j-quantum numbers.\u001b[39m\n",
       "\u001b[36m  + RecursionW3jHalfStep      ... Recursion with step-1/2 of the j-quantum numbers.\u001b[39m\n",
       "\u001b[36m  + RecursionW3jLouck         ... Recursion wrt. j-quantum numbers due to Louck.\u001b[39m"
      ]
     },
     "execution_count": 8,
     "metadata": {},
     "output_type": "execute_result"
    }
   ],
   "source": [
    "? RacahAlgebra.AbstractRecursionW3j"
   ]
  },
  {
   "cell_type": "markdown",
   "metadata": {},
   "source": [
    "We can apply these recusions to any given Wigner 3j symbol:"
   ]
  },
  {
   "cell_type": "code",
   "execution_count": 9,
   "metadata": {},
   "outputs": [
    {
     "data": {
      "text/plain": [
       "W3j(ja, jb, jc; ma, mb, mc)"
      ]
     },
     "execution_count": 9,
     "metadata": {},
     "output_type": "execute_result"
    }
   ],
   "source": [
    "ja  = Basic(:ja);    jb = Basic(:jb);    jc = Basic(:jc);    ma = Basic(:ma);    mb = Basic(:mb);    mc = Basic(:mc)\n",
    "w3j = W3j(ja, jb, jc, ma, mb, mc)"
   ]
  },
  {
   "cell_type": "markdown",
   "metadata": {},
   "source": [
    "by just typing:"
   ]
  },
  {
   "cell_type": "code",
   "execution_count": 10,
   "metadata": {},
   "outputs": [
    {
     "data": {
      "text/plain": [
       "2-element Vector{RacahExpression}:\n",
       " (-sqrt((ja - ma)*(1 + ja + ma))/sqrt((1 + jc + ma + mb)*(jc - ma - mb)))  W3j(ja, jb, jc; ma, 1 + mb, -1 + mc)  \n",
       " (-sqrt((1 + jb + mb)*(jb - mb))/sqrt((1 + jc + ma + mb)*(jc - ma - mb)))  W3j(ja, jb, jc; 1 + ma, mb, -1 + mc)  "
      ]
     },
     "execution_count": 10,
     "metadata": {},
     "output_type": "execute_result"
    }
   ],
   "source": [
    "RacahAlgebra.recursionW3j(w3j, RacahAlgebra.RecursionW3jMagnetic())"
   ]
  },
  {
   "cell_type": "markdown",
   "metadata": {},
   "source": [
    "In general, all recursion relations give rise to an array of `RacahExpression`s, though without any additional summation or other Wigner symbols; of course, we can apply any other recursion as well:"
   ]
  },
  {
   "cell_type": "code",
   "execution_count": 11,
   "metadata": {},
   "outputs": [
    {
     "data": {
      "text/plain": [
       "3-element Vector{RacahExpression}:\n",
       " (sqrt((jc + mc)*(-1 + jc + mc)*(1 + jb + mb)*(jb - mb))/sqrt((1 + ja + jb - jc)*(ja - jb + jc)*(-ja + jb + jc)*(1 + ja + jb + jc)))  W3j(ja, jb, -1 + jc; ma, 1 + mb, -1 + mc)  \n",
       " (2*jb*sqrt((jc + mc)*(jc - mc))/sqrt((1 + ja + jb - jc)*(ja - jb + jc)*(-ja + jb + jc)*(1 + ja + jb + jc)))  W3j(ja, jb, -1 + jc; ma, mb, mc)  \n",
       " (-sqrt((jc - mc)*(-1 + jc - mc)*(1 + jb - mb)*(jb + mb))/sqrt((1 + ja + jb - jc)*(ja - jb + jc)*(-ja + jb + jc)*(1 + ja + jb + jc)))  W3j(ja, jb, -1 + jc; ma, -1 + mb, 1 + mc)  "
      ]
     },
     "execution_count": 11,
     "metadata": {},
     "output_type": "execute_result"
    }
   ],
   "source": [
    "RacahAlgebra.recursionW3j(w3j, RacahAlgebra.RecursionW3jOneStep())"
   ]
  },
  {
   "cell_type": "code",
   "execution_count": 12,
   "metadata": {},
   "outputs": [
    {
     "data": {
      "text/plain": [
       "2-element Vector{RacahExpression}:\n",
       " (-sqrt((jc + mc)*(-ja + jb + jc)*(1 + ja + jb + jc))/(sqrt(jb + mb)*(1 + 2*jc)))  W3j(ja, -1/2 + jb, -1/2 + jc; mb - mc, 1/2 - mb, -1/2 + mc)  \n",
       " (-sqrt((1 + jc - mc)*(1 + ja - jb + jc)*(ja + jb - jc)*(1 + ja + jb + jc))/(sqrt(jb + mb)*(1 + 2*jc)))  W3j(ja, -1/2 + jb, 1/2 + jc; mb - mc, 1/2 - mb, -1/2 + mc)  "
      ]
     },
     "execution_count": 12,
     "metadata": {},
     "output_type": "execute_result"
    }
   ],
   "source": [
    "RacahAlgebra.recursionW3j(w3j, RacahAlgebra.RecursionW3jLouck())"
   ]
  },
  {
   "cell_type": "markdown",
   "metadata": {},
   "source": [
    "If not all angular momenta (quantum numbers) of a given Wigner nj symbol are independent of each other (but defined by some *fixed* relation, for instance, $b = a + 1$), one often attempts to re-write the Wigner symbol in terms of some **special value**. In depends on the particular application of how useful such a (formal) simplification is in practice. In JAC, the *search for such special values* is facilitated by calling `RacahAlgebra.evaluate()`:"
   ]
  },
  {
   "cell_type": "code",
   "execution_count": 13,
   "metadata": {},
   "outputs": [
    {
     "data": {
      "text/plain": [
       "W3j(3/2 + j, j, 3/2; m, -3/2 - m, 3/2)"
      ]
     },
     "execution_count": 13,
     "metadata": {},
     "output_type": "execute_result"
    }
   ],
   "source": [
    "w3j = W3j(j+3//2, j, 3//2, m, -m-3//2, 3//2)"
   ]
  },
  {
   "cell_type": "code",
   "execution_count": 14,
   "metadata": {},
   "outputs": [
    {
     "name": "stdout",
     "output_type": "stream",
     "text": [
      ">> Special value found for  W3j(3/2 + j, j, 3/2; m, -3/2 - m, 3/2) = (-1)^(1/2 + j - m)  (sqrt((-3/2 + j - m)*(1/2 + j - m)*(-1/2 + j - m)/((1 + 2*j)*(2 + 2*j)*(3 + 2*j)*(4 + 2*j))))  .\n"
     ]
    },
    {
     "data": {
      "text/plain": [
       "(-1)^(1/2 + j - m)  (sqrt((-3/2 + j - m)*(1/2 + j - m)*(-1/2 + j - m)/((1 + 2*j)*(2 + 2*j)*(3 + 2*j)*(4 + 2*j))))  "
      ]
     },
     "execution_count": 14,
     "metadata": {},
     "output_type": "execute_result"
    }
   ],
   "source": [
    "wa = RacahAlgebra.evaluate(w3j)"
   ]
  },
  {
   "cell_type": "markdown",
   "metadata": {},
   "source": [
    "The last step appears to be quite simple, as the special value of `W3j(3/2 + j, j, 3/2; m, -3/2 - m, 3/2)` can be found in many texts. Owing to the symmetry of the Wigner nj symbols, however, these *special values* are not always simple to recognize. We here note that the Wigner 3j symbols have 12 classical **equivalent forms (symmetries)**, the Wigner 6j symbols already 24, and the Wigner 9j symbols even 72 equivalent representations (symmetries), and without that their value would change if the proper phase is taken into account. These numbers of equivalent representation (symmetries) numbers do not yet account for the **Regge symmetries**, in which the quantum numbers may change by $\\pm 1/2$. --- We can easily re-write all Wigner symbols by just choosing *randomly* any of the symmetric form (including the proper phase) and, then, try to simplify it again:"
   ]
  },
  {
   "cell_type": "code",
   "execution_count": 15,
   "metadata": {},
   "outputs": [
    {
     "name": "stdout",
     "output_type": "stream",
     "text": [
      ">> Select 10th equivalent form for W3j(3/2 + j, j, 3/2; m, -3/2 - m, 3/2)    ==>   W3j(j, 3/2 + j, 3/2; -(-3/2 - m), -m, -3/2)  \n",
      ">> Special value found for  W3j(j, 3/2 + j, 3/2; -(-3/2 - m), -m, -3/2) = (-1)^(1/2 + j - m)  (sqrt((-3/2 + j - m)*(1/2 + j - m)*(-1/2 + j - m)/((1 + 2*j)*(2 + 2*j)*(3 + 2*j)*(4 + 2*j))))  .\n"
     ]
    },
    {
     "data": {
      "text/plain": [
       "(-1)^(1/2 + j - m)  (sqrt((-3/2 + j - m)*(1/2 + j - m)*(-1/2 + j - m)/((1 + 2*j)*(2 + 2*j)*(3 + 2*j)*(4 + 2*j))))  "
      ]
     },
     "execution_count": 15,
     "metadata": {},
     "output_type": "execute_result"
    }
   ],
   "source": [
    "rex = RacahAlgebra.equivalentForm(w3j)\n",
    "RacahAlgebra.evaluate(rex, special=true)"
   ]
  },
  {
   "cell_type": "markdown",
   "metadata": {},
   "source": [
    "In contrast to the literature, where the special values are typically shown for one standard form of the Wigner symbols (as, for instance, in the initial definition above), JAC also finds the special value for all equivalent forms as it *internally cycles through all symmetries*, and by keeping the corresponding phase and weight factors (cf. later) into account. The result of such an evaluation is always a `RacahExpression`, though it is printed in a -- more or less -- neat format.\n",
    "\n",
    "Apart from the classical symmetries, (so-called) **Regge symmetries** are known for the Wigner 3-j and 6-j symbols and could be readily implemented into JAC, if necessary. In practice, various special values of the Wigner nj symbols are recognized also by *Mathematica* and, perhaps, by a few other computer-algebra systems. We include them here for the sake of convinience, while the **main emphasis is clearly placed upon the sum rule evaluation, a very special and convenient feature of JAC**."
   ]
  },
  {
   "cell_type": "markdown",
   "metadata": {},
   "source": [
    "A few other examples for *special values* of the Wigner 3j, 6j and 9j symbols are:"
   ]
  },
  {
   "cell_type": "code",
   "execution_count": 16,
   "metadata": {},
   "outputs": [
    {
     "name": "stdout",
     "output_type": "stream",
     "text": [
      ">> Special value found for  W3j(j, j, 0; m, -m, 0) = (-1)^(j - m)  ((1 + 2*j)^(-1/2))  .\n"
     ]
    },
    {
     "data": {
      "text/plain": [
       "(-1)^(j - m)  ((1 + 2*j)^(-1/2))  "
      ]
     },
     "execution_count": 16,
     "metadata": {},
     "output_type": "execute_result"
    }
   ],
   "source": [
    "w3j = W3j(j, j, 0, m, -m, 0)\n",
    "RacahAlgebra.evaluate(w3j)"
   ]
  },
  {
   "cell_type": "code",
   "execution_count": 17,
   "metadata": {},
   "outputs": [
    {
     "name": "stdout",
     "output_type": "stream",
     "text": [
      ">> Special value found for  W3j(ja, jb, jc; 0, 0, 0) = (-1)^((1/2)*(ja + jb + jc))  (gamma(1 + (1/2)*(ja + jb + jc))*sqrt(gamma(1 + ja - jb + jc)^2*gamma(1 - ja + jb + jc)/gamma(2 + ja + jb + jc))/(gamma(1 - jc + (1/2)*(ja + jb + jc))*gamma(1 - jb + (1/2)*(ja + jb + jc))*gamma(1 - ja + (1/2)*(ja + jb + jc))))  delta(ja + jb + jc, even)  .\n"
     ]
    },
    {
     "data": {
      "text/plain": [
       "(-1)^((1/2)*(ja + jb + jc))  (gamma(1 + (1/2)*(ja + jb + jc))*sqrt(gamma(1 + ja - jb + jc)^2*gamma(1 - ja + jb + jc)/gamma(2 + ja + jb + jc))/(gamma(1 - jc + (1/2)*(ja + jb + jc))*gamma(1 - jb + (1/2)*(ja + jb + jc))*gamma(1 - ja + (1/2)*(ja + jb + jc))))  delta(ja + jb + jc, even)  "
      ]
     },
     "execution_count": 17,
     "metadata": {},
     "output_type": "execute_result"
    }
   ],
   "source": [
    "w3j = W3j(ja, jb, jc, 0, 0, 0)\n",
    "RacahAlgebra.evaluate(w3j)"
   ]
  },
  {
   "cell_type": "code",
   "execution_count": 18,
   "metadata": {},
   "outputs": [
    {
     "name": "stdout",
     "output_type": "stream",
     "text": [
      ">> Special value found for  W6j{a, b, c; 3/2, -1/2 + c, 1/2 + b} = (-1)^(a + b + c)  ((1/2)*((-1 + a - b + c)*(a + b - c) - 2*(2 + a + b + c)*(-a + b + c))*sqrt((a - b + c)*(1 + a + b - c)/(b*c*(1 + 2*b)*(2 + 2*b)*(3 + 2*b)*(1 + 2*c)*(2 + 2*c)*(-1 + 2*c))))  .\n"
     ]
    },
    {
     "data": {
      "text/plain": [
       "(-1)^(a + b + c)  ((1/2)*((-1 + a - b + c)*(a + b - c) - 2*(2 + a + b + c)*(-a + b + c))*sqrt((a - b + c)*(1 + a + b - c)/(b*c*(1 + 2*b)*(2 + 2*b)*(3 + 2*b)*(1 + 2*c)*(2 + 2*c)*(-1 + 2*c))))  "
      ]
     },
     "execution_count": 18,
     "metadata": {},
     "output_type": "execute_result"
    }
   ],
   "source": [
    "w6j = W6j( a, b, c, 3//2, c-1//2, b+1//2)\n",
    "RacahAlgebra.evaluate(w6j)"
   ]
  },
  {
   "cell_type": "code",
   "execution_count": 19,
   "metadata": {},
   "outputs": [
    {
     "name": "stdout",
     "output_type": "stream",
     "text": [
      ">> Special value found for  W6j{a, b, c; 2, -2 + c, 2 + b} = (-1)^(a + b + c)  ((1/2)*sqrt(2)*sqrt((-3 + a - b + c)*(-2 + a - b + c)*(-1 + a - b + c)*(a - b + c)*(3 + a + b - c)*(4 + a + b - c)*(1 + a + b - c)*(2 + a + b - c)/(c*(1 + 2*b)*(2 + 2*b)*(5 + 2*b)*(3 + 2*b)*(4 + 2*b)*(1 + 2*c)*(-1 + 2*c)*(-3 + 2*c)*(-2 + 2*c))))  .\n"
     ]
    },
    {
     "data": {
      "text/plain": [
       "(-1)^(a + b + c)  ((1/2)*sqrt(2)*sqrt((-3 + a - b + c)*(-2 + a - b + c)*(-1 + a - b + c)*(a - b + c)*(3 + a + b - c)*(4 + a + b - c)*(1 + a + b - c)*(2 + a + b - c)/(c*(1 + 2*b)*(2 + 2*b)*(5 + 2*b)*(3 + 2*b)*(4 + 2*b)*(1 + 2*c)*(-1 + 2*c)*(-3 + 2*c)*(-2 + 2*c))))  "
      ]
     },
     "execution_count": 19,
     "metadata": {},
     "output_type": "execute_result"
    }
   ],
   "source": [
    "w6j = W6j( a, b, c, 2, c-2, b+2)\n",
    "RacahAlgebra.evaluate(w6j)"
   ]
  },
  {
   "cell_type": "markdown",
   "metadata": {},
   "source": [
    "Alternatively, we may call this evaluation as part of a `RacahExpression` as in the following example:"
   ]
  },
  {
   "cell_type": "code",
   "execution_count": 20,
   "metadata": {},
   "outputs": [
    {
     "name": "stdout",
     "output_type": "stream",
     "text": [
      ">> Select 15th equivalent form for W6j{a, b, c; 2, -2 + c, -2 + b}    ==>   W6j{-2 + c, 2, c; b, a, -2 + b}  \n",
      ">> Special value found for  W6j{-2 + c, 2, c; b, a, -2 + b} = (-1)^(a + b + c)  ((1/2)*sqrt((-1 + a + b + c)*(a + b + c)*(-2 + a + b + c)*(-3 - a + b + c)*(-2 - a + b + c)*(-1 - a + b + c)*(-a + b + c)/(b*c*(-3 + 2*b)*(-2 + 2*b)*(1 + 2*b)*(-1 + 2*b)*(1 + 2*c)*(-1 + 2*c)*(-3 + 2*c)*(-2 + 2*c))))  .\n"
     ]
    },
    {
     "data": {
      "text/plain": [
       "(-1)^(a + b + c)  ((1/2)*sqrt((-1 + a + b + c)*(a + b + c)*(-2 + a + b + c)*(-3 - a + b + c)*(-2 - a + b + c)*(-1 - a + b + c)*(-a + b + c)/(b*c*(-3 + 2*b)*(-2 + 2*b)*(1 + 2*b)*(-1 + 2*b)*(1 + 2*c)*(-1 + 2*c)*(-3 + 2*c)*(-2 + 2*c))))  "
      ]
     },
     "execution_count": 20,
     "metadata": {},
     "output_type": "execute_result"
    }
   ],
   "source": [
    "w6j = W6j( a, b, c, 2, c-2, b-2)\n",
    "rex = RacahAlgebra.equivalentForm(w6j)\n",
    "RacahAlgebra.evaluate(rex, special=true)"
   ]
  },
  {
   "cell_type": "code",
   "execution_count": 21,
   "metadata": {},
   "outputs": [
    {
     "name": "stdout",
     "output_type": "stream",
     "text": [
      ">> Special value found for  W9j{a, b, c; d, ee, f; g, h, 0} = (-1)^(b + c + ee + f)  (((1 + 2*c)*(1 + 2*g))^(-1/2))  W6j{a, b, c; ee, d, g}  .\n"
     ]
    },
    {
     "data": {
      "text/plain": [
       "(-1)^(b + c + ee + f)  (((1 + 2*c)*(1 + 2*g))^(-1/2))  W6j{a, b, c; ee, d, g}  "
      ]
     },
     "execution_count": 21,
     "metadata": {},
     "output_type": "execute_result"
    }
   ],
   "source": [
    "g   = Basic(:g);  h = Basic(:h)\n",
    "w9j = W9j(a, b, c, d, ee, f, g, h, 0)\n",
    "RacahAlgebra.evaluate(w9j)"
   ]
  },
  {
   "cell_type": "markdown",
   "metadata": {},
   "source": [
    "The last example show that a Wigner 9j symbol always simplifies to a 6j symbol if one of the quantum numbers is 0. In the next tutorial we shall demonstrate how **sum rules** can be applied to more complex `RacahExpression`, the real power of *Racah's algebra*."
   ]
  },
  {
   "cell_type": "code",
   "execution_count": null,
   "metadata": {},
   "outputs": [],
   "source": []
  }
 ],
 "metadata": {
  "@webio": {
   "lastCommId": null,
   "lastKernelId": null
  },
  "kernelspec": {
   "display_name": "Julia 1.6.2",
   "language": "julia",
   "name": "julia-1.6"
  },
  "language_info": {
   "file_extension": ".jl",
   "mimetype": "application/julia",
   "name": "julia",
   "version": "1.6.2"
  }
 },
 "nbformat": 4,
 "nbformat_minor": 4
}
