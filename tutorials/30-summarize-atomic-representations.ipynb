{
 "cells": [
  {
   "cell_type": "markdown",
   "metadata": {},
   "source": [
    "# Computation of atomic representations with JAC\n",
    "\n",
    "The following tutorials show how JAC help compute different atomic representations of atomic state and wave functions."
   ]
  },
  {
   "cell_type": "markdown",
   "metadata": {},
   "source": [
    "##  31-generate-mean-field+ci-expansion.ipynb\n",
    "### **Generate a mean-field (orbital) and CI representation for the oxygen ground configuration**\n",
    "In JAC, we distinguish between different **representations of atomic wave (and Green) functions** in order to facilitate the access to the different methods from (atomic) *ab-initio* theory. This includes a set of self-consistent orbitals as perhaps the most basic *representation* of atomic levels and multiplets. --- In this tutorial, we show how one can easily generate a mean-field (orbital) representation as well as a CI representation, making use of these orbitals. We shall consider the levels of the $1s^2 2s^2 2p^4$ ground configuration of oxygen as a simple but typical example and shall later extent this concept to perform a CI expansion with (virtual) excitations into the $n=3$ shells."
   ]
  },
  {
   "cell_type": "markdown",
   "metadata": {},
   "source": [
    "##  32-generate-RAS-expansion-Be-ground-level.ipynb\n",
    "### **Three-step RAS expansion for the $1s^2 2s^2\\: ^1S_0$ and $1s^2 2s2p\\: ^{1,3}P_1$ levels of neutral beryllium**\n",
    "In JAC, an restricted-active space (RAS) expansion is to a particular (atomic) representation and, more generally, refers to systematically enlarged SCF computations that are performed stepwise in order to include additional layers of active orbitals. RAS computations are based on one several *reference configurations*, a well-defined *level symmetry* for all CSF bases under consideration as well as on virtual single- (S), double- (D), triple-excitations (T), etc. of electrons from valence orbitals $\\to$ valence+virtual orbitals from the (so-called) *active* set. --- In this tutorial, we explain how a three-step RAS expansion for the $1s^2 2s^2\\: ^1S_0$ ground level of neutral beryllium as well as for its two lowest-excited $1s^2 2s2p\\: ^{1,3}P_1$ levels can be readily generated."
   ]
  },
  {
   "cell_type": "markdown",
   "metadata": {},
   "source": [
    "##  34-generate-Green-expansion+2photon-rates.ipynb\n",
    "### **Green (function) expansions**\n",
    "Green functions are primarely used in mathematical physics to represent solutions of inhomogeneous boundary-value problems as they frequently occur, for instance, in scattering theory. In JAC, approximate (many-electron) Green functions are typically applied in order to sum over some -- more or less complete -- spectrum and, hence, to compute second- and higher-order processes. In JAC, moreover, a Green function representation refers to just one or a few multiplets of different (level) symmetries $J_1,\\: J_2,\\: ....$, i.e. lists of  many-electron levels with up to $n^{(max)}$ electrons within the continuum. "
   ]
  },
  {
   "cell_type": "code",
   "execution_count": null,
   "metadata": {},
   "outputs": [],
   "source": []
  }
 ],
 "metadata": {
  "@webio": {
   "lastCommId": null,
   "lastKernelId": null
  },
  "kernelspec": {
   "display_name": "Julia 1.6.2",
   "language": "julia",
   "name": "julia-1.6"
  },
  "language_info": {
   "file_extension": ".jl",
   "mimetype": "application/julia",
   "name": "julia",
   "version": "1.6.2"
  }
 },
 "nbformat": 4,
 "nbformat_minor": 4
}
