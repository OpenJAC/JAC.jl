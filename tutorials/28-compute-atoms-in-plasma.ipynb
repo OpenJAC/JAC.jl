{
 "cells": [
  {
   "cell_type": "markdown",
   "metadata": {},
   "source": [
    "# Compute the level shifts of helium-like iron ions in a Debye-Hückel (plasma) potential: $Fe^{24+}\\quad 1s^2 + 1s2s + 1s2p$"
   ]
  },
  {
   "cell_type": "code",
   "execution_count": 1,
   "metadata": {},
   "outputs": [],
   "source": [
    "using JAC"
   ]
  },
  {
   "cell_type": "markdown",
   "metadata": {},
   "source": [
    "\n",
    "We shall consider iron ions in a Debye-Hückel potential and explore the level shift for different\n",
    "(plasma) coupling parameters $\\lambda$. In JAC, these level shifts are currently supported *perturbatively* by including the plasma screening in the electron-nucleus and electron-electron interaction into the CI matrix.\n",
    "\n",
    "Different **plasma models** are distinghuised as subtypes of some `AbstractPlasmaModel` and due to parameters that need to be specified by the settings:"
   ]
  },
  {
   "cell_type": "code",
   "execution_count": 2,
   "metadata": {},
   "outputs": [
    {
     "data": {
      "text/latex": [
       "\\texttt{abstract type PlasmaShift.AbstractPlasmaModel}      ... defines an abstract and a number of singleton types for the the (allowed) plasma models.\n",
       "\n",
       "\\begin{verbatim}\n",
       "+ NoPlasmaModel      ... No plasma model defined.\n",
       "+ DebyeHueckel       ... Debye-Hueckel plasma model.\n",
       "+ IonSphere          ... Ion-sphere (not yet supported).\n",
       "\\end{verbatim}\n"
      ],
      "text/markdown": [
       "`abstract type PlasmaShift.AbstractPlasmaModel`      ... defines an abstract and a number of singleton types for the the (allowed) plasma models.\n",
       "\n",
       "```\n",
       "+ NoPlasmaModel      ... No plasma model defined.\n",
       "+ DebyeHueckel       ... Debye-Hueckel plasma model.\n",
       "+ IonSphere          ... Ion-sphere (not yet supported).\n",
       "```\n"
      ],
      "text/plain": [
       "  \u001b[36mabstract type PlasmaShift.AbstractPlasmaModel\u001b[39m ... defines an abstract and a\n",
       "  number of singleton types for the the (allowed) plasma models.\n",
       "\n",
       "\u001b[36m  + NoPlasmaModel      ... No plasma model defined.\u001b[39m\n",
       "\u001b[36m  + DebyeHueckel       ... Debye-Hueckel plasma model.\u001b[39m\n",
       "\u001b[36m  + IonSphere          ... Ion-sphere (not yet supported).\u001b[39m"
      ]
     },
     "execution_count": 2,
     "metadata": {},
     "output_type": "execute_result"
    }
   ],
   "source": [
    "? PlasmaShift.AbstractPlasmaModel"
   ]
  },
  {
   "cell_type": "code",
   "execution_count": 3,
   "metadata": {},
   "outputs": [
    {
     "data": {
      "text/latex": [
       "\\texttt{struct  PlasmaShift.Settings  <:  AbstractPropertySettings}  ... defines a type for the details and parameters of computing level energies with plasma interactions.\n",
       "\n",
       "\\begin{verbatim}\n",
       "+ plasmaModel      ::AbstractPlasmaModel        ... Specify a particular plasma model, e.g. ion-sphere, debye.\n",
       "+ lambdaDebye      ::Float64                    ... The lambda parameter of different plasma models.\n",
       "+ ionSphereR0      ::Float64                    ... The effective radius of the ion-sphere model.\n",
       "+ NoBoundElectrons ::Int64                      ... Effective number of bound electrons.\n",
       "\\end{verbatim}\n",
       "\\rule{\\textwidth}{1pt}\n",
       "\\texttt{PlasmaShift.Settings()}  ... constructor for a standard instance of PlasmaShift.Settings.\n",
       "\n"
      ],
      "text/markdown": [
       "`struct  PlasmaShift.Settings  <:  AbstractPropertySettings`  ... defines a type for the details and parameters of computing level energies with plasma interactions.\n",
       "\n",
       "```\n",
       "+ plasmaModel      ::AbstractPlasmaModel        ... Specify a particular plasma model, e.g. ion-sphere, debye.\n",
       "+ lambdaDebye      ::Float64                    ... The lambda parameter of different plasma models.\n",
       "+ ionSphereR0      ::Float64                    ... The effective radius of the ion-sphere model.\n",
       "+ NoBoundElectrons ::Int64                      ... Effective number of bound electrons.\n",
       "```\n",
       "\n",
       "---\n",
       "\n",
       "`PlasmaShift.Settings()`  ... constructor for a standard instance of PlasmaShift.Settings.\n"
      ],
      "text/plain": [
       "  \u001b[36mstruct PlasmaShift.Settings <: AbstractPropertySettings\u001b[39m ... defines a type\n",
       "  for the details and parameters of computing level energies with plasma\n",
       "  interactions.\n",
       "\n",
       "\u001b[36m  + plasmaModel      ::AbstractPlasmaModel        ... Specify a particular plasma model, e.g. ion-sphere, debye.\u001b[39m\n",
       "\u001b[36m  + lambdaDebye      ::Float64                    ... The lambda parameter of different plasma models.\u001b[39m\n",
       "\u001b[36m  + ionSphereR0      ::Float64                    ... The effective radius of the ion-sphere model.\u001b[39m\n",
       "\u001b[36m  + NoBoundElectrons ::Int64                      ... Effective number of bound electrons.\u001b[39m\n",
       "\n",
       "  ────────────────────────────────────────────────────────────────────────────\n",
       "\n",
       "  \u001b[36mPlasmaShift.Settings()\u001b[39m ... constructor for a standard instance of\n",
       "  PlasmaShift.Settings."
      ]
     },
     "execution_count": 3,
     "metadata": {},
     "output_type": "execute_result"
    }
   ],
   "source": [
    "? PlasmaShift.Settings"
   ]
  },
  {
   "cell_type": "markdown",
   "metadata": {},
   "source": [
    "\n",
    "For a Debye-Hückel potential, only the screening parameter `lambdaDebye` is relevant and need to be defined if not the defaults values are to be taken:\n"
   ]
  },
  {
   "cell_type": "code",
   "execution_count": 4,
   "metadata": {},
   "outputs": [
    {
     "data": {
      "text/plain": [
       "plasmaModel:            Debye-Hueckel model  \n",
       "lambdaDebye:            0.25  \n",
       "ionSphereR0:            0.0  \n",
       "NoBoundElectrons:       0  \n"
      ]
     },
     "execution_count": 4,
     "metadata": {},
     "output_type": "execute_result"
    }
   ],
   "source": [
    "PlasmaShift.Settings()          # show defaults values"
   ]
  },
  {
   "cell_type": "code",
   "execution_count": 5,
   "metadata": {},
   "outputs": [
    {
     "data": {
      "text/plain": [
       "plasmaModel:            Debye-Hueckel model  \n",
       "lambdaDebye:            0.2  \n",
       "ionSphereR0:            0.0  \n",
       "NoBoundElectrons:       0  \n"
      ]
     },
     "execution_count": 5,
     "metadata": {},
     "output_type": "execute_result"
    }
   ],
   "source": [
    "pSettings = PlasmaShift.Settings(PlasmaShift.DebyeHueckel(), 0.2, 0.0, 0)"
   ]
  },
  {
   "cell_type": "markdown",
   "metadata": {},
   "source": [
    "\n",
    "The computation of level shifts follow standard line by defining and running an `Atomic.Computation()`"
   ]
  },
  {
   "cell_type": "code",
   "execution_count": 6,
   "metadata": {
    "scrolled": true
   },
   "outputs": [
    {
     "name": "stdout",
     "output_type": "stream",
     "text": [
      "\n",
      "... in performSCF ...\n",
      ">> include Configuration: 1s_1/2^2 \n",
      ">> include Configuration: 1s_1/2^1 2s_1/2^1 \n",
      ">> include Configuration: 1s_1/2^1 2p_1/2^0 2p_3/2^1 \n",
      ">> include Configuration: 1s_1/2^1 2p_1/2^1 2p_3/2^0 \n",
      "(Re-) Define a new standard subshell list.\n",
      "Start SCF process with hydrogenic orbitals.\n",
      ">> (Re-) Define a storage array for various B-spline matrices:\n",
      "Nuclear model = Fermi nuclear model for Z = 26.0 with mass = 55.38, radius R = 3.756573410087755 fm and nuclear spin I = 0, dipole moment mu = 0.0 and quadrupole moment Q = 0.0. \n",
      "Generate hydrogenic orbital for subshell 1s_1/2 \n",
      "  -----------------------------------------------------------------------------\n",
      "   Index    Subshell     Energies [a.u.]    Dirac-E  [a.u.]     Delta-E / |E|    \n",
      "  -----------------------------------------------------------------------------\n",
      "      1      1s_1/2      -3.41095882e+02    -3.41097837e+02    +5.73311610e-06    \n",
      "      2      2s_1/2      -8.54687357e+01    -8.54689584e+01    +2.60532193e-06    \n",
      "      3      3s_1/2      -3.78995842e+01    -3.78994478e+01    -3.59853081e-06    \n",
      "      4      4s_1/2      -2.12867978e+01    -2.12819385e+01    -2.28278309e-04    \n",
      "      5      5s_1/2      -1.36512733e+01    -1.36039714e+01    -3.46501490e-03    \n",
      "      6      6s_1/2      -1.02310357e+01    -9.43887322e+00    -7.74273999e-02    \n",
      "      7      7s_1/2      -8.90147750e+00    -6.93005925e+00    -2.21470902e-01    \n",
      "      8      8s_1/2      -6.53712432e+00    -5.30306679e+00    -1.88776819e-01    \n",
      "      9      9s_1/2      -4.74910062e+00    -4.18833237e+00    -1.18078832e-01    \n",
      "     10     10s_1/2      -3.43194675e+00    -3.39139342e+00    -1.18164221e-02    \n",
      "     11     11s_1/2      -2.46309678e+00    -2.80200932e+00    +1.37596111e-01    \n",
      "     12     12s_1/2      -1.75806827e+00    -2.35390152e+00    +3.38913601e-01    \n",
      "     13     13s_1/2      -1.25004874e+00    -2.00527939e+00    +6.04160967e-01    \n",
      "     14     14s_1/2      -8.86597613e-01    -1.72873456e+00    +9.49852488e-01    \n",
      "     15     15s_1/2      -6.27912489e-01    -1.50568590e+00    +1.39792316e+00    \n",
      "     16     16s_1/2      -4.44558882e-01    -1.32317551e+00    +1.97637852e+00    \n",
      "     17     17s_1/2      -3.15160993e-01    -1.17194372e+00    +2.71855573e+00    \n",
      "     18     18s_1/2      -2.24399732e-01    -1.04523122e+00    +3.65789868e+00    \n",
      "     19     19s_1/2      -1.61373646e-01    -9.38010549e-01    +4.81266253e+00    \n",
      "     20     20s_1/2      -1.18244952e-01    -8.46479707e-01    +6.15869635e+00    \n",
      "     21     21s_1/2      -8.92164576e-02    -7.67720412e-01    +7.60514341e+00    \n",
      "     22     22s_1/2      -6.99543070e-02    -6.99462612e-01    +8.99884986e+00    \n",
      "     23     23s_1/2      -5.73217477e-02    -6.39919074e-01    +1.01636351e+01    \n",
      "     24     24s_1/2      -4.91683807e-02    -5.87667202e-01    +1.09521366e+01    \n",
      "     25     25s_1/2      -4.42613671e-02    -5.41563273e-01    +1.12355749e+01    \n",
      "     26     26s_1/2      +6.27812454e-01    -5.00679321e-01    +1.79749823e+00    \n",
      "     27     27s_1/2      +4.97941506e+01    -4.64256076e-01    +1.00932351e+00    \n",
      "     28     28s_1/2      +1.91823197e+02    -4.31667457e-01    +1.00225034e+00    \n",
      "     29     29s_1/2      +5.34483383e+02    -4.02393493e-01    +1.00075286e+00    \n",
      "     30     30s_1/2      +1.28228673e+03    -3.75999447e-01    +1.00029323e+00    \n",
      "     31     31s_1/2      +2.79476398e+03    -3.52119585e-01    +1.00012599e+00    \n",
      "     32     32s_1/2      +5.64235972e+03    -3.30444442e-01    +1.00005856e+00    \n",
      "     33     33s_1/2      +1.06240966e+04    -3.10710739e-01    +1.00002925e+00    \n",
      "     34     34s_1/2      +1.87571390e+04    -2.92693357e-01    +1.00001560e+00    \n",
      "     35     35s_1/2      +3.13229060e+04    -2.76198883e-01    +1.00000882e+00    \n",
      "     36     36s_1/2      +5.00281705e+04    -2.61060402e-01    +1.00000522e+00    \n",
      "     37     37s_1/2      +7.72671434e+04    -2.47133255e-01    +1.00000320e+00    \n",
      "     38     38s_1/2      +1.16461245e+05    -2.34291570e-01    +1.00000201e+00    \n",
      "      :       :    \n",
      "     55     55s_1/2      +6.29827059e+07    -1.11808377e-01    +1.00000000e+00    \n",
      "     56     56s_1/2      +9.47695744e+07    -1.07849636e-01    +1.00000000e+00    \n",
      "     57     57s_1/2      +1.47721436e+08    -1.04097479e-01    +1.00000000e+00    \n",
      "     58     58s_1/2      +2.42834068e+08    -1.00537779e-01    +1.00000000e+00    \n",
      "     59     59s_1/2      +4.54227116e+08    -9.71575946e-02    +1.00000000e+00    \n",
      "     60     60s_1/2      +1.07307196e+09    -9.39450561e-02    +1.00000000e+00    \n",
      "  -----------------------------------------------------------------------------\n",
      ">> Use hydrogenic orbital from this symmetry block also for 1s_1/2.\n",
      ">> Use hydrogenic orbital from this symmetry block also for 2s_1/2.\n",
      "Generate hydrogenic orbital for subshell 2p_1/2 \n",
      "  -----------------------------------------------------------------------------\n",
      "   Index    Subshell     Energies [a.u.]    Dirac-E  [a.u.]     Delta-E / |E|    \n",
      "  -----------------------------------------------------------------------------\n",
      "      1      2p_1/2      -8.54689642e+01    -8.54689584e+01    -6.80044758e-08    \n",
      "      2      3p_1/2      -3.78995278e+01    -3.78994478e+01    -2.11029719e-06    \n",
      "      3      4p_1/2      -2.12837496e+01    -2.12819385e+01    -8.50930158e-05    \n",
      "      4      5p_1/2      -1.36166000e+01    -1.36039714e+01    -9.27445742e-04    \n",
      "      5      6p_1/2      -9.52949475e+00    -9.43887322e+00    -9.50958442e-03    \n",
      "      6      7p_1/2      -7.59092133e+00    -6.93005925e+00    -8.70595350e-02    \n",
      "      7      8p_1/2      -6.26393768e+00    -5.30306679e+00    -1.53397262e-01    \n",
      "      8      9p_1/2      -4.66547863e+00    -4.18833237e+00    -1.02271664e-01    \n",
      "      9     10p_1/2      -3.39526752e+00    -3.39139342e+00    -1.14102914e-03    \n",
      "     10     11p_1/2      -2.44567693e+00    -2.80200932e+00    +1.45698882e-01    \n",
      "     11     12p_1/2      -1.74965257e+00    -2.35390152e+00    +3.45353681e-01    \n",
      "     12     13p_1/2      -1.24597526e+00    -2.00527939e+00    +6.09405470e-01    \n",
      "     13     14p_1/2      -8.84629679e-01    -1.72873456e+00    +9.54190101e-01    \n",
      "     14     15p_1/2      -6.26963609e-01    -1.50568590e+00    +1.40155230e+00    \n",
      "     15     16p_1/2      -4.44101526e-01    -1.32317551e+00    +1.97944373e+00    \n",
      "     16     17p_1/2      -3.14940061e-01    -1.17194372e+00    +2.72116432e+00    \n",
      "     17     18p_1/2      -2.24292289e-01    -1.04523122e+00    +3.66012996e+00    \n",
      "     18     19p_1/2      -1.61320585e-01    -9.38010549e-01    +4.81457444e+00    \n",
      "     19     20p_1/2      -1.18217992e-01    -8.46479707e-01    +6.16032892e+00    \n",
      "     20     21p_1/2      -8.92021891e-02    -7.67720412e-01    +7.60651986e+00    \n",
      "     21     22p_1/2      -6.99463912e-02    -6.99462612e-01    +8.99998141e+00    \n",
      "     22     23p_1/2      -5.73171393e-02    -6.39919074e-01    +1.01645327e+01    \n",
      "     23     24p_1/2      -4.91655478e-02    -5.87667202e-01    +1.09528253e+01    \n",
      "     24     25p_1/2      -4.42596549e-02    -5.41563273e-01    +1.12360482e+01    \n",
      "     25     26p_1/2      +2.00954176e+00    -5.00679321e-01    +1.24915099e+00    \n",
      "     26     27p_1/2      +4.57272534e+01    -4.64256076e-01    +1.01015272e+00    \n",
      "     27     28p_1/2      +1.62576224e+02    -4.31667457e-01    +1.00265517e+00    \n",
      "     28     29p_1/2      +4.31028609e+02    -4.02393493e-01    +1.00093357e+00    \n",
      "     29     30p_1/2      +1.00329646e+03    -3.75999447e-01    +1.00037476e+00    \n",
      "     30     31p_1/2      +2.15717399e+03    -3.52119585e-01    +1.00016323e+00    \n",
      "     31     32p_1/2      +4.35544253e+03    -3.30444442e-01    +1.00007587e+00    \n",
      "     32     33p_1/2      +8.28354199e+03    -3.10710739e-01    +1.00003751e+00    \n",
      "     33     34p_1/2      +1.48485600e+04    -2.92693357e-01    +1.00001971e+00    \n",
      "     34     35p_1/2      +2.51907929e+04    -2.76198883e-01    +1.00001096e+00    \n",
      "     35     36p_1/2      +4.07882898e+04    -2.61060402e-01    +1.00000640e+00    \n",
      "     36     37p_1/2      +6.36697083e+04    -2.47133255e-01    +1.00000388e+00    \n",
      "     37     38p_1/2      +9.67109957e+04    -2.34291570e-01    +1.00000242e+00    \n",
      "     38     39p_1/2      +1.44023520e+05    -2.22425411e-01    +1.00000154e+00    \n",
      "      :       :    \n",
      "     55     56p_1/2      +7.41660861e+07    -1.07849636e-01    +1.00000000e+00    \n",
      "     56     57p_1/2      +1.11711203e+08    -1.04097479e-01    +1.00000000e+00    \n",
      "     57     58p_1/2      +1.74047113e+08    -1.00537779e-01    +1.00000000e+00    \n",
      "     58     59p_1/2      +2.87388758e+08    -9.71575946e-02    +1.00000000e+00    \n",
      "     59     60p_1/2      +5.37338500e+08    -9.39450561e-02    +1.00000000e+00    \n",
      "     60     61p_1/2      +1.26763330e+09    -9.08892574e-02    +1.00000000e+00    \n",
      "  -----------------------------------------------------------------------------\n",
      ">> Use hydrogenic orbital from this symmetry block also for 2p_1/2.\n",
      "Generate hydrogenic orbital for subshell 2p_3/2 \n"
     ]
    },
    {
     "name": "stdout",
     "output_type": "stream",
     "text": [
      "  -----------------------------------------------------------------------------\n",
      "   Index    Subshell     Energies [a.u.]    Dirac-E  [a.u.]     Delta-E / |E|    \n",
      "  -----------------------------------------------------------------------------\n",
      "      1      2p_3/2      -8.46909855e+01    -8.46909743e+01    -1.32105005e-07    \n",
      "      2      3p_3/2      -3.76688688e+01    -3.76687634e+01    -2.79773042e-06    \n",
      "      3      4p_3/2      -2.11887506e+01    -2.11846929e+01    -1.91502660e-04    \n",
      "      4      5p_3/2      -1.36295960e+01    -1.35542226e+01    -5.53012776e-03    \n",
      "      5      6p_3/2      -1.13122538e+01    -9.41010352e+00    -1.68149540e-01    \n",
      "      6      7p_3/2      -9.13908230e+00    -6.91195226e+00    -2.43692962e-01    \n",
      "      7      8p_3/2      -6.57908674e+00    -5.29094223e+00    -1.95793819e-01    \n",
      "      8      9p_3/2      -4.77192752e+00    -4.17982022e+00    -1.24081369e-01    \n",
      "      9     10p_3/2      -3.45174310e+00    -3.38519008e+00    -1.92809880e-02    \n",
      "     10     11p_3/2      -2.48775329e+00    -2.79734996e+00    +1.24448299e-01    \n",
      "     11     12p_3/2      -1.85772746e+00    -2.35031348e+00    +2.65155161e-01    \n",
      "     12     13p_3/2      -1.67298886e+00    -2.00245788e+00    +1.96934381e-01    \n",
      "     13     14p_3/2      -1.24128178e+00    -1.72647591e+00    +3.90881539e-01    \n",
      "     14     15p_3/2      -8.84010745e-01    -1.50384982e+00    +7.01166904e-01    \n",
      "     15     16p_3/2      -6.26940893e-01    -1.32166284e+00    +1.10811395e+00    \n",
      "     16     17p_3/2      -4.44155400e-01    -1.17068276e+00    +1.63575036e+00    \n",
      "     17     18p_3/2      -3.14982770e-01    -1.04416907e+00    +2.31500378e+00    \n",
      "     18     19p_3/2      -2.24316868e-01    -9.37107535e-01    +3.17760618e+00    \n",
      "     19     20p_3/2      -1.61333010e-01    -8.45705558e-01    +4.24198711e+00    \n",
      "     20     21p_3/2      -1.18223702e-01    -7.67051729e-01    +5.48813830e+00    \n",
      "     21     22p_3/2      -8.92043971e-02    -6.98881076e-01    +6.83460344e+00    \n",
      "     22     23p_3/2      -6.99467422e-02    -6.39410177e-01    +8.14138611e+00    \n",
      "     23     24p_3/2      -5.73164532e-02    -5.87219333e-01    +9.24521407e+00    \n",
      "     24     25p_3/2      -4.91642612e-02    -5.41167051e-01    +1.00073260e+01    \n",
      "     25     26p_3/2      -4.42577673e-02    -5.00327101e-01    +1.03048428e+01    \n",
      "     26     27p_3/2      +3.57610986e+01    -4.63941576e-01    +1.01297336e+00    \n",
      "     27     28p_3/2      +1.41779094e+02    -4.31385479e-01    +1.00304266e+00    \n",
      "     28     29p_3/2      +3.89440728e+02    -4.02139702e-01    +1.00103261e+00    \n",
      "     29     30p_3/2      +9.23066139e+02    -3.75770208e-01    +1.00040709e+00    \n",
      "     30     31p_3/2      +2.00929343e+03    -3.51911831e-01    +1.00017514e+00    \n",
      "     31     32p_3/2      +4.09900068e+03    -3.30255569e-01    +1.00008057e+00    \n",
      "     32     33p_3/2      +7.87036256e+03    -3.10538528e-01    +1.00003946e+00    \n",
      "     33     34p_3/2      +1.42302012e+04    -2.92535903e-01    +1.00002056e+00    \n",
      "     34     35p_3/2      +2.43197548e+04    -2.76054548e-01    +1.00001135e+00    \n",
      "     35     36p_3/2      +3.96125671e+04    -2.60927768e-01    +1.00000659e+00    \n",
      "     36     37p_3/2      +6.21282334e+04    -2.47011090e-01    +1.00000398e+00    \n",
      "     37     38p_3/2      +9.47354856e+04    -2.34178802e-01    +1.00000247e+00    \n",
      "     38     39p_3/2      +1.41547913e+05    -2.22321100e-01    +1.00000157e+00    \n",
      "      :       :    \n",
      "     55     56p_3/2      +7.61716803e+07    -1.07814412e-01    +1.00000000e+00    \n",
      "     56     57p_3/2      +1.16282188e+08    -1.04064077e-01    +1.00000000e+00    \n",
      "     57     58p_3/2      +1.85096390e+08    -1.00506075e-01    +1.00000000e+00    \n",
      "     58     59p_3/2      +3.18904219e+08    -9.71274767e-02    +1.00000000e+00    \n",
      "     59     60p_3/2      +6.47240399e+08    -9.39164194e-02    +1.00000000e+00    \n",
      "     60     61p_3/2      +2.01299416e+09    -9.08620064e-02    +1.00000000e+00    \n",
      "  -----------------------------------------------------------------------------\n",
      ">> Use hydrogenic orbital from this symmetry block also for 2p_3/2.\n",
      "(Re-) Define the standard grid with 392 grid points.\n",
      ">>  for various B-spline matrices:\n",
      "\n",
      "Iteration 1 for symmetries ... \n",
      "  1s_1/2::  en [a.u.] = -3.2604891e+02;   self-cons'cy = 2.2554e-02  [1.0000e+02 for sym-block kappa = -1]\n",
      "  2s_1/2::  en [a.u.] = -7.8008695e+01;   self-cons'cy = 4.5633e-02  [1.0000e+02 for sym-block kappa = -1]\n",
      "  2p_1/2::  en [a.u.] = -7.6964275e+01;   self-cons'cy = 5.2358e-02  [1.0000e+02 for sym-block kappa = 1]\n",
      "  2p_3/2::  en [a.u.] = -7.6279131e+01;   self-cons'cy = 5.2257e-02  [1.0000e+02 for sym-block kappa = -2]\n",
      "\n",
      "Iteration 2 for symmetries ... \n",
      "  1s_1/2::  en [a.u.] = -3.2625928e+02;   self-cons'cy = 3.2251e-04  [3.1820e-03 for sym-block kappa = -1]\n",
      "  2s_1/2::  en [a.u.] = -7.8074291e+01;   self-cons'cy = 4.2026e-04  [3.1820e-03 for sym-block kappa = -1]\n",
      "  2p_1/2::  en [a.u.] = -7.7023437e+01;   self-cons'cy = 3.8420e-04  [1.7944e-03 for sym-block kappa = 1]\n",
      "  2p_3/2::  en [a.u.] = -7.6323938e+01;   self-cons'cy = 2.9362e-04  [4.7072e-03 for sym-block kappa = -2]\n",
      "\n",
      "Iteration 3 for symmetries ... \n",
      "  1s_1/2::  en [a.u.] = -3.2625691e+02;   self-cons'cy = 3.6261e-06  [2.7439e-05 for sym-block kappa = -1]\n",
      "  2s_1/2::  en [a.u.] = -7.8073708e+01;   self-cons'cy = 3.7298e-06  [2.7439e-05 for sym-block kappa = -1]\n",
      "  2p_1/2::  en [a.u.] = -7.7023021e+01;   self-cons'cy = 2.7004e-06  [1.2638e-05 for sym-block kappa = 1]\n",
      "  2p_3/2::  en [a.u.] = -7.6323645e+01;   self-cons'cy = 1.9213e-06  [3.1378e-05 for sym-block kappa = -2]\n",
      "\n",
      "Iteration 4 for symmetries ... \n",
      "  1s_1/2::  en [a.u.] = -3.2625694e+02;   self-cons'cy = 3.7822e-08  [2.4392e-07 for sym-block kappa = -1]\n",
      "  2s_1/2::  en [a.u.] = -7.8073714e+01;   self-cons'cy = 3.3849e-08  [2.4392e-07 for sym-block kappa = -1]\n",
      "  2p_1/2::  en [a.u.] = -7.7023024e+01;   self-cons'cy = 1.8657e-08  [8.7104e-08 for sym-block kappa = 1]\n",
      "  2p_3/2::  en [a.u.] = -7.6323647e+01;   self-cons'cy = 1.2956e-08  [2.1099e-07 for sym-block kappa = -2]\n",
      "Compute CI matrix of dimension 2 x 2 for the symmetry 1^- ...   ... done.\n",
      "Compute CI matrix of dimension 1 x 1 for the symmetry 2^- ...   ... done.\n",
      "Compute CI matrix of dimension 1 x 1 for the symmetry 1^+ ...   ... done.\n",
      "Compute CI matrix of dimension 1 x 1 for the symmetry 0^- ...   ... done.\n",
      "Compute CI matrix of dimension 2 x 2 for the symmetry 0^+ ...   ... done.\n",
      "\n",
      "  Eigenenergies:\n",
      "\n",
      "  Level  J Parity          Hartrees                    eV                   [eV]\n",
      "\n",
      "     1    0 +     -6.658095632820904e+02    -1.811760104227658e+04    -1.811760104227658e+04 \n",
      "     2    1 +     -4.216410809642261e+02    -1.147343821600763e+04    -1.147343821600763e+04 \n",
      "     3    0 -     -4.206382552708517e+02    -1.144614993895444e+04    -1.144614993895444e+04 \n",
      "     4    0 +     -4.205014337345760e+02    -1.144242683531500e+04    -1.144242683531500e+04 \n",
      "     5    1 -     -4.204990653586360e+02    -1.144236238852305e+04    -1.144236238852305e+04 \n",
      "     6    2 -     -4.199463162036456e+02    -1.142732131789438e+04    -1.142732131789438e+04 \n",
      "     7    1 -     -4.192626677670551e+02    -1.140871829638435e+04    -1.140871829638435e+04 \n",
      "\n",
      "  Energy of each level relative to immediately lower level:\n",
      "\n",
      "  Level  J Parity          Hartrees                    eV                   [eV]\n",
      "\n",
      "     2    1 +     2.441684823178643e+02    6.644162826268949e+03    6.644162826268949e+03 \n",
      "     3    0 -     1.002825693374405e+00    2.728827705318508e+01    2.728827705318508e+01 \n",
      "     4    0 +     1.368215362757041e-01    3.723103639447618e+00    3.723103639447618e+00 \n",
      "     5    1 -     2.368375940022815e-03    6.444679194444120e-02    6.444679194444120e-02 \n",
      "     6    2 -     5.527491549904084e-01    1.504107062867281e+01    1.504107062867281e+01 \n",
      "     7    1 -     6.836484365904312e-01    1.860302151003172e+01    1.860302151003172e+01 \n",
      "\n",
      "  Energy of each level relative to lowest level:\n",
      "\n",
      "  Level  J Parity          Hartrees                    eV                   [eV]\n",
      "\n",
      "     2    1 +     2.441684823178643e+02    6.644162826268949e+03    6.644162826268949e+03 \n",
      "     3    0 -     2.451713080112387e+02    6.671451103322134e+03    6.671451103322134e+03 \n",
      "     4    0 +     2.453081295475144e+02    6.675174206961582e+03    6.675174206961582e+03 \n",
      "     5    1 -     2.453104979234544e+02    6.675238653753527e+03    6.675238653753527e+03 \n",
      "     6    2 -     2.458632470784448e+02    6.690279724382200e+03    6.690279724382200e+03 \n",
      "     7    1 -     2.465468955150353e+02    6.708882745892231e+03    6.708882745892231e+03 \n",
      "\n",
      "\u001b[92mPlasmaShift.computeOutcomes(): The computation of plasma-shifts starts now ... \u001b[39m\n",
      "\u001b[92m---------------------------------------------------------------------------------- \u001b[39m\n"
     ]
    },
    {
     "name": "stdout",
     "output_type": "stream",
     "text": [
      "Compute DebyeHueckel-CI matrix of dimension 2 x 2 for the symmetry 1^- ...   ... done.\n",
      "Compute DebyeHueckel-CI matrix of dimension 1 x 1 for the symmetry 2^- ...   ... done.\n",
      "Compute DebyeHueckel-CI matrix of dimension 1 x 1 for the symmetry 1^+ ...   ... done.\n",
      "Compute DebyeHueckel-CI matrix of dimension 1 x 1 for the symmetry 0^- ...   ... done.\n",
      "Compute DebyeHueckel-CI matrix of dimension 2 x 2 for the symmetry 0^+ ...   ... done.\n",
      "\n",
      "  Eigenenergies:\n",
      "\n",
      "  Level  J Parity          Hartrees                    eV                   [eV]\n",
      "\n",
      "     1    0 +     -6.556674868440225e+02    -1.784162108527597e+04    -1.784162108527597e+04 \n",
      "     2    1 +     -4.115854333709333e+02    -1.119981010766545e+04    -1.119981010766545e+04 \n",
      "     3    0 -     -4.105643138011949e+02    -1.117202402888073e+04    -1.117202402888073e+04 \n",
      "     4    0 +     -4.104456648461896e+02    -1.116879542636521e+04    -1.116879542636521e+04 \n",
      "     5    1 -     -4.104252682419944e+02    -1.116824040649496e+04    -1.116824040649496e+04 \n",
      "     6    2 -     -4.098735418000111e+02    -1.115322716530471e+04    -1.115322716530471e+04 \n",
      "     7    1 -     -4.091899426871867e+02    -1.113462548596271e+04    -1.113462548596271e+04 \n",
      "\n",
      "  Energy of each level relative to immediately lower level:\n",
      "\n",
      "  Level  J Parity          Hartrees                    eV                   [eV]\n",
      "\n",
      "     2    1 +     2.440820534730892e+02    6.641810977610512e+03    6.641810977610512e+03 \n",
      "     3    0 -     1.021119569738403e+00    2.778607878472799e+01    2.778607878472799e+01 \n",
      "     4    0 +     1.186489550052556e-01    3.228602515517622e+00    3.228602515517622e+00 \n",
      "     5    1 -     2.039660419524125e-02    5.550198702538611e-01    5.550198702538611e-01 \n",
      "     6    2 -     5.517264419832486e-01    1.501324119024731e+01    1.501324119024731e+01 \n",
      "     7    1 -     6.835991128244814e-01    1.860167934199649e+01    1.860167934199649e+01 \n",
      "\n",
      "  Energy of each level relative to lowest level:\n",
      "\n",
      "  Level  J Parity          Hartrees                    eV                   [eV]\n",
      "\n",
      "     2    1 +     2.440820534730892e+02    6.641810977610512e+03    6.641810977610512e+03 \n",
      "     3    0 -     2.451031730428276e+02    6.669597056395241e+03    6.669597056395241e+03 \n",
      "     4    0 +     2.452218219978329e+02    6.672825658910758e+03    6.672825658910758e+03 \n",
      "     5    1 -     2.452422186020281e+02    6.673380678781012e+03    6.673380678781012e+03 \n",
      "     6    2 -     2.457939450440114e+02    6.688393919971259e+03    6.688393919971259e+03 \n",
      "     7    1 -     2.464775441568358e+02    6.706995599313255e+03    6.706995599313255e+03 \n",
      " \n",
      " \n",
      "  Plasma shifts for Debye-Hueckel model:\n",
      "\n",
      "     + lambda = 0.2\n",
      "     + Plasma screening included perturbatively in CI matrix but not in SCF field.\n",
      " \n",
      "  ----------------------------------------------------------------\n",
      "     Level        J^P        Energy w/o plasma        Delta E       \n",
      "                                   [eV]                [eV]         \n",
      "  ----------------------------------------------------------------\n",
      "         1        0 +         -1.81176010e+04     2.75979957e+02\n",
      "         2        1 +         -1.14734382e+04     2.73628108e+02\n",
      "         3        0 -         -1.14461499e+04     2.74125910e+02\n",
      "         4        0 +         -1.14424268e+04     2.73631409e+02\n",
      "         5        1 -         -1.14423624e+04     2.74121982e+02\n",
      "         6        2 -         -1.14273213e+04     2.74094153e+02\n",
      "         7        1 -         -1.14087183e+04     2.74092810e+02\n",
      "  ----------------------------------------------------------------\n",
      "\n",
      "\n",
      "\u001b[95mConstants.warn():  Reset global array GBL_WARNINGS.\u001b[39m"
     ]
    }
   ],
   "source": [
    "comp = Atomic.Computation(Atomic.Computation(), name=\"Debye-Huckel plasma shifts\", grid=Radial.Grid(true),\n",
    "                          nuclearModel=JAC.Nuclear.Model(26.), \n",
    "                          configs=[Configuration(\"1s^2\"), Configuration(\"1s 2s\"), Configuration(\"1s 2p\")], \n",
    "                          propertySettings=[ pSettings ] )\n",
    "perform(comp)"
   ]
  },
  {
   "cell_type": "markdown",
   "metadata": {},
   "source": [
    "\n",
    "We could easily repeat the computations with `lambdaDebye = 0.` to see that **NO** shift will occur if the screening is set to zero.\n",
    "    "
   ]
  },
  {
   "cell_type": "code",
   "execution_count": null,
   "metadata": {
    "scrolled": true
   },
   "outputs": [],
   "source": []
  }
 ],
 "metadata": {
  "@webio": {
   "lastCommId": null,
   "lastKernelId": null
  },
  "kernelspec": {
   "display_name": "Julia 1.6.2",
   "language": "julia",
   "name": "julia-1.6"
  },
  "language_info": {
   "file_extension": ".jl",
   "mimetype": "application/julia",
   "name": "julia",
   "version": "1.6.2"
  }
 },
 "nbformat": 4,
 "nbformat_minor": 4
}
